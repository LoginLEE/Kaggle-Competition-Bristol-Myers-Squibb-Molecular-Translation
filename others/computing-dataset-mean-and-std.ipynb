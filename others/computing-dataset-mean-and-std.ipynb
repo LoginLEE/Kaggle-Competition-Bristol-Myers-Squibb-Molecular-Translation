{
 "cells": [
  {
   "cell_type": "markdown",
   "id": "outside-improvement",
   "metadata": {
    "papermill": {
     "duration": 0.013985,
     "end_time": "2021-04-24T16:40:44.858817",
     "exception": false,
     "start_time": "2021-04-24T16:40:44.844832",
     "status": "completed"
    },
    "tags": []
   },
   "source": [
    "# SUMMARY\n",
    "\n",
    "This notebook demonstrates how to compute mean and standard deviation of training and test images using PyTorch. Knowing mean and STD may be helpful for normalizing images within the augmentation pipeline. While computing mean is easy (we can simply average it over batches), standard deviation is a bit more tricky: averaging STDs across batches is not the same as the overall STD. Let's see how to do it properly!\n",
    "\n",
    "\n",
    "### TL;DR\n",
    "\n",
    "- train images: `mean = 0.9871, std = 0.0888`\n",
    "- test images:  `mean = 0.9863, std = 0.0921`"
   ]
  },
  {
   "cell_type": "markdown",
   "id": "elegant-sacrifice",
   "metadata": {
    "papermill": {
     "duration": 0.012505,
     "end_time": "2021-04-24T16:40:44.884318",
     "exception": false,
     "start_time": "2021-04-24T16:40:44.871813",
     "status": "completed"
    },
    "tags": []
   },
   "source": [
    "# PREPARATIONS\n",
    "\n",
    "First, we import the usuall libraries and specify relevant parameters. No need to use GPU because there is no modeling involved."
   ]
  },
  {
   "cell_type": "code",
   "execution_count": 1,
   "id": "revolutionary-range",
   "metadata": {
    "execution": {
     "iopub.execute_input": "2021-04-24T16:40:44.918578Z",
     "iopub.status.busy": "2021-04-24T16:40:44.917897Z",
     "iopub.status.idle": "2021-04-24T16:40:49.454961Z",
     "shell.execute_reply": "2021-04-24T16:40:49.455459Z"
    },
    "papermill": {
     "duration": 4.558782,
     "end_time": "2021-04-24T16:40:49.455839",
     "exception": false,
     "start_time": "2021-04-24T16:40:44.897057",
     "status": "completed"
    },
    "tags": []
   },
   "outputs": [],
   "source": [
    "####### PACKAGES\n",
    "\n",
    "import numpy as np\n",
    "import pandas as pd\n",
    "\n",
    "import torch\n",
    "import torchvision\n",
    "from torch.utils.data import Dataset, DataLoader\n",
    "\n",
    "import albumentations as A\n",
    "from albumentations.pytorch import ToTensorV2\n",
    "\n",
    "import cv2\n",
    "\n",
    "from tqdm import tqdm\n",
    "\n",
    "import matplotlib.pyplot as plt\n",
    "%matplotlib inline"
   ]
  },
  {
   "cell_type": "code",
   "execution_count": 2,
   "id": "confirmed-toronto",
   "metadata": {
    "execution": {
     "iopub.execute_input": "2021-04-24T16:40:49.490503Z",
     "iopub.status.busy": "2021-04-24T16:40:49.489713Z",
     "iopub.status.idle": "2021-04-24T16:40:49.493245Z",
     "shell.execute_reply": "2021-04-24T16:40:49.492538Z"
    },
    "papermill": {
     "duration": 0.024077,
     "end_time": "2021-04-24T16:40:49.493407",
     "exception": false,
     "start_time": "2021-04-24T16:40:49.469330",
     "status": "completed"
    },
    "tags": []
   },
   "outputs": [],
   "source": [
    "####### PARAMS\n",
    "\n",
    "device      = torch.device('cpu') \n",
    "num_workers = 4\n",
    "batch_size  = 128\n",
    "image_size  = 224\n",
    "data_path   = '/kaggle/input/bms-molecular-translation/'"
   ]
  },
  {
   "cell_type": "markdown",
   "id": "interracial-panic",
   "metadata": {
    "papermill": {
     "duration": 0.012748,
     "end_time": "2021-04-24T16:40:49.519222",
     "exception": false,
     "start_time": "2021-04-24T16:40:49.506474",
     "status": "completed"
    },
    "tags": []
   },
   "source": [
    "# DATA PREP\n",
    "\n",
    "Now, let's set up a Dataset and a Dataloader."
   ]
  },
  {
   "cell_type": "code",
   "execution_count": 3,
   "id": "micro-campaign",
   "metadata": {
    "execution": {
     "iopub.execute_input": "2021-04-24T16:40:49.552916Z",
     "iopub.status.busy": "2021-04-24T16:40:49.552195Z",
     "iopub.status.idle": "2021-04-24T16:41:04.223702Z",
     "shell.execute_reply": "2021-04-24T16:41:04.223026Z"
    },
    "papermill": {
     "duration": 14.691505,
     "end_time": "2021-04-24T16:41:04.223893",
     "exception": false,
     "start_time": "2021-04-24T16:40:49.532388",
     "status": "completed"
    },
    "tags": []
   },
   "outputs": [
    {
     "data": {
      "text/html": [
       "<div>\n",
       "<style scoped>\n",
       "    .dataframe tbody tr th:only-of-type {\n",
       "        vertical-align: middle;\n",
       "    }\n",
       "\n",
       "    .dataframe tbody tr th {\n",
       "        vertical-align: top;\n",
       "    }\n",
       "\n",
       "    .dataframe thead th {\n",
       "        text-align: right;\n",
       "    }\n",
       "</style>\n",
       "<table border=\"1\" class=\"dataframe\">\n",
       "  <thead>\n",
       "    <tr style=\"text-align: right;\">\n",
       "      <th></th>\n",
       "      <th>image_id</th>\n",
       "      <th>InChI</th>\n",
       "      <th>file_path</th>\n",
       "    </tr>\n",
       "  </thead>\n",
       "  <tbody>\n",
       "    <tr>\n",
       "      <th>0</th>\n",
       "      <td>000011a64c74</td>\n",
       "      <td>InChI=1S/C13H20OS/c1-9(2)8-15-13-6-5-10(3)7-12...</td>\n",
       "      <td>/kaggle/input/bms-molecular-translation/train/...</td>\n",
       "    </tr>\n",
       "    <tr>\n",
       "      <th>1</th>\n",
       "      <td>000019cc0cd2</td>\n",
       "      <td>InChI=1S/C21H30O4/c1-12(22)25-14-6-8-20(2)13(1...</td>\n",
       "      <td>/kaggle/input/bms-molecular-translation/train/...</td>\n",
       "    </tr>\n",
       "    <tr>\n",
       "      <th>2</th>\n",
       "      <td>0000252b6d2b</td>\n",
       "      <td>InChI=1S/C24H23N5O4/c1-14-13-15(7-8-17(14)28-1...</td>\n",
       "      <td>/kaggle/input/bms-molecular-translation/train/...</td>\n",
       "    </tr>\n",
       "    <tr>\n",
       "      <th>3</th>\n",
       "      <td>000026b49b7e</td>\n",
       "      <td>InChI=1S/C17H24N2O4S/c1-12(20)18-13(14-7-6-10-...</td>\n",
       "      <td>/kaggle/input/bms-molecular-translation/train/...</td>\n",
       "    </tr>\n",
       "    <tr>\n",
       "      <th>4</th>\n",
       "      <td>000026fc6c36</td>\n",
       "      <td>InChI=1S/C10H19N3O2S/c1-15-10(14)12-8-4-6-13(7...</td>\n",
       "      <td>/kaggle/input/bms-molecular-translation/train/...</td>\n",
       "    </tr>\n",
       "  </tbody>\n",
       "</table>\n",
       "</div>"
      ],
      "text/plain": [
       "       image_id                                              InChI  \\\n",
       "0  000011a64c74  InChI=1S/C13H20OS/c1-9(2)8-15-13-6-5-10(3)7-12...   \n",
       "1  000019cc0cd2  InChI=1S/C21H30O4/c1-12(22)25-14-6-8-20(2)13(1...   \n",
       "2  0000252b6d2b  InChI=1S/C24H23N5O4/c1-14-13-15(7-8-17(14)28-1...   \n",
       "3  000026b49b7e  InChI=1S/C17H24N2O4S/c1-12(20)18-13(14-7-6-10-...   \n",
       "4  000026fc6c36  InChI=1S/C10H19N3O2S/c1-15-10(14)12-8-4-6-13(7...   \n",
       "\n",
       "                                           file_path  \n",
       "0  /kaggle/input/bms-molecular-translation/train/...  \n",
       "1  /kaggle/input/bms-molecular-translation/train/...  \n",
       "2  /kaggle/input/bms-molecular-translation/train/...  \n",
       "3  /kaggle/input/bms-molecular-translation/train/...  \n",
       "4  /kaggle/input/bms-molecular-translation/train/...  "
      ]
     },
     "execution_count": 3,
     "metadata": {},
     "output_type": "execute_result"
    }
   ],
   "source": [
    "###### DATA IMPORT\n",
    "\n",
    "df = pd.read_csv(data_path + 'train_labels.csv')\n",
    "\n",
    "def get_train_file_path(image_id):\n",
    "    return data_path + 'train/{}/{}/{}/{}.png'.format(image_id[0], image_id[1], image_id[2], image_id)\n",
    "\n",
    "df['file_path'] = df['image_id'].apply(get_train_file_path)\n",
    "df.head()"
   ]
  },
  {
   "cell_type": "code",
   "execution_count": 4,
   "id": "academic-barcelona",
   "metadata": {
    "execution": {
     "iopub.execute_input": "2021-04-24T16:41:04.261685Z",
     "iopub.status.busy": "2021-04-24T16:41:04.260967Z",
     "iopub.status.idle": "2021-04-24T16:41:04.265017Z",
     "shell.execute_reply": "2021-04-24T16:41:04.265565Z"
    },
    "papermill": {
     "duration": 0.028103,
     "end_time": "2021-04-24T16:41:04.265761",
     "exception": false,
     "start_time": "2021-04-24T16:41:04.237658",
     "status": "completed"
    },
    "tags": []
   },
   "outputs": [],
   "source": [
    "####### DATASET\n",
    "\n",
    "class ImageData(Dataset):\n",
    "    \n",
    "    def __init__(self, df, transform):\n",
    "        super().__init__()\n",
    "        self.df         = df\n",
    "        self.file_paths = df['file_path'].values\n",
    "        self.transform  = transform\n",
    "    \n",
    "    def __len__(self):\n",
    "        return len(self.df)\n",
    "    \n",
    "    def __getitem__(self, idx):\n",
    "        \n",
    "        # import\n",
    "        file_path = self.file_paths[idx]        \n",
    "        image     = cv2.imread(file_path, cv2.IMREAD_GRAYSCALE) \n",
    "        if image is None:\n",
    "            raise FileNotFoundError(file_path)\n",
    "            \n",
    "        # augmentations\n",
    "        if self.transform:\n",
    "            image = self.transform(image = image)['image']\n",
    "            \n",
    "        return image"
   ]
  },
  {
   "cell_type": "markdown",
   "id": "disturbed-sequence",
   "metadata": {
    "papermill": {
     "duration": 0.01331,
     "end_time": "2021-04-24T16:41:04.294495",
     "exception": false,
     "start_time": "2021-04-24T16:41:04.281185",
     "status": "completed"
    },
    "tags": []
   },
   "source": [
    "Our augmentation pipeline uses `A.Normalize()` with mean = 0 and std = 1 to scale pixel values from `[0, 255]` to `[0, 1]`."
   ]
  },
  {
   "cell_type": "code",
   "execution_count": 5,
   "id": "outdoor-latter",
   "metadata": {
    "execution": {
     "iopub.execute_input": "2021-04-24T16:41:04.329464Z",
     "iopub.status.busy": "2021-04-24T16:41:04.328799Z",
     "iopub.status.idle": "2021-04-24T16:41:04.332446Z",
     "shell.execute_reply": "2021-04-24T16:41:04.331850Z"
    },
    "papermill": {
     "duration": 0.024323,
     "end_time": "2021-04-24T16:41:04.332598",
     "exception": false,
     "start_time": "2021-04-24T16:41:04.308275",
     "status": "completed"
    },
    "tags": []
   },
   "outputs": [],
   "source": [
    "##### AUGMENTATIONS\n",
    "\n",
    "augs = A.Compose([A.Resize(height  = image_size, \n",
    "                           width   = image_size),\n",
    "                  A.Normalize(mean = (0), \n",
    "                              std  = (1)),\n",
    "                  ToTensorV2()])"
   ]
  },
  {
   "cell_type": "code",
   "execution_count": 6,
   "id": "handy-banana",
   "metadata": {
    "execution": {
     "iopub.execute_input": "2021-04-24T16:41:04.371256Z",
     "iopub.status.busy": "2021-04-24T16:41:04.370484Z",
     "iopub.status.idle": "2021-04-24T16:41:06.655941Z",
     "shell.execute_reply": "2021-04-24T16:41:06.655369Z"
    },
    "papermill": {
     "duration": 2.309596,
     "end_time": "2021-04-24T16:41:06.656109",
     "exception": false,
     "start_time": "2021-04-24T16:41:04.346513",
     "status": "completed"
    },
    "tags": []
   },
   "outputs": [
    {
     "data": {
      "image/png": "[encoded data removed]",
      "text/plain": [
       "<Figure size 1008x504 with 4 Axes>"
      ]
     },
     "metadata": {},
     "output_type": "display_data"
    }
   ],
   "source": [
    "####### EXAMINE SAMPLE BATCH\n",
    "\n",
    "# dataset\n",
    "image_dataset = ImageData(df        = df, \n",
    "                          transform = augs)\n",
    "\n",
    "# data loader\n",
    "image_loader = DataLoader(image_dataset, \n",
    "                          batch_size  = batch_size, \n",
    "                          shuffle     = False, \n",
    "                          num_workers = num_workers)\n",
    "\n",
    "# display images\n",
    "for batch_idx, inputs in enumerate(image_loader):\n",
    "    fig = plt.figure(figsize = (14, 7))\n",
    "    for i in range(4):\n",
    "        ax = fig.add_subplot(2, 4, i + 1, xticks = [], yticks = [])     \n",
    "        plt.imshow(inputs[i].numpy()[0, :, :], cmap = 'gray')\n",
    "    break"
   ]
  },
  {
   "cell_type": "markdown",
   "id": "decent-germany",
   "metadata": {
    "papermill": {
     "duration": 0.014833,
     "end_time": "2021-04-24T16:41:06.686394",
     "exception": false,
     "start_time": "2021-04-24T16:41:06.671561",
     "status": "completed"
    },
    "tags": []
   },
   "source": [
    "# CALCULATIONS\n",
    "\n",
    "The calculations are done in three steps:\n",
    "\n",
    "1. Define placeholders to store two batch-level stats: sum and squared sum of pixel values. The first will be used to compute the mean, and the latter will be needed for standard deviation calculations.\n",
    "2. Loop through the batches and add up sum and squared sum values.\n",
    "3. Perform final calculations to obtain data-level mean and standard deviation.\n",
    "\n",
    "## Training images"
   ]
  },
  {
   "cell_type": "code",
   "execution_count": 7,
   "id": "polish-reach",
   "metadata": {
    "execution": {
     "iopub.execute_input": "2021-04-24T16:41:06.728035Z",
     "iopub.status.busy": "2021-04-24T16:41:06.725906Z",
     "iopub.status.idle": "2021-04-24T18:08:24.643484Z",
     "shell.execute_reply": "2021-04-24T18:08:24.644099Z"
    },
    "papermill": {
     "duration": 5237.943832,
     "end_time": "2021-04-24T18:08:24.645530",
     "exception": false,
     "start_time": "2021-04-24T16:41:06.701698",
     "status": "completed"
    },
    "tags": []
   },
   "outputs": [
    {
     "name": "stderr",
     "output_type": "stream",
     "text": [
      "100%|██████████| 18939/18939 [1:27:17<00:00,  3.62it/s]\n"
     ]
    }
   ],
   "source": [
    "##### COMPUTE PIXEL SUM AND SQUARED SUM\n",
    "\n",
    "# placeholders\n",
    "psum    = torch.tensor([0.0])\n",
    "psum_sq = torch.tensor([0.0])\n",
    "\n",
    "# loop through images\n",
    "for inputs in tqdm(image_loader):\n",
    "    psum    += inputs.sum(axis        = [0, 2, 3])\n",
    "    psum_sq += (inputs ** 2).sum(axis = [0, 2, 3])"
   ]
  },
  {
   "cell_type": "markdown",
   "id": "familiar-involvement",
   "metadata": {
    "papermill": {
     "duration": 2.085084,
     "end_time": "2021-04-24T18:08:28.743622",
     "exception": false,
     "start_time": "2021-04-24T18:08:26.658538",
     "status": "completed"
    },
    "tags": []
   },
   "source": [
    "- to get the mean, we simply divide the sum of pixel values by `count` - the total number of pixels in the dataset computed as `len(df) * image_size * image_size`.\n",
    "- to get the standard deviation, we use the following equation: `total_std = sqrt(psum_sq / count - total_mean ** 2)`. Why is that so? Well, because this is how the variance equation can be simplified to make use of the sum of squares. If you are not sure about this, feel free to check out [this link](https://www.thoughtco.com/sum-of-squares-formula-shortcut-3126266) for some details.\n",
    "\n",
    "![variance equation](https://kozodoi.me/images/copied_from_nb/images/fig_variance.jpg)"
   ]
  },
  {
   "cell_type": "code",
   "execution_count": 8,
   "id": "therapeutic-birmingham",
   "metadata": {
    "execution": {
     "iopub.execute_input": "2021-04-24T18:08:32.778594Z",
     "iopub.status.busy": "2021-04-24T18:08:32.777925Z",
     "iopub.status.idle": "2021-04-24T18:08:32.853918Z",
     "shell.execute_reply": "2021-04-24T18:08:32.853291Z"
    },
    "papermill": {
     "duration": 2.114204,
     "end_time": "2021-04-24T18:08:32.854093",
     "exception": false,
     "start_time": "2021-04-24T18:08:30.739889",
     "status": "completed"
    },
    "tags": []
   },
   "outputs": [
    {
     "name": "stdout",
     "output_type": "stream",
     "text": [
      "Training data stats:\n",
      "- mean: 0.9871\n",
      "- std:  0.0888\n"
     ]
    }
   ],
   "source": [
    "##### FINAL CALCULATIONS\n",
    "\n",
    "# pixel count\n",
    "count = len(df) * image_size * image_size\n",
    "\n",
    "# mean and STD\n",
    "total_mean = psum / count\n",
    "total_var  = (psum_sq / count) - (total_mean ** 2)\n",
    "total_std  = torch.sqrt(total_var)\n",
    "\n",
    "# output\n",
    "print('Training data stats:')\n",
    "print('- mean: {:.4f}'.format(total_mean.item()))\n",
    "print('- std:  {:.4f}'.format(total_std.item()))"
   ]
  },
  {
   "cell_type": "markdown",
   "id": "czech-favorite",
   "metadata": {
    "papermill": {
     "duration": 2.067836,
     "end_time": "2021-04-24T18:08:37.052602",
     "exception": false,
     "start_time": "2021-04-24T18:08:34.984766",
     "status": "completed"
    },
    "tags": []
   },
   "source": [
    "## Test images"
   ]
  },
  {
   "cell_type": "code",
   "execution_count": 9,
   "id": "harmful-works",
   "metadata": {
    "execution": {
     "iopub.execute_input": "2021-04-24T18:08:41.085179Z",
     "iopub.status.busy": "2021-04-24T18:08:41.084467Z",
     "iopub.status.idle": "2021-04-24T18:08:45.282123Z",
     "shell.execute_reply": "2021-04-24T18:08:45.281449Z"
    },
    "papermill": {
     "duration": 6.20896,
     "end_time": "2021-04-24T18:08:45.282294",
     "exception": false,
     "start_time": "2021-04-24T18:08:39.073334",
     "status": "completed"
    },
    "tags": []
   },
   "outputs": [
    {
     "data": {
      "text/html": [
       "<div>\n",
       "<style scoped>\n",
       "    .dataframe tbody tr th:only-of-type {\n",
       "        vertical-align: middle;\n",
       "    }\n",
       "\n",
       "    .dataframe tbody tr th {\n",
       "        vertical-align: top;\n",
       "    }\n",
       "\n",
       "    .dataframe thead th {\n",
       "        text-align: right;\n",
       "    }\n",
       "</style>\n",
       "<table border=\"1\" class=\"dataframe\">\n",
       "  <thead>\n",
       "    <tr style=\"text-align: right;\">\n",
       "      <th></th>\n",
       "      <th>image_id</th>\n",
       "      <th>InChI</th>\n",
       "      <th>file_path</th>\n",
       "    </tr>\n",
       "  </thead>\n",
       "  <tbody>\n",
       "    <tr>\n",
       "      <th>0</th>\n",
       "      <td>00000d2a601c</td>\n",
       "      <td>InChI=1S/H2O/h1H2</td>\n",
       "      <td>/kaggle/input/bms-molecular-translation/test/0...</td>\n",
       "    </tr>\n",
       "    <tr>\n",
       "      <th>1</th>\n",
       "      <td>00001f7fc849</td>\n",
       "      <td>InChI=1S/H2O/h1H2</td>\n",
       "      <td>/kaggle/input/bms-molecular-translation/test/0...</td>\n",
       "    </tr>\n",
       "    <tr>\n",
       "      <th>2</th>\n",
       "      <td>000037687605</td>\n",
       "      <td>InChI=1S/H2O/h1H2</td>\n",
       "      <td>/kaggle/input/bms-molecular-translation/test/0...</td>\n",
       "    </tr>\n",
       "    <tr>\n",
       "      <th>3</th>\n",
       "      <td>00004b6d55b6</td>\n",
       "      <td>InChI=1S/H2O/h1H2</td>\n",
       "      <td>/kaggle/input/bms-molecular-translation/test/0...</td>\n",
       "    </tr>\n",
       "    <tr>\n",
       "      <th>4</th>\n",
       "      <td>00004df0fe53</td>\n",
       "      <td>InChI=1S/H2O/h1H2</td>\n",
       "      <td>/kaggle/input/bms-molecular-translation/test/0...</td>\n",
       "    </tr>\n",
       "  </tbody>\n",
       "</table>\n",
       "</div>"
      ],
      "text/plain": [
       "       image_id              InChI  \\\n",
       "0  00000d2a601c  InChI=1S/H2O/h1H2   \n",
       "1  00001f7fc849  InChI=1S/H2O/h1H2   \n",
       "2  000037687605  InChI=1S/H2O/h1H2   \n",
       "3  00004b6d55b6  InChI=1S/H2O/h1H2   \n",
       "4  00004df0fe53  InChI=1S/H2O/h1H2   \n",
       "\n",
       "                                           file_path  \n",
       "0  /kaggle/input/bms-molecular-translation/test/0...  \n",
       "1  /kaggle/input/bms-molecular-translation/test/0...  \n",
       "2  /kaggle/input/bms-molecular-translation/test/0...  \n",
       "3  /kaggle/input/bms-molecular-translation/test/0...  \n",
       "4  /kaggle/input/bms-molecular-translation/test/0...  "
      ]
     },
     "execution_count": 9,
     "metadata": {},
     "output_type": "execute_result"
    }
   ],
   "source": [
    "###### DATA IMPORT\n",
    "\n",
    "df = pd.read_csv(data_path + 'sample_submission.csv')\n",
    "\n",
    "def get_test_file_path(image_id):\n",
    "    return data_path + 'test/{}/{}/{}/{}.png'.format(image_id[0], image_id[1], image_id[2], image_id)\n",
    "\n",
    "df['file_path'] = df['image_id'].apply(get_test_file_path)\n",
    "df.head()"
   ]
  },
  {
   "cell_type": "code",
   "execution_count": 10,
   "id": "certified-secretariat",
   "metadata": {
    "execution": {
     "iopub.execute_input": "2021-04-24T18:08:49.384614Z",
     "iopub.status.busy": "2021-04-24T18:08:49.383775Z",
     "iopub.status.idle": "2021-04-24T18:08:49.386031Z",
     "shell.execute_reply": "2021-04-24T18:08:49.386495Z"
    },
    "papermill": {
     "duration": 2.000431,
     "end_time": "2021-04-24T18:08:49.386699",
     "exception": false,
     "start_time": "2021-04-24T18:08:47.386268",
     "status": "completed"
    },
    "tags": []
   },
   "outputs": [],
   "source": [
    "###### DATASET & DATALOADER\n",
    "\n",
    "# dataset\n",
    "image_dataset = ImageData(df        = df, \n",
    "                          transform = augs)\n",
    "\n",
    "# data loader\n",
    "image_loader = DataLoader(image_dataset, \n",
    "                          batch_size  = batch_size, \n",
    "                          shuffle     = False, \n",
    "                          num_workers = num_workers)"
   ]
  },
  {
   "cell_type": "code",
   "execution_count": 11,
   "id": "recent-holocaust",
   "metadata": {
    "execution": {
     "iopub.execute_input": "2021-04-24T18:08:53.352843Z",
     "iopub.status.busy": "2021-04-24T18:08:53.351953Z",
     "iopub.status.idle": "2021-04-24T19:13:26.642921Z",
     "shell.execute_reply": "2021-04-24T19:13:26.638446Z"
    },
    "papermill": {
     "duration": 3875.275554,
     "end_time": "2021-04-24T19:13:26.644650",
     "exception": false,
     "start_time": "2021-04-24T18:08:51.369096",
     "status": "completed"
    },
    "tags": []
   },
   "outputs": [
    {
     "name": "stderr",
     "output_type": "stream",
     "text": [
      "100%|██████████| 12626/12626 [1:04:32<00:00,  3.26it/s]\n"
     ]
    },
    {
     "name": "stdout",
     "output_type": "stream",
     "text": [
      "Test data stats:\n",
      "- mean: 0.9863\n",
      "- std:  0.0921\n"
     ]
    }
   ],
   "source": [
    "##### CALCULATIONS\n",
    "\n",
    "# placeholders\n",
    "psum    = torch.tensor([0.0])\n",
    "psum_sq = torch.tensor([0.0])\n",
    "\n",
    "# loop through images\n",
    "for inputs in tqdm(image_loader):\n",
    "    psum    += inputs.sum(axis        = [0, 2, 3])\n",
    "    psum_sq += (inputs ** 2).sum(axis = [0, 2, 3])\n",
    "    \n",
    "# pixel count\n",
    "count = len(df) * image_size * image_size\n",
    "\n",
    "# mean and STD\n",
    "total_mean = psum / count\n",
    "total_var  = (psum_sq / count) - (total_mean ** 2)\n",
    "total_std  = torch.sqrt(total_var)\n",
    "\n",
    "# output\n",
    "print('Test data stats:')\n",
    "print('- mean: {:.4f}'.format(total_mean.item()))\n",
    "print('- std:  {:.4f}'.format(total_std.item()))"
   ]
  },
  {
   "cell_type": "markdown",
   "id": "formed-august",
   "metadata": {
    "papermill": {
     "duration": 3.004827,
     "end_time": "2021-04-24T19:13:32.717209",
     "exception": false,
     "start_time": "2021-04-24T19:13:29.712382",
     "status": "completed"
    },
    "tags": []
   },
   "source": [
    "If you use a different image size, you can simply update this parameter to make sure calculations are done appropriately. Good luck!"
   ]
  }
 ],
 "metadata": {
  "kernelspec": {
   "display_name": "Python 3",
   "language": "python",
   "name": "python3"
  },
  "language_info": {
   "codemirror_mode": {
    "name": "ipython",
    "version": 3
   },
   "file_extension": ".py",
   "mimetype": "text/x-python",
   "name": "python",
   "nbconvert_exporter": "python",
   "pygments_lexer": "ipython3",
   "version": "3.7.9"
  },
  "papermill": {
   "default_parameters": {},
   "duration": 9182.873628,
   "end_time": "2021-04-24T19:13:40.022238",
   "environment_variables": {},
   "exception": null,
   "input_path": "__notebook__.ipynb",
   "output_path": "__notebook__.ipynb",
   "parameters": {},
   "start_time": "2021-04-24T16:40:37.148610",
   "version": "2.3.2"
  }
 },
 "nbformat": 4,
 "nbformat_minor": 5
}
