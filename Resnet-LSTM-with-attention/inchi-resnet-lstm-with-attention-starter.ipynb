{
 "cells": [
  {
   "cell_type": "code",
   "execution_count": 1,
   "metadata": {
    "execution": {
     "iopub.execute_input": "2021-03-09T09:44:33.511002Z",
     "iopub.status.busy": "2021-03-09T09:44:33.510332Z",
     "iopub.status.idle": "2021-03-09T09:44:33.513336Z",
     "shell.execute_reply": "2021-03-09T09:44:33.512859Z"
    },
    "papermill": {
     "duration": 0.022561,
     "end_time": "2021-03-09T09:44:33.513503",
     "exception": false,
     "start_time": "2021-03-09T09:44:33.490942",
     "status": "completed"
    },
    "tags": []
   },
   "outputs": [],
   "source": [
    "# ====================================================\n",
    "# Directory settings\n",
    "# ====================================================\n",
    "import os\n",
    "\n",
    "OUTPUT_DIR = './'\n",
    "if not os.path.exists(OUTPUT_DIR):\n",
    "    os.makedirs(OUTPUT_DIR)"
   ]
  },
  {
   "cell_type": "code",
   "execution_count": 2,
   "metadata": {},
   "outputs": [],
   "source": [
    "import os\n",
    "from matplotlib import pyplot as plt\n",
    "\n",
    "OUTPUT_DIR = './'\n",
    "if not os.path.exists(OUTPUT_DIR):\n",
    "    os.makedirs(OUTPUT_DIR)\n",
    "    \n",
    "import numpy as np\n",
    "import pandas as pd\n",
    "import torch\n",
    "\n",
    "import sys\n",
    "\n",
    "import os\n",
    "import gc\n",
    "import re\n",
    "import math\n",
    "import time\n",
    "import random\n",
    "import shutil\n",
    "import pickle\n",
    "from pathlib import Path\n",
    "from contextlib import contextmanager\n",
    "from collections import defaultdict, Counter\n",
    "\n",
    "import scipy as sp\n",
    "import numpy as np\n",
    "import pandas as pd\n",
    "from tqdm.auto import tqdm\n",
    "\n",
    "import Levenshtein\n",
    "from sklearn import preprocessing\n",
    "from sklearn.model_selection import StratifiedKFold, GroupKFold, KFold\n",
    "\n",
    "from functools import partial\n",
    "\n",
    "import cv2\n",
    "from PIL import Image\n",
    "\n",
    "import torch\n",
    "import torch.nn as nn\n",
    "import torch.nn.functional as F\n",
    "from torch.optim import Adam, SGD\n",
    "import torchvision.models as models\n",
    "from torch.nn.parameter import Parameter\n",
    "from torch.utils.data import DataLoader, Dataset\n",
    "from torch.nn.utils.rnn import pad_sequence, pack_padded_sequence\n",
    "from torch.optim.lr_scheduler import CosineAnnealingWarmRestarts, CosineAnnealingLR, ReduceLROnPlateau\n",
    "\n",
    "from albumentations import (\n",
    "    Compose, OneOf, Normalize, Resize, RandomResizedCrop, RandomCrop, HorizontalFlip, VerticalFlip, \n",
    "    RandomBrightness, RandomContrast, RandomBrightnessContrast, Rotate, ShiftScaleRotate, Cutout, \n",
    "    IAAAdditiveGaussianNoise, Transpose, Blur, RandomRotate90, PadIfNeeded,\n",
    "    )\n",
    "from albumentations.pytorch import ToTensorV2\n",
    "from albumentations import ImageOnlyTransform\n",
    "\n",
    "import timm\n",
    "\n",
    "# from axial_attention import AxialAttention\n",
    "\n",
    "import warnings \n",
    "warnings.filterwarnings('ignore')\n",
    "\n",
    "device = torch.device('cuda' if torch.cuda.is_available() else 'cpu')"
   ]
  },
  {
   "cell_type": "markdown",
   "metadata": {
    "papermill": {
     "duration": 0.015133,
     "end_time": "2021-03-09T09:44:33.543804",
     "exception": false,
     "start_time": "2021-03-09T09:44:33.528671",
     "status": "completed"
    },
    "tags": []
   },
   "source": [
    "# Data Loading"
   ]
  },
  {
   "cell_type": "code",
   "execution_count": 3,
   "metadata": {
    "execution": {
     "iopub.execute_input": "2021-03-09T09:44:33.578998Z",
     "iopub.status.busy": "2021-03-09T09:44:33.578316Z",
     "iopub.status.idle": "2021-03-09T09:44:47.179701Z",
     "shell.execute_reply": "2021-03-09T09:44:47.178859Z"
    },
    "papermill": {
     "duration": 13.620951,
     "end_time": "2021-03-09T09:44:47.179832",
     "exception": false,
     "start_time": "2021-03-09T09:44:33.558881",
     "status": "completed"
    },
    "tags": []
   },
   "outputs": [
    {
     "output_type": "stream",
     "name": "stdout",
     "text": [
      "train.shape: (2424186, 6)\n"
     ]
    },
    {
     "output_type": "display_data",
     "data": {
      "text/plain": "       image_id                                              InChI  \\\n0  000011a64c74  InChI=1S/C13H20OS/c1-9(2)8-15-13-6-5-10(3)7-12...   \n1  000019cc0cd2  InChI=1S/C21H30O4/c1-12(22)25-14-6-8-20(2)13(1...   \n2  0000252b6d2b  InChI=1S/C24H23N5O4/c1-14-13-15(7-8-17(14)28-1...   \n3  000026b49b7e  InChI=1S/C17H24N2O4S/c1-12(20)18-13(14-7-6-10-...   \n4  000026fc6c36  InChI=1S/C10H19N3O2S/c1-15-10(14)12-8-4-6-13(7...   \n\n       InChI_1                                         InChI_text  \\\n0     C13H20OS  C 13 H 20 O S /c 1 - 9 ( 2 ) 8 - 15 - 13 - 6 -...   \n1     C21H30O4  C 21 H 30 O 4 /c 1 - 12 ( 22 ) 25 - 14 - 6 - 8...   \n2   C24H23N5O4  C 24 H 23 N 5 O 4 /c 1 - 14 - 13 - 15 ( 7 - 8 ...   \n3  C17H24N2O4S  C 17 H 24 N 2 O 4 S /c 1 - 12 ( 20 ) 18 - 13 (...   \n4  C10H19N3O2S  C 10 H 19 N 3 O 2 S /c 1 - 15 - 10 ( 14 ) 12 -...   \n\n   InChI_length                             file_path  \n0            59  ../data/train/0/0/0/000011a64c74.png  \n1           108  ../data/train/0/0/0/000019cc0cd2.png  \n2           112  ../data/train/0/0/0/0000252b6d2b.png  \n3           108  ../data/train/0/0/0/000026b49b7e.png  \n4            72  ../data/train/0/0/0/000026fc6c36.png  ",
      "text/html": "<div>\n<style scoped>\n    .dataframe tbody tr th:only-of-type {\n        vertical-align: middle;\n    }\n\n    .dataframe tbody tr th {\n        vertical-align: top;\n    }\n\n    .dataframe thead th {\n        text-align: right;\n    }\n</style>\n<table border=\"1\" class=\"dataframe\">\n  <thead>\n    <tr style=\"text-align: right;\">\n      <th></th>\n      <th>image_id</th>\n      <th>InChI</th>\n      <th>InChI_1</th>\n      <th>InChI_text</th>\n      <th>InChI_length</th>\n      <th>file_path</th>\n    </tr>\n  </thead>\n  <tbody>\n    <tr>\n      <th>0</th>\n      <td>000011a64c74</td>\n      <td>InChI=1S/C13H20OS/c1-9(2)8-15-13-6-5-10(3)7-12...</td>\n      <td>C13H20OS</td>\n      <td>C 13 H 20 O S /c 1 - 9 ( 2 ) 8 - 15 - 13 - 6 -...</td>\n      <td>59</td>\n      <td>../data/train/0/0/0/000011a64c74.png</td>\n    </tr>\n    <tr>\n      <th>1</th>\n      <td>000019cc0cd2</td>\n      <td>InChI=1S/C21H30O4/c1-12(22)25-14-6-8-20(2)13(1...</td>\n      <td>C21H30O4</td>\n      <td>C 21 H 30 O 4 /c 1 - 12 ( 22 ) 25 - 14 - 6 - 8...</td>\n      <td>108</td>\n      <td>../data/train/0/0/0/000019cc0cd2.png</td>\n    </tr>\n    <tr>\n      <th>2</th>\n      <td>0000252b6d2b</td>\n      <td>InChI=1S/C24H23N5O4/c1-14-13-15(7-8-17(14)28-1...</td>\n      <td>C24H23N5O4</td>\n      <td>C 24 H 23 N 5 O 4 /c 1 - 14 - 13 - 15 ( 7 - 8 ...</td>\n      <td>112</td>\n      <td>../data/train/0/0/0/0000252b6d2b.png</td>\n    </tr>\n    <tr>\n      <th>3</th>\n      <td>000026b49b7e</td>\n      <td>InChI=1S/C17H24N2O4S/c1-12(20)18-13(14-7-6-10-...</td>\n      <td>C17H24N2O4S</td>\n      <td>C 17 H 24 N 2 O 4 S /c 1 - 12 ( 20 ) 18 - 13 (...</td>\n      <td>108</td>\n      <td>../data/train/0/0/0/000026b49b7e.png</td>\n    </tr>\n    <tr>\n      <th>4</th>\n      <td>000026fc6c36</td>\n      <td>InChI=1S/C10H19N3O2S/c1-15-10(14)12-8-4-6-13(7...</td>\n      <td>C10H19N3O2S</td>\n      <td>C 10 H 19 N 3 O 2 S /c 1 - 15 - 10 ( 14 ) 12 -...</td>\n      <td>72</td>\n      <td>../data/train/0/0/0/000026fc6c36.png</td>\n    </tr>\n  </tbody>\n</table>\n</div>"
     },
     "metadata": {}
    }
   ],
   "source": [
    "import numpy as np\n",
    "import pandas as pd\n",
    "import torch\n",
    "\n",
    "\n",
    "\n",
    "train = pd.read_pickle('train.pkl')\n",
    "\n",
    "def get_train_file_path(image_id):\n",
    "    return \"../data/train/{}/{}/{}/{}.png\".format(\n",
    "        image_id[0], image_id[1], image_id[2], image_id \n",
    "    )\n",
    "\n",
    "train['file_path'] = train['image_id'].apply(get_train_file_path)\n",
    "\n",
    "print(f'train.shape: {train.shape}')\n",
    "display(train.head())"
   ]
  },
  {
   "cell_type": "code",
   "execution_count": 4,
   "metadata": {
    "execution": {
     "iopub.execute_input": "2021-03-09T09:44:47.225873Z",
     "iopub.status.busy": "2021-03-09T09:44:47.225345Z",
     "iopub.status.idle": "2021-03-09T09:44:47.238108Z",
     "shell.execute_reply": "2021-03-09T09:44:47.237679Z"
    },
    "papermill": {
     "duration": 0.040687,
     "end_time": "2021-03-09T09:44:47.238213",
     "exception": false,
     "start_time": "2021-03-09T09:44:47.197526",
     "status": "completed"
    },
    "tags": []
   },
   "outputs": [
    {
     "output_type": "stream",
     "name": "stdout",
     "text": [
      "tokenizer.stoi: {'(': 0, ')': 1, '+': 2, ',': 3, '-': 4, '/b': 5, '/c': 6, '/h': 7, '/i': 8, '/m': 9, '/s': 10, '/t': 11, '0': 12, '1': 13, '10': 14, '100': 15, '101': 16, '102': 17, '103': 18, '104': 19, '105': 20, '106': 21, '107': 22, '108': 23, '109': 24, '11': 25, '110': 26, '111': 27, '112': 28, '113': 29, '114': 30, '115': 31, '116': 32, '117': 33, '118': 34, '119': 35, '12': 36, '120': 37, '121': 38, '122': 39, '123': 40, '124': 41, '125': 42, '126': 43, '127': 44, '128': 45, '129': 46, '13': 47, '130': 48, '131': 49, '132': 50, '133': 51, '134': 52, '135': 53, '136': 54, '137': 55, '138': 56, '139': 57, '14': 58, '140': 59, '141': 60, '142': 61, '143': 62, '144': 63, '145': 64, '146': 65, '147': 66, '148': 67, '149': 68, '15': 69, '150': 70, '151': 71, '152': 72, '153': 73, '154': 74, '155': 75, '156': 76, '157': 77, '158': 78, '159': 79, '16': 80, '161': 81, '163': 82, '165': 83, '167': 84, '17': 85, '18': 86, '19': 87, '2': 88, '20': 89, '21': 90, '22': 91, '23': 92, '24': 93, '25': 94, '26': 95, '27': 96, '28': 97, '29': 98, '3': 99, '30': 100, '31': 101, '32': 102, '33': 103, '34': 104, '35': 105, '36': 106, '37': 107, '38': 108, '39': 109, '4': 110, '40': 111, '41': 112, '42': 113, '43': 114, '44': 115, '45': 116, '46': 117, '47': 118, '48': 119, '49': 120, '5': 121, '50': 122, '51': 123, '52': 124, '53': 125, '54': 126, '55': 127, '56': 128, '57': 129, '58': 130, '59': 131, '6': 132, '60': 133, '61': 134, '62': 135, '63': 136, '64': 137, '65': 138, '66': 139, '67': 140, '68': 141, '69': 142, '7': 143, '70': 144, '71': 145, '72': 146, '73': 147, '74': 148, '75': 149, '76': 150, '77': 151, '78': 152, '79': 153, '8': 154, '80': 155, '81': 156, '82': 157, '83': 158, '84': 159, '85': 160, '86': 161, '87': 162, '88': 163, '89': 164, '9': 165, '90': 166, '91': 167, '92': 168, '93': 169, '94': 170, '95': 171, '96': 172, '97': 173, '98': 174, '99': 175, 'B': 176, 'Br': 177, 'C': 178, 'Cl': 179, 'D': 180, 'F': 181, 'H': 182, 'I': 183, 'N': 184, 'O': 185, 'P': 186, 'S': 187, 'Si': 188, 'T': 189, '<sos>': 190, '<eos>': 191, '<pad>': 192}\n"
     ]
    }
   ],
   "source": [
    "class Tokenizer(object):\n",
    "    \n",
    "    def __init__(self):\n",
    "        self.stoi = {}\n",
    "        self.itos = {}\n",
    "\n",
    "    def __len__(self):\n",
    "        return len(self.stoi)\n",
    "    \n",
    "    def fit_on_texts(self, texts):\n",
    "        vocab = set()\n",
    "        for text in texts:\n",
    "            vocab.update(text.split(' '))\n",
    "        vocab = sorted(vocab)\n",
    "        vocab.append('<sos>')\n",
    "        vocab.append('<eos>')\n",
    "        vocab.append('<pad>')\n",
    "        for i, s in enumerate(vocab):\n",
    "            self.stoi[s] = i\n",
    "        self.itos = {item[1]: item[0] for item in self.stoi.items()}\n",
    "        \n",
    "    def text_to_sequence(self, text):\n",
    "        sequence = []\n",
    "        sequence.append(self.stoi['<sos>'])\n",
    "        for s in text.split(' '):\n",
    "            sequence.append(self.stoi[s])\n",
    "        sequence.append(self.stoi['<eos>'])\n",
    "        return sequence\n",
    "    \n",
    "    def texts_to_sequences(self, texts):\n",
    "        sequences = []\n",
    "        for text in texts:\n",
    "            sequence = self.text_to_sequence(text)\n",
    "            sequences.append(sequence)\n",
    "        return sequences\n",
    "\n",
    "    def sequence_to_text(self, sequence):\n",
    "        return ''.join(list(map(lambda i: self.itos[i], sequence)))\n",
    "    \n",
    "    def sequences_to_texts(self, sequences):\n",
    "        texts = []\n",
    "        for sequence in sequences:\n",
    "            text = self.sequence_to_text(sequence)\n",
    "            texts.append(text)\n",
    "        return texts\n",
    "    \n",
    "    def predict_caption(self, sequence):\n",
    "        caption = ''\n",
    "        for i in sequence:\n",
    "            if i == self.stoi['<eos>'] or i == self.stoi['<pad>']:\n",
    "                break\n",
    "            caption += self.itos[i]\n",
    "        return caption\n",
    "    \n",
    "    def predict_captions(self, sequences):\n",
    "        captions = []\n",
    "        for sequence in sequences:\n",
    "            caption = self.predict_caption(sequence)\n",
    "            captions.append(caption)\n",
    "        return captions\n",
    "\n",
    "tokenizer = torch.load('tokenizer2.pth')\n",
    "print(f\"tokenizer.stoi: {tokenizer.stoi}\")"
   ]
  },
  {
   "cell_type": "markdown",
   "metadata": {
    "papermill": {
     "duration": 0.016241,
     "end_time": "2021-03-09T09:44:47.271137",
     "exception": false,
     "start_time": "2021-03-09T09:44:47.254896",
     "status": "completed"
    },
    "tags": []
   },
   "source": [
    "# CFG"
   ]
  },
  {
   "cell_type": "code",
   "execution_count": 5,
   "metadata": {
    "execution": {
     "iopub.execute_input": "2021-03-09T09:44:47.311836Z",
     "iopub.status.busy": "2021-03-09T09:44:47.311114Z",
     "iopub.status.idle": "2021-03-09T09:44:47.314953Z",
     "shell.execute_reply": "2021-03-09T09:44:47.31454Z"
    },
    "papermill": {
     "duration": 0.027167,
     "end_time": "2021-03-09T09:44:47.315067",
     "exception": false,
     "start_time": "2021-03-09T09:44:47.2879",
     "status": "completed"
    },
    "tags": []
   },
   "outputs": [],
   "source": [
    "# ====================================================\n",
    "# CFG\n",
    "# ====================================================\n",
    "class CFG:\n",
    "    debug=False\n",
    "    max_len=350\n",
    "    print_freq=100\n",
    "    num_workers=16\n",
    "    model_name='resnet34'\n",
    "    size=224\n",
    "    scheduler='CosineAnnealingLR' # ['ReduceLROnPlateau', 'CosineAnnealingLR', 'CosineAnnealingWarmRestarts']\n",
    "    epochs=4 # not to exceed 9h\n",
    "    #factor=0.2 # ReduceLROnPlateau\n",
    "    #patience=4 # ReduceLROnPlateau\n",
    "    #eps=1e-6 # ReduceLROnPlateau\n",
    "    batch_size=256\n",
    "    T_max= int((1939328 / batch_size) * epochs ) # CosineAnnealingLR\n",
    "    #T_0=4 # CosineAnnealingWarmRestarts\n",
    "    encoder_lr=5e-4\n",
    "    decoder_lr=2e-3\n",
    "    min_lr=1e-9\n",
    "    weight_decay=1e-6\n",
    "    gradient_accumulation_steps=1\n",
    "    max_grad_norm=5\n",
    "    attention_dim=256\n",
    "    embed_dim=256\n",
    "    decoder_dim=512\n",
    "    dropout=0.5\n",
    "    seed=42\n",
    "    n_fold=5\n",
    "    trn_fold= [0] # [0, 1, 2, 3, 4] \n",
    "    train=True"
   ]
  },
  {
   "cell_type": "code",
   "execution_count": 6,
   "metadata": {
    "execution": {
     "iopub.execute_input": "2021-03-09T09:44:47.356162Z",
     "iopub.status.busy": "2021-03-09T09:44:47.355231Z",
     "iopub.status.idle": "2021-03-09T09:44:48.555356Z",
     "shell.execute_reply": "2021-03-09T09:44:48.55489Z"
    },
    "papermill": {
     "duration": 1.223567,
     "end_time": "2021-03-09T09:44:48.555526",
     "exception": false,
     "start_time": "2021-03-09T09:44:47.331959",
     "status": "completed"
    },
    "tags": []
   },
   "outputs": [],
   "source": [
    "if CFG.debug:\n",
    "    CFG.epochs = 1\n",
    "    train = train.sample(n=1000, random_state=CFG.seed).reset_index(drop=True)"
   ]
  },
  {
   "cell_type": "markdown",
   "metadata": {
    "papermill": {
     "duration": 0.016658,
     "end_time": "2021-03-09T09:44:48.589756",
     "exception": false,
     "start_time": "2021-03-09T09:44:48.573098",
     "status": "completed"
    },
    "tags": []
   },
   "source": [
    "# Library"
   ]
  },
  {
   "cell_type": "code",
   "execution_count": 7,
   "metadata": {
    "execution": {
     "iopub.execute_input": "2021-03-09T09:44:48.6326Z",
     "iopub.status.busy": "2021-03-09T09:44:48.631924Z",
     "iopub.status.idle": "2021-03-09T09:44:51.840021Z",
     "shell.execute_reply": "2021-03-09T09:44:51.839536Z"
    },
    "papermill": {
     "duration": 3.23384,
     "end_time": "2021-03-09T09:44:51.840158",
     "exception": false,
     "start_time": "2021-03-09T09:44:48.606318",
     "status": "completed"
    },
    "tags": []
   },
   "outputs": [],
   "source": [
    "# ====================================================\n",
    "# Library\n",
    "# ====================================================\n",
    "import sys\n",
    "sys.path.append('../data')\n",
    "\n",
    "import os\n",
    "import gc\n",
    "import re\n",
    "import math\n",
    "import time\n",
    "import random\n",
    "import shutil\n",
    "import pickle\n",
    "from pathlib import Path\n",
    "from contextlib import contextmanager\n",
    "from collections import defaultdict, Counter\n",
    "\n",
    "import scipy as sp\n",
    "import numpy as np\n",
    "import pandas as pd\n",
    "from tqdm.auto import tqdm\n",
    "\n",
    "import Levenshtein\n",
    "from sklearn import preprocessing\n",
    "from sklearn.model_selection import StratifiedKFold, GroupKFold, KFold\n",
    "\n",
    "from functools import partial\n",
    "\n",
    "import cv2\n",
    "from PIL import Image\n",
    "\n",
    "import torch\n",
    "import torch.nn as nn\n",
    "import torch.nn.functional as F\n",
    "from torch.optim import Adam, SGD\n",
    "import torchvision.models as models\n",
    "from torch.nn.parameter import Parameter\n",
    "from torch.utils.data import DataLoader, Dataset\n",
    "from torch.nn.utils.rnn import pad_sequence, pack_padded_sequence\n",
    "from torch.optim.lr_scheduler import CosineAnnealingWarmRestarts, CosineAnnealingLR, ReduceLROnPlateau\n",
    "\n",
    "from albumentations import (\n",
    "    Compose, OneOf, Normalize, Resize, RandomResizedCrop, RandomCrop, HorizontalFlip, VerticalFlip, \n",
    "    RandomBrightness, RandomContrast, RandomBrightnessContrast, Rotate, ShiftScaleRotate, Cutout, \n",
    "    IAAAdditiveGaussianNoise, Transpose, Blur\n",
    "    )\n",
    "from albumentations.pytorch import ToTensorV2\n",
    "from albumentations import ImageOnlyTransform\n",
    "\n",
    "import timm\n",
    "\n",
    "import warnings \n",
    "warnings.filterwarnings('ignore')\n",
    "\n",
    "device = torch.device('cuda' if torch.cuda.is_available() else 'cpu')"
   ]
  },
  {
   "cell_type": "markdown",
   "metadata": {
    "papermill": {
     "duration": 0.01895,
     "end_time": "2021-03-09T09:44:51.878779",
     "exception": false,
     "start_time": "2021-03-09T09:44:51.859829",
     "status": "completed"
    },
    "tags": []
   },
   "source": [
    "# Utils"
   ]
  },
  {
   "cell_type": "code",
   "execution_count": 8,
   "metadata": {
    "execution": {
     "iopub.execute_input": "2021-03-09T09:44:51.927476Z",
     "iopub.status.busy": "2021-03-09T09:44:51.926454Z",
     "iopub.status.idle": "2021-03-09T09:44:51.934378Z",
     "shell.execute_reply": "2021-03-09T09:44:51.933884Z"
    },
    "papermill": {
     "duration": 0.037035,
     "end_time": "2021-03-09T09:44:51.934525",
     "exception": false,
     "start_time": "2021-03-09T09:44:51.89749",
     "status": "completed"
    },
    "tags": []
   },
   "outputs": [],
   "source": [
    "# ====================================================\n",
    "# Utils\n",
    "# ====================================================\n",
    "def get_score(y_true, y_pred):\n",
    "    scores = []\n",
    "    for true, pred in zip(y_true, y_pred):\n",
    "        score = Levenshtein.distance(true, pred)\n",
    "        scores.append(score)\n",
    "    avg_score = np.mean(scores)\n",
    "    return avg_score\n",
    "\n",
    "\n",
    "def init_logger(log_file=OUTPUT_DIR+'train.log'):\n",
    "    from logging import getLogger, INFO, FileHandler,  Formatter,  StreamHandler\n",
    "    logger = getLogger(__name__)\n",
    "    logger.setLevel(INFO)\n",
    "    handler1 = StreamHandler()\n",
    "    handler1.setFormatter(Formatter(\"%(message)s\"))\n",
    "    handler2 = FileHandler(filename=log_file)\n",
    "    handler2.setFormatter(Formatter(\"%(message)s\"))\n",
    "    logger.addHandler(handler1)\n",
    "    logger.addHandler(handler2)\n",
    "    return logger\n",
    "\n",
    "LOGGER = init_logger()\n",
    "\n",
    "\n",
    "def seed_torch(seed=42):\n",
    "    random.seed(seed)\n",
    "    os.environ['PYTHONHASHSEED'] = str(seed)\n",
    "    np.random.seed(seed)\n",
    "    torch.manual_seed(seed)\n",
    "    torch.cuda.manual_seed(seed)\n",
    "    torch.backends.cudnn.deterministic = True\n",
    "\n",
    "seed_torch(seed=CFG.seed)"
   ]
  },
  {
   "cell_type": "markdown",
   "metadata": {
    "papermill": {
     "duration": 0.019365,
     "end_time": "2021-03-09T09:44:51.973096",
     "exception": false,
     "start_time": "2021-03-09T09:44:51.953731",
     "status": "completed"
    },
    "tags": []
   },
   "source": [
    "# CV split"
   ]
  },
  {
   "cell_type": "code",
   "execution_count": 9,
   "metadata": {
    "execution": {
     "iopub.execute_input": "2021-03-09T09:44:52.018669Z",
     "iopub.status.busy": "2021-03-09T09:44:52.017704Z",
     "iopub.status.idle": "2021-03-09T09:44:52.055384Z",
     "shell.execute_reply": "2021-03-09T09:44:52.055892Z"
    },
    "papermill": {
     "duration": 0.063587,
     "end_time": "2021-03-09T09:44:52.056037",
     "exception": false,
     "start_time": "2021-03-09T09:44:51.99245",
     "status": "completed"
    },
    "tags": []
   },
   "outputs": [
    {
     "output_type": "stream",
     "name": "stdout",
     "text": [
      "fold\n0    484838\n1    484837\n2    484837\n3    484837\n4    484837\ndtype: int64\n"
     ]
    }
   ],
   "source": [
    "folds = train.copy()\n",
    "Fold = StratifiedKFold(n_splits=CFG.n_fold, shuffle=True, random_state=CFG.seed)\n",
    "for n, (train_index, val_index) in enumerate(Fold.split(folds, folds['InChI_length'])):\n",
    "    folds.loc[val_index, 'fold'] = int(n)\n",
    "folds['fold'] = folds['fold'].astype(int)\n",
    "print(folds.groupby(['fold']).size())"
   ]
  },
  {
   "cell_type": "markdown",
   "metadata": {
    "papermill": {
     "duration": 0.018688,
     "end_time": "2021-03-09T09:44:52.093619",
     "exception": false,
     "start_time": "2021-03-09T09:44:52.074931",
     "status": "completed"
    },
    "tags": []
   },
   "source": [
    "# Dataset"
   ]
  },
  {
   "cell_type": "code",
   "execution_count": 10,
   "metadata": {
    "execution": {
     "iopub.execute_input": "2021-03-09T09:44:52.143681Z",
     "iopub.status.busy": "2021-03-09T09:44:52.141822Z",
     "iopub.status.idle": "2021-03-09T09:44:52.144261Z",
     "shell.execute_reply": "2021-03-09T09:44:52.144672Z"
    },
    "papermill": {
     "duration": 0.032248,
     "end_time": "2021-03-09T09:44:52.144808",
     "exception": false,
     "start_time": "2021-03-09T09:44:52.11256",
     "status": "completed"
    },
    "tags": []
   },
   "outputs": [],
   "source": [
    "# ====================================================\n",
    "# Dataset\n",
    "# ====================================================\n",
    "class TrainDataset(Dataset):\n",
    "    def __init__(self, df, tokenizer, transform=None):\n",
    "        super().__init__()\n",
    "        self.df = df\n",
    "        self.tokenizer = tokenizer\n",
    "        self.file_paths = df['file_path'].values\n",
    "        self.labels = df['InChI_text'].values\n",
    "        self.transform = transform\n",
    "    \n",
    "    def __len__(self):\n",
    "        return len(self.df)\n",
    "    \n",
    "    def __getitem__(self, idx):\n",
    "        file_path = self.file_paths[idx]\n",
    "        image = cv2.imread(file_path)\n",
    "        image = cv2.cvtColor(image, cv2.COLOR_BGR2RGB).astype(np.float32)\n",
    "        if self.transform:\n",
    "            augmented = self.transform(image=image)\n",
    "            image = augmented['image']\n",
    "        label = self.labels[idx]\n",
    "        label = self.tokenizer.text_to_sequence(label)\n",
    "        label_length = len(label)\n",
    "        label_length = torch.LongTensor([label_length])\n",
    "        return image, torch.LongTensor(label), label_length\n",
    "    \n",
    "\n",
    "class TestDataset(Dataset):\n",
    "    def __init__(self, df, transform=None):\n",
    "        super().__init__()\n",
    "        self.df = df\n",
    "        self.file_paths = df['file_path'].values\n",
    "        self.transform = transform\n",
    "    \n",
    "    def __len__(self):\n",
    "        return len(self.df)\n",
    "    \n",
    "    def __getitem__(self, idx):\n",
    "        file_path = self.file_paths[idx]\n",
    "        image = cv2.imread(file_path)\n",
    "        image = cv2.cvtColor(image, cv2.COLOR_BGR2RGB).astype(np.float32)\n",
    "        if self.transform:\n",
    "            augmented = self.transform(image=image)\n",
    "            image = augmented['image']\n",
    "        return image"
   ]
  },
  {
   "cell_type": "code",
   "execution_count": 11,
   "metadata": {
    "execution": {
     "iopub.execute_input": "2021-03-09T09:44:52.191135Z",
     "iopub.status.busy": "2021-03-09T09:44:52.19034Z",
     "iopub.status.idle": "2021-03-09T09:44:52.193687Z",
     "shell.execute_reply": "2021-03-09T09:44:52.194657Z"
    },
    "papermill": {
     "duration": 0.02994,
     "end_time": "2021-03-09T09:44:52.194849",
     "exception": false,
     "start_time": "2021-03-09T09:44:52.164909",
     "status": "completed"
    },
    "tags": []
   },
   "outputs": [],
   "source": [
    "def bms_collate(batch):\n",
    "    imgs, labels, label_lengths = [], [], []\n",
    "    for data_point in batch:\n",
    "        imgs.append(data_point[0])\n",
    "        labels.append(data_point[1])\n",
    "        label_lengths.append(data_point[2])\n",
    "    labels = pad_sequence(labels, batch_first=True, padding_value=tokenizer.stoi[\"<pad>\"])\n",
    "    return torch.stack(imgs), labels, torch.stack(label_lengths).reshape(-1, 1)"
   ]
  },
  {
   "cell_type": "markdown",
   "metadata": {
    "papermill": {
     "duration": 0.021319,
     "end_time": "2021-03-09T09:44:52.239264",
     "exception": false,
     "start_time": "2021-03-09T09:44:52.217945",
     "status": "completed"
    },
    "tags": []
   },
   "source": [
    "# Transforms"
   ]
  },
  {
   "cell_type": "code",
   "execution_count": 12,
   "metadata": {
    "execution": {
     "iopub.execute_input": "2021-03-09T09:44:52.292255Z",
     "iopub.status.busy": "2021-03-09T09:44:52.290525Z",
     "iopub.status.idle": "2021-03-09T09:44:52.292849Z",
     "shell.execute_reply": "2021-03-09T09:44:52.293265Z"
    },
    "papermill": {
     "duration": 0.032726,
     "end_time": "2021-03-09T09:44:52.293401",
     "exception": false,
     "start_time": "2021-03-09T09:44:52.260675",
     "status": "completed"
    },
    "tags": []
   },
   "outputs": [],
   "source": [
    "# transformations\n",
    "\n",
    "def get_transforms(*, data):\n",
    "    \n",
    "    if data == 'train':\n",
    "        return Compose([\n",
    "            PadIfNeeded(min_height=CFG.size, min_width=CFG.size, border_mode = cv2.BORDER_CONSTANT, value=[255, 255, 255]),\n",
    "            Resize(CFG.size, CFG.size),\n",
    "            RandomRotate90(),\n",
    "            \n",
    "            #HorizontalFlip(p=0.5),                  \n",
    "            #Transpose(p=0.5),\n",
    "            #HorizontalFlip(p=0.5),\n",
    "            #VerticalFlip(p=0.5),\n",
    "            ShiftScaleRotate(p=0.5),\n",
    "            Normalize(\n",
    "                mean=[0.485, 0.456, 0.406],\n",
    "                std=[0.229, 0.224, 0.225],\n",
    "            ),\n",
    "            ToTensorV2(),\n",
    "            \n",
    "        ])\n",
    "\n",
    "    # if data == 'train':\n",
    "    #     return Compose([\n",
    "    #         Resize(CFG.size, CFG.size),\n",
    "    #         HorizontalFlip(p=0.5),                  \n",
    "    #         Transpose(p=0.5),\n",
    "    #         HorizontalFlip(p=0.5),\n",
    "    #         VerticalFlip(p=0.5),\n",
    "    #         ShiftScaleRotate(p=0.5),   \n",
    "    #         Normalize(\n",
    "    #             mean=[0.485, 0.456, 0.406],\n",
    "    #             std=[0.229, 0.224, 0.225],\n",
    "    #         ),\n",
    "    #         ToTensorV2(),\n",
    "    #     ])\n",
    "    \n",
    "    elif data == 'valid':\n",
    "        return Compose([\n",
    "            PadIfNeeded(min_height=CFG.size, min_width=CFG.size, border_mode = cv2.BORDER_CONSTANT, value=[255, 255, 255]),\n",
    "            Resize(CFG.size, CFG.size),\n",
    "            Normalize(\n",
    "                mean=[0.485, 0.456, 0.406],\n",
    "                std=[0.229, 0.224, 0.225],\n",
    "            ),\n",
    "            ToTensorV2(),\n",
    "        ])\n"
   ]
  },
  {
   "cell_type": "code",
   "execution_count": 13,
   "metadata": {
    "execution": {
     "iopub.execute_input": "2021-03-09T09:44:52.341208Z",
     "iopub.status.busy": "2021-03-09T09:44:52.340656Z",
     "iopub.status.idle": "2021-03-09T09:44:52.67284Z",
     "shell.execute_reply": "2021-03-09T09:44:52.673271Z"
    },
    "papermill": {
     "duration": 0.358665,
     "end_time": "2021-03-09T09:44:52.673441",
     "exception": false,
     "start_time": "2021-03-09T09:44:52.314776",
     "status": "completed"
    },
    "tags": []
   },
   "outputs": [
    {
     "output_type": "stream",
     "name": "stderr",
     "text": [
      "Clipping input data to the valid range for imshow with RGB data ([0..1] for floats or [0..255] for integers).\n"
     ]
    },
    {
     "output_type": "display_data",
     "data": {
      "text/plain": "<Figure size 432x288 with 1 Axes>",
      "image/svg+xml": "<?xml version=\"1.0\" encoding=\"utf-8\" standalone=\"no\"?>\n<!DOCTYPE svg PUBLIC \"-//W3C//DTD SVG 1.1//EN\"\n  \"http://www.w3.org/Graphics/SVG/1.1/DTD/svg11.dtd\">\n<!-- Created with matplotlib (https://matplotlib.org/) -->\n<svg height=\"317.38575pt\" version=\"1.1\" viewBox=\"0 0 946.115625 317.38575\" width=\"946.115625pt\" xmlns=\"http://www.w3.org/2000/svg\" xmlns:xlink=\"http://www.w3.org/1999/xlink\">\n <metadata>\n  <rdf:RDF xmlns:cc=\"http://creativecommons.org/ns#\" xmlns:dc=\"http://purl.org/dc/elements/1.1/\" xmlns:rdf=\"http://www.w3.org/1999/02/22-rdf-syntax-ns#\">\n   <cc:Work>\n    <dc:type rdf:resource=\"http://purl.org/dc/dcmitype/StillImage\"/>\n    <dc:date>2021-05-03T01:22:21.659473</dc:date>\n    <dc:format>image/svg+xml</dc:format>\n    <dc:creator>\n     <cc:Agent>\n      <dc:title>Matplotlib v3.3.3, https://matplotlib.org/</dc:title>\n     </cc:Agent>\n    </dc:creator>\n   </cc:Work>\n  </rdf:RDF>\n </metadata>\n <defs>\n  <style type=\"text/css\">*{stroke-linecap:butt;stroke-linejoin:round;}</style>\n </defs>\n <g id=\"figure_1\">\n  <g id=\"patch_1\">\n   <path d=\"M 0 317.38575 \nL 946.115625 317.38575 \nL 946.115625 0 \nL 0 0 \nz\n\" style=\"fill:none;\"/>\n  </g>\n  <g id=\"axes_1\">\n   <g id=\"patch_2\">\n    <path d=\"M 364.337812 293.507625 \nL 581.777812 293.507625 \nL 581.777812 76.067625 \nL 364.337812 76.067625 \nz\n\" style=\"fill:#ffffff;\"/>\n   </g>\n   <g clip-path=\"url(#p5104f8d1c7)\">\n    <image height=\"218\" id=\"image11df65d24b\" transform=\"scale(1 -1)translate(0 -218)\" width=\"218\" x=\"364.337812\" xlink:href=\"data:image/png;base64,\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\" y=\"-75.507625\"/>\n   </g>\n   <g id=\"matplotlib.axis_1\">\n    <g id=\"xtick_1\">\n     <g id=\"line2d_1\">\n      <defs>\n       <path d=\"M 0 0 \nL 0 3.5 \n\" id=\"m32c8a5c76b\" style=\"stroke:#000000;stroke-width:0.8;\"/>\n      </defs>\n      <g>\n       <use style=\"stroke:#000000;stroke-width:0.8;\" x=\"364.82317\" xlink:href=\"#m32c8a5c76b\" y=\"293.507625\"/>\n      </g>\n     </g>\n     <g id=\"text_1\">\n      <!-- 0 -->\n      <g transform=\"translate(361.64192 308.106062)scale(0.1 -0.1)\">\n       <defs>\n        <path d=\"M 31.78125 66.40625 \nQ 24.171875 66.40625 20.328125 58.90625 \nQ 16.5 51.421875 16.5 36.375 \nQ 16.5 21.390625 20.328125 13.890625 \nQ 24.171875 6.390625 31.78125 6.390625 \nQ 39.453125 6.390625 43.28125 13.890625 \nQ 47.125 21.390625 47.125 36.375 \nQ 47.125 51.421875 43.28125 58.90625 \nQ 39.453125 66.40625 31.78125 66.40625 \nz\nM 31.78125 74.21875 \nQ 44.046875 74.21875 50.515625 64.515625 \nQ 56.984375 54.828125 56.984375 36.375 \nQ 56.984375 17.96875 50.515625 8.265625 \nQ 44.046875 -1.421875 31.78125 -1.421875 \nQ 19.53125 -1.421875 13.0625 8.265625 \nQ 6.59375 17.96875 6.59375 36.375 \nQ 6.59375 54.828125 13.0625 64.515625 \nQ 19.53125 74.21875 31.78125 74.21875 \nz\n\" id=\"DejaVuSans-48\"/>\n       </defs>\n       <use xlink:href=\"#DejaVuSans-48\"/>\n      </g>\n     </g>\n    </g>\n    <g id=\"xtick_2\">\n     <g id=\"line2d_2\">\n      <g>\n       <use style=\"stroke:#000000;stroke-width:0.8;\" x=\"413.358884\" xlink:href=\"#m32c8a5c76b\" y=\"293.507625\"/>\n      </g>\n     </g>\n     <g id=\"text_2\">\n      <!-- 50 -->\n      <g transform=\"translate(406.996384 308.106062)scale(0.1 -0.1)\">\n       <defs>\n        <path d=\"M 10.796875 72.90625 \nL 49.515625 72.90625 \nL 49.515625 64.59375 \nL 19.828125 64.59375 \nL 19.828125 46.734375 \nQ 21.96875 47.46875 24.109375 47.828125 \nQ 26.265625 48.1875 28.421875 48.1875 \nQ 40.625 48.1875 47.75 41.5 \nQ 54.890625 34.8125 54.890625 23.390625 \nQ 54.890625 11.625 47.5625 5.09375 \nQ 40.234375 -1.421875 26.90625 -1.421875 \nQ 22.3125 -1.421875 17.546875 -0.640625 \nQ 12.796875 0.140625 7.71875 1.703125 \nL 7.71875 11.625 \nQ 12.109375 9.234375 16.796875 8.0625 \nQ 21.484375 6.890625 26.703125 6.890625 \nQ 35.15625 6.890625 40.078125 11.328125 \nQ 45.015625 15.765625 45.015625 23.390625 \nQ 45.015625 31 40.078125 35.4375 \nQ 35.15625 39.890625 26.703125 39.890625 \nQ 22.75 39.890625 18.8125 39.015625 \nQ 14.890625 38.140625 10.796875 36.28125 \nz\n\" id=\"DejaVuSans-53\"/>\n       </defs>\n       <use xlink:href=\"#DejaVuSans-53\"/>\n       <use x=\"63.623047\" xlink:href=\"#DejaVuSans-48\"/>\n      </g>\n     </g>\n    </g>\n    <g id=\"xtick_3\">\n     <g id=\"line2d_3\">\n      <g>\n       <use style=\"stroke:#000000;stroke-width:0.8;\" x=\"461.894598\" xlink:href=\"#m32c8a5c76b\" y=\"293.507625\"/>\n      </g>\n     </g>\n     <g id=\"text_3\">\n      <!-- 100 -->\n      <g transform=\"translate(452.350848 308.106062)scale(0.1 -0.1)\">\n       <defs>\n        <path d=\"M 12.40625 8.296875 \nL 28.515625 8.296875 \nL 28.515625 63.921875 \nL 10.984375 60.40625 \nL 10.984375 69.390625 \nL 28.421875 72.90625 \nL 38.28125 72.90625 \nL 38.28125 8.296875 \nL 54.390625 8.296875 \nL 54.390625 0 \nL 12.40625 0 \nz\n\" id=\"DejaVuSans-49\"/>\n       </defs>\n       <use xlink:href=\"#DejaVuSans-49\"/>\n       <use x=\"63.623047\" xlink:href=\"#DejaVuSans-48\"/>\n       <use x=\"127.246094\" xlink:href=\"#DejaVuSans-48\"/>\n      </g>\n     </g>\n    </g>\n    <g id=\"xtick_4\">\n     <g id=\"line2d_4\">\n      <g>\n       <use style=\"stroke:#000000;stroke-width:0.8;\" x=\"510.430312\" xlink:href=\"#m32c8a5c76b\" y=\"293.507625\"/>\n      </g>\n     </g>\n     <g id=\"text_4\">\n      <!-- 150 -->\n      <g transform=\"translate(500.886562 308.106062)scale(0.1 -0.1)\">\n       <use xlink:href=\"#DejaVuSans-49\"/>\n       <use x=\"63.623047\" xlink:href=\"#DejaVuSans-53\"/>\n       <use x=\"127.246094\" xlink:href=\"#DejaVuSans-48\"/>\n      </g>\n     </g>\n    </g>\n    <g id=\"xtick_5\">\n     <g id=\"line2d_5\">\n      <g>\n       <use style=\"stroke:#000000;stroke-width:0.8;\" x=\"558.966027\" xlink:href=\"#m32c8a5c76b\" y=\"293.507625\"/>\n      </g>\n     </g>\n     <g id=\"text_5\">\n      <!-- 200 -->\n      <g transform=\"translate(549.422277 308.106062)scale(0.1 -0.1)\">\n       <defs>\n        <path d=\"M 19.1875 8.296875 \nL 53.609375 8.296875 \nL 53.609375 0 \nL 7.328125 0 \nL 7.328125 8.296875 \nQ 12.9375 14.109375 22.625 23.890625 \nQ 32.328125 33.6875 34.8125 36.53125 \nQ 39.546875 41.84375 41.421875 45.53125 \nQ 43.3125 49.21875 43.3125 52.78125 \nQ 43.3125 58.59375 39.234375 62.25 \nQ 35.15625 65.921875 28.609375 65.921875 \nQ 23.96875 65.921875 18.8125 64.3125 \nQ 13.671875 62.703125 7.8125 59.421875 \nL 7.8125 69.390625 \nQ 13.765625 71.78125 18.9375 73 \nQ 24.125 74.21875 28.421875 74.21875 \nQ 39.75 74.21875 46.484375 68.546875 \nQ 53.21875 62.890625 53.21875 53.421875 \nQ 53.21875 48.921875 51.53125 44.890625 \nQ 49.859375 40.875 45.40625 35.40625 \nQ 44.1875 33.984375 37.640625 27.21875 \nQ 31.109375 20.453125 19.1875 8.296875 \nz\n\" id=\"DejaVuSans-50\"/>\n       </defs>\n       <use xlink:href=\"#DejaVuSans-50\"/>\n       <use x=\"63.623047\" xlink:href=\"#DejaVuSans-48\"/>\n       <use x=\"127.246094\" xlink:href=\"#DejaVuSans-48\"/>\n      </g>\n     </g>\n    </g>\n   </g>\n   <g id=\"matplotlib.axis_2\">\n    <g id=\"ytick_1\">\n     <g id=\"line2d_6\">\n      <defs>\n       <path d=\"M 0 0 \nL -3.5 0 \n\" id=\"m16925cfbea\" style=\"stroke:#000000;stroke-width:0.8;\"/>\n      </defs>\n      <g>\n       <use style=\"stroke:#000000;stroke-width:0.8;\" x=\"364.337812\" xlink:href=\"#m16925cfbea\" y=\"76.552982\"/>\n      </g>\n     </g>\n     <g id=\"text_6\">\n      <!-- 0 -->\n      <g transform=\"translate(350.975312 80.352201)scale(0.1 -0.1)\">\n       <use xlink:href=\"#DejaVuSans-48\"/>\n      </g>\n     </g>\n    </g>\n    <g id=\"ytick_2\">\n     <g id=\"line2d_7\">\n      <g>\n       <use style=\"stroke:#000000;stroke-width:0.8;\" x=\"364.337812\" xlink:href=\"#m16925cfbea\" y=\"100.820839\"/>\n      </g>\n     </g>\n     <g id=\"text_7\">\n      <!-- 25 -->\n      <g transform=\"translate(344.612812 104.620058)scale(0.1 -0.1)\">\n       <use xlink:href=\"#DejaVuSans-50\"/>\n       <use x=\"63.623047\" xlink:href=\"#DejaVuSans-53\"/>\n      </g>\n     </g>\n    </g>\n    <g id=\"ytick_3\">\n     <g id=\"line2d_8\">\n      <g>\n       <use style=\"stroke:#000000;stroke-width:0.8;\" x=\"364.337812\" xlink:href=\"#m16925cfbea\" y=\"125.088696\"/>\n      </g>\n     </g>\n     <g id=\"text_8\">\n      <!-- 50 -->\n      <g transform=\"translate(344.612812 128.887915)scale(0.1 -0.1)\">\n       <use xlink:href=\"#DejaVuSans-53\"/>\n       <use x=\"63.623047\" xlink:href=\"#DejaVuSans-48\"/>\n      </g>\n     </g>\n    </g>\n    <g id=\"ytick_4\">\n     <g id=\"line2d_9\">\n      <g>\n       <use style=\"stroke:#000000;stroke-width:0.8;\" x=\"364.337812\" xlink:href=\"#m16925cfbea\" y=\"149.356554\"/>\n      </g>\n     </g>\n     <g id=\"text_9\">\n      <!-- 75 -->\n      <g transform=\"translate(344.612812 153.155772)scale(0.1 -0.1)\">\n       <defs>\n        <path d=\"M 8.203125 72.90625 \nL 55.078125 72.90625 \nL 55.078125 68.703125 \nL 28.609375 0 \nL 18.3125 0 \nL 43.21875 64.59375 \nL 8.203125 64.59375 \nz\n\" id=\"DejaVuSans-55\"/>\n       </defs>\n       <use xlink:href=\"#DejaVuSans-55\"/>\n       <use x=\"63.623047\" xlink:href=\"#DejaVuSans-53\"/>\n      </g>\n     </g>\n    </g>\n    <g id=\"ytick_5\">\n     <g id=\"line2d_10\">\n      <g>\n       <use style=\"stroke:#000000;stroke-width:0.8;\" x=\"364.337812\" xlink:href=\"#m16925cfbea\" y=\"173.624411\"/>\n      </g>\n     </g>\n     <g id=\"text_10\">\n      <!-- 100 -->\n      <g transform=\"translate(338.250312 177.423629)scale(0.1 -0.1)\">\n       <use xlink:href=\"#DejaVuSans-49\"/>\n       <use x=\"63.623047\" xlink:href=\"#DejaVuSans-48\"/>\n       <use x=\"127.246094\" xlink:href=\"#DejaVuSans-48\"/>\n      </g>\n     </g>\n    </g>\n    <g id=\"ytick_6\">\n     <g id=\"line2d_11\">\n      <g>\n       <use style=\"stroke:#000000;stroke-width:0.8;\" x=\"364.337812\" xlink:href=\"#m16925cfbea\" y=\"197.892268\"/>\n      </g>\n     </g>\n     <g id=\"text_11\">\n      <!-- 125 -->\n      <g transform=\"translate(338.250312 201.691487)scale(0.1 -0.1)\">\n       <use xlink:href=\"#DejaVuSans-49\"/>\n       <use x=\"63.623047\" xlink:href=\"#DejaVuSans-50\"/>\n       <use x=\"127.246094\" xlink:href=\"#DejaVuSans-53\"/>\n      </g>\n     </g>\n    </g>\n    <g id=\"ytick_7\">\n     <g id=\"line2d_12\">\n      <g>\n       <use style=\"stroke:#000000;stroke-width:0.8;\" x=\"364.337812\" xlink:href=\"#m16925cfbea\" y=\"222.160125\"/>\n      </g>\n     </g>\n     <g id=\"text_12\">\n      <!-- 150 -->\n      <g transform=\"translate(338.250312 225.959344)scale(0.1 -0.1)\">\n       <use xlink:href=\"#DejaVuSans-49\"/>\n       <use x=\"63.623047\" xlink:href=\"#DejaVuSans-53\"/>\n       <use x=\"127.246094\" xlink:href=\"#DejaVuSans-48\"/>\n      </g>\n     </g>\n    </g>\n    <g id=\"ytick_8\">\n     <g id=\"line2d_13\">\n      <g>\n       <use style=\"stroke:#000000;stroke-width:0.8;\" x=\"364.337812\" xlink:href=\"#m16925cfbea\" y=\"246.427982\"/>\n      </g>\n     </g>\n     <g id=\"text_13\">\n      <!-- 175 -->\n      <g transform=\"translate(338.250312 250.227201)scale(0.1 -0.1)\">\n       <use xlink:href=\"#DejaVuSans-49\"/>\n       <use x=\"63.623047\" xlink:href=\"#DejaVuSans-55\"/>\n       <use x=\"127.246094\" xlink:href=\"#DejaVuSans-53\"/>\n      </g>\n     </g>\n    </g>\n    <g id=\"ytick_9\">\n     <g id=\"line2d_14\">\n      <g>\n       <use style=\"stroke:#000000;stroke-width:0.8;\" x=\"364.337812\" xlink:href=\"#m16925cfbea\" y=\"270.695839\"/>\n      </g>\n     </g>\n     <g id=\"text_14\">\n      <!-- 200 -->\n      <g transform=\"translate(338.250312 274.495058)scale(0.1 -0.1)\">\n       <use xlink:href=\"#DejaVuSans-50\"/>\n       <use x=\"63.623047\" xlink:href=\"#DejaVuSans-48\"/>\n       <use x=\"127.246094\" xlink:href=\"#DejaVuSans-48\"/>\n      </g>\n     </g>\n    </g>\n   </g>\n   <g id=\"patch_3\">\n    <path d=\"M 364.337812 293.507625 \nL 364.337812 76.067625 \n\" style=\"fill:none;stroke:#000000;stroke-linecap:square;stroke-linejoin:miter;stroke-width:0.8;\"/>\n   </g>\n   <g id=\"patch_4\">\n    <path d=\"M 581.777812 293.507625 \nL 581.777812 76.067625 \n\" style=\"fill:none;stroke:#000000;stroke-linecap:square;stroke-linejoin:miter;stroke-width:0.8;\"/>\n   </g>\n   <g id=\"patch_5\">\n    <path d=\"M 364.337812 293.507625 \nL 581.777812 293.507625 \n\" style=\"fill:none;stroke:#000000;stroke-linecap:square;stroke-linejoin:miter;stroke-width:0.8;\"/>\n   </g>\n   <g id=\"patch_6\">\n    <path d=\"M 364.337812 76.067625 \nL 581.777812 76.067625 \n\" style=\"fill:none;stroke:#000000;stroke-linecap:square;stroke-linejoin:miter;stroke-width:0.8;\"/>\n   </g>\n   <g id=\"text_15\">\n    <!-- label: tensor([190, 178,  47, 182,  89, 185, 187,   6,  13,   4, 165,   0,  88,   1, -->\n    <g transform=\"translate(241.933125 16.318125)scale(0.12 -0.12)\">\n     <defs>\n      <path d=\"M 9.421875 75.984375 \nL 18.40625 75.984375 \nL 18.40625 0 \nL 9.421875 0 \nz\n\" id=\"DejaVuSans-108\"/>\n      <path d=\"M 34.28125 27.484375 \nQ 23.390625 27.484375 19.1875 25 \nQ 14.984375 22.515625 14.984375 16.5 \nQ 14.984375 11.71875 18.140625 8.90625 \nQ 21.296875 6.109375 26.703125 6.109375 \nQ 34.1875 6.109375 38.703125 11.40625 \nQ 43.21875 16.703125 43.21875 25.484375 \nL 43.21875 27.484375 \nz\nM 52.203125 31.203125 \nL 52.203125 0 \nL 43.21875 0 \nL 43.21875 8.296875 \nQ 40.140625 3.328125 35.546875 0.953125 \nQ 30.953125 -1.421875 24.3125 -1.421875 \nQ 15.921875 -1.421875 10.953125 3.296875 \nQ 6 8.015625 6 15.921875 \nQ 6 25.140625 12.171875 29.828125 \nQ 18.359375 34.515625 30.609375 34.515625 \nL 43.21875 34.515625 \nL 43.21875 35.40625 \nQ 43.21875 41.609375 39.140625 45 \nQ 35.0625 48.390625 27.6875 48.390625 \nQ 23 48.390625 18.546875 47.265625 \nQ 14.109375 46.140625 10.015625 43.890625 \nL 10.015625 52.203125 \nQ 14.9375 54.109375 19.578125 55.046875 \nQ 24.21875 56 28.609375 56 \nQ 40.484375 56 46.34375 49.84375 \nQ 52.203125 43.703125 52.203125 31.203125 \nz\n\" id=\"DejaVuSans-97\"/>\n      <path d=\"M 48.6875 27.296875 \nQ 48.6875 37.203125 44.609375 42.84375 \nQ 40.53125 48.484375 33.40625 48.484375 \nQ 26.265625 48.484375 22.1875 42.84375 \nQ 18.109375 37.203125 18.109375 27.296875 \nQ 18.109375 17.390625 22.1875 11.75 \nQ 26.265625 6.109375 33.40625 6.109375 \nQ 40.53125 6.109375 44.609375 11.75 \nQ 48.6875 17.390625 48.6875 27.296875 \nz\nM 18.109375 46.390625 \nQ 20.953125 51.265625 25.265625 53.625 \nQ 29.59375 56 35.59375 56 \nQ 45.5625 56 51.78125 48.09375 \nQ 58.015625 40.1875 58.015625 27.296875 \nQ 58.015625 14.40625 51.78125 6.484375 \nQ 45.5625 -1.421875 35.59375 -1.421875 \nQ 29.59375 -1.421875 25.265625 0.953125 \nQ 20.953125 3.328125 18.109375 8.203125 \nL 18.109375 0 \nL 9.078125 0 \nL 9.078125 75.984375 \nL 18.109375 75.984375 \nz\n\" id=\"DejaVuSans-98\"/>\n      <path d=\"M 56.203125 29.59375 \nL 56.203125 25.203125 \nL 14.890625 25.203125 \nQ 15.484375 15.921875 20.484375 11.0625 \nQ 25.484375 6.203125 34.421875 6.203125 \nQ 39.59375 6.203125 44.453125 7.46875 \nQ 49.3125 8.734375 54.109375 11.28125 \nL 54.109375 2.78125 \nQ 49.265625 0.734375 44.1875 -0.34375 \nQ 39.109375 -1.421875 33.890625 -1.421875 \nQ 20.796875 -1.421875 13.15625 6.1875 \nQ 5.515625 13.8125 5.515625 26.8125 \nQ 5.515625 40.234375 12.765625 48.109375 \nQ 20.015625 56 32.328125 56 \nQ 43.359375 56 49.78125 48.890625 \nQ 56.203125 41.796875 56.203125 29.59375 \nz\nM 47.21875 32.234375 \nQ 47.125 39.59375 43.09375 43.984375 \nQ 39.0625 48.390625 32.421875 48.390625 \nQ 24.90625 48.390625 20.390625 44.140625 \nQ 15.875 39.890625 15.1875 32.171875 \nz\n\" id=\"DejaVuSans-101\"/>\n      <path d=\"M 11.71875 12.40625 \nL 22.015625 12.40625 \nL 22.015625 0 \nL 11.71875 0 \nz\nM 11.71875 51.703125 \nL 22.015625 51.703125 \nL 22.015625 39.3125 \nL 11.71875 39.3125 \nz\n\" id=\"DejaVuSans-58\"/>\n      <path id=\"DejaVuSans-32\"/>\n      <path d=\"M 18.3125 70.21875 \nL 18.3125 54.6875 \nL 36.8125 54.6875 \nL 36.8125 47.703125 \nL 18.3125 47.703125 \nL 18.3125 18.015625 \nQ 18.3125 11.328125 20.140625 9.421875 \nQ 21.96875 7.515625 27.59375 7.515625 \nL 36.8125 7.515625 \nL 36.8125 0 \nL 27.59375 0 \nQ 17.1875 0 13.234375 3.875 \nQ 9.28125 7.765625 9.28125 18.015625 \nL 9.28125 47.703125 \nL 2.6875 47.703125 \nL 2.6875 54.6875 \nL 9.28125 54.6875 \nL 9.28125 70.21875 \nz\n\" id=\"DejaVuSans-116\"/>\n      <path d=\"M 54.890625 33.015625 \nL 54.890625 0 \nL 45.90625 0 \nL 45.90625 32.71875 \nQ 45.90625 40.484375 42.875 44.328125 \nQ 39.84375 48.1875 33.796875 48.1875 \nQ 26.515625 48.1875 22.3125 43.546875 \nQ 18.109375 38.921875 18.109375 30.90625 \nL 18.109375 0 \nL 9.078125 0 \nL 9.078125 54.6875 \nL 18.109375 54.6875 \nL 18.109375 46.1875 \nQ 21.34375 51.125 25.703125 53.5625 \nQ 30.078125 56 35.796875 56 \nQ 45.21875 56 50.046875 50.171875 \nQ 54.890625 44.34375 54.890625 33.015625 \nz\n\" id=\"DejaVuSans-110\"/>\n      <path d=\"M 44.28125 53.078125 \nL 44.28125 44.578125 \nQ 40.484375 46.53125 36.375 47.5 \nQ 32.28125 48.484375 27.875 48.484375 \nQ 21.1875 48.484375 17.84375 46.4375 \nQ 14.5 44.390625 14.5 40.28125 \nQ 14.5 37.15625 16.890625 35.375 \nQ 19.28125 33.59375 26.515625 31.984375 \nL 29.59375 31.296875 \nQ 39.15625 29.25 43.1875 25.515625 \nQ 47.21875 21.78125 47.21875 15.09375 \nQ 47.21875 7.46875 41.1875 3.015625 \nQ 35.15625 -1.421875 24.609375 -1.421875 \nQ 20.21875 -1.421875 15.453125 -0.5625 \nQ 10.6875 0.296875 5.421875 2 \nL 5.421875 11.28125 \nQ 10.40625 8.6875 15.234375 7.390625 \nQ 20.0625 6.109375 24.8125 6.109375 \nQ 31.15625 6.109375 34.5625 8.28125 \nQ 37.984375 10.453125 37.984375 14.40625 \nQ 37.984375 18.0625 35.515625 20.015625 \nQ 33.0625 21.96875 24.703125 23.78125 \nL 21.578125 24.515625 \nQ 13.234375 26.265625 9.515625 29.90625 \nQ 5.8125 33.546875 5.8125 39.890625 \nQ 5.8125 47.609375 11.28125 51.796875 \nQ 16.75 56 26.8125 56 \nQ 31.78125 56 36.171875 55.265625 \nQ 40.578125 54.546875 44.28125 53.078125 \nz\n\" id=\"DejaVuSans-115\"/>\n      <path d=\"M 30.609375 48.390625 \nQ 23.390625 48.390625 19.1875 42.75 \nQ 14.984375 37.109375 14.984375 27.296875 \nQ 14.984375 17.484375 19.15625 11.84375 \nQ 23.34375 6.203125 30.609375 6.203125 \nQ 37.796875 6.203125 41.984375 11.859375 \nQ 46.1875 17.53125 46.1875 27.296875 \nQ 46.1875 37.015625 41.984375 42.703125 \nQ 37.796875 48.390625 30.609375 48.390625 \nz\nM 30.609375 56 \nQ 42.328125 56 49.015625 48.375 \nQ 55.71875 40.765625 55.71875 27.296875 \nQ 55.71875 13.875 49.015625 6.21875 \nQ 42.328125 -1.421875 30.609375 -1.421875 \nQ 18.84375 -1.421875 12.171875 6.21875 \nQ 5.515625 13.875 5.515625 27.296875 \nQ 5.515625 40.765625 12.171875 48.375 \nQ 18.84375 56 30.609375 56 \nz\n\" id=\"DejaVuSans-111\"/>\n      <path d=\"M 41.109375 46.296875 \nQ 39.59375 47.171875 37.8125 47.578125 \nQ 36.03125 48 33.890625 48 \nQ 26.265625 48 22.1875 43.046875 \nQ 18.109375 38.09375 18.109375 28.8125 \nL 18.109375 0 \nL 9.078125 0 \nL 9.078125 54.6875 \nL 18.109375 54.6875 \nL 18.109375 46.1875 \nQ 20.953125 51.171875 25.484375 53.578125 \nQ 30.03125 56 36.53125 56 \nQ 37.453125 56 38.578125 55.875 \nQ 39.703125 55.765625 41.0625 55.515625 \nz\n\" id=\"DejaVuSans-114\"/>\n      <path d=\"M 31 75.875 \nQ 24.46875 64.65625 21.28125 53.65625 \nQ 18.109375 42.671875 18.109375 31.390625 \nQ 18.109375 20.125 21.3125 9.0625 \nQ 24.515625 -2 31 -13.1875 \nL 23.1875 -13.1875 \nQ 15.875 -1.703125 12.234375 9.375 \nQ 8.59375 20.453125 8.59375 31.390625 \nQ 8.59375 42.28125 12.203125 53.3125 \nQ 15.828125 64.359375 23.1875 75.875 \nz\n\" id=\"DejaVuSans-40\"/>\n      <path d=\"M 8.59375 75.984375 \nL 29.296875 75.984375 \nL 29.296875 69 \nL 17.578125 69 \nL 17.578125 -6.203125 \nL 29.296875 -6.203125 \nL 29.296875 -13.1875 \nL 8.59375 -13.1875 \nz\n\" id=\"DejaVuSans-91\"/>\n      <path d=\"M 10.984375 1.515625 \nL 10.984375 10.5 \nQ 14.703125 8.734375 18.5 7.8125 \nQ 22.3125 6.890625 25.984375 6.890625 \nQ 35.75 6.890625 40.890625 13.453125 \nQ 46.046875 20.015625 46.78125 33.40625 \nQ 43.953125 29.203125 39.59375 26.953125 \nQ 35.25 24.703125 29.984375 24.703125 \nQ 19.046875 24.703125 12.671875 31.3125 \nQ 6.296875 37.9375 6.296875 49.421875 \nQ 6.296875 60.640625 12.9375 67.421875 \nQ 19.578125 74.21875 30.609375 74.21875 \nQ 43.265625 74.21875 49.921875 64.515625 \nQ 56.59375 54.828125 56.59375 36.375 \nQ 56.59375 19.140625 48.40625 8.859375 \nQ 40.234375 -1.421875 26.421875 -1.421875 \nQ 22.703125 -1.421875 18.890625 -0.6875 \nQ 15.09375 0.046875 10.984375 1.515625 \nz\nM 30.609375 32.421875 \nQ 37.25 32.421875 41.125 36.953125 \nQ 45.015625 41.5 45.015625 49.421875 \nQ 45.015625 57.28125 41.125 61.84375 \nQ 37.25 66.40625 30.609375 66.40625 \nQ 23.96875 66.40625 20.09375 61.84375 \nQ 16.21875 57.28125 16.21875 49.421875 \nQ 16.21875 41.5 20.09375 36.953125 \nQ 23.96875 32.421875 30.609375 32.421875 \nz\n\" id=\"DejaVuSans-57\"/>\n      <path d=\"M 11.71875 12.40625 \nL 22.015625 12.40625 \nL 22.015625 4 \nL 14.015625 -11.625 \nL 7.71875 -11.625 \nL 11.71875 4 \nz\n\" id=\"DejaVuSans-44\"/>\n      <path d=\"M 31.78125 34.625 \nQ 24.75 34.625 20.71875 30.859375 \nQ 16.703125 27.09375 16.703125 20.515625 \nQ 16.703125 13.921875 20.71875 10.15625 \nQ 24.75 6.390625 31.78125 6.390625 \nQ 38.8125 6.390625 42.859375 10.171875 \nQ 46.921875 13.96875 46.921875 20.515625 \nQ 46.921875 27.09375 42.890625 30.859375 \nQ 38.875 34.625 31.78125 34.625 \nz\nM 21.921875 38.8125 \nQ 15.578125 40.375 12.03125 44.71875 \nQ 8.5 49.078125 8.5 55.328125 \nQ 8.5 64.0625 14.71875 69.140625 \nQ 20.953125 74.21875 31.78125 74.21875 \nQ 42.671875 74.21875 48.875 69.140625 \nQ 55.078125 64.0625 55.078125 55.328125 \nQ 55.078125 49.078125 51.53125 44.71875 \nQ 48 40.375 41.703125 38.8125 \nQ 48.828125 37.15625 52.796875 32.3125 \nQ 56.78125 27.484375 56.78125 20.515625 \nQ 56.78125 9.90625 50.3125 4.234375 \nQ 43.84375 -1.421875 31.78125 -1.421875 \nQ 19.734375 -1.421875 13.25 4.234375 \nQ 6.78125 9.90625 6.78125 20.515625 \nQ 6.78125 27.484375 10.78125 32.3125 \nQ 14.796875 37.15625 21.921875 38.8125 \nz\nM 18.3125 54.390625 \nQ 18.3125 48.734375 21.84375 45.5625 \nQ 25.390625 42.390625 31.78125 42.390625 \nQ 38.140625 42.390625 41.71875 45.5625 \nQ 45.3125 48.734375 45.3125 54.390625 \nQ 45.3125 60.0625 41.71875 63.234375 \nQ 38.140625 66.40625 31.78125 66.40625 \nQ 25.390625 66.40625 21.84375 63.234375 \nQ 18.3125 60.0625 18.3125 54.390625 \nz\n\" id=\"DejaVuSans-56\"/>\n      <path d=\"M 37.796875 64.3125 \nL 12.890625 25.390625 \nL 37.796875 25.390625 \nz\nM 35.203125 72.90625 \nL 47.609375 72.90625 \nL 47.609375 25.390625 \nL 58.015625 25.390625 \nL 58.015625 17.1875 \nL 47.609375 17.1875 \nL 47.609375 0 \nL 37.796875 0 \nL 37.796875 17.1875 \nL 4.890625 17.1875 \nL 4.890625 26.703125 \nz\n\" id=\"DejaVuSans-52\"/>\n      <path d=\"M 33.015625 40.375 \nQ 26.375 40.375 22.484375 35.828125 \nQ 18.609375 31.296875 18.609375 23.390625 \nQ 18.609375 15.53125 22.484375 10.953125 \nQ 26.375 6.390625 33.015625 6.390625 \nQ 39.65625 6.390625 43.53125 10.953125 \nQ 47.40625 15.53125 47.40625 23.390625 \nQ 47.40625 31.296875 43.53125 35.828125 \nQ 39.65625 40.375 33.015625 40.375 \nz\nM 52.59375 71.296875 \nL 52.59375 62.3125 \nQ 48.875 64.0625 45.09375 64.984375 \nQ 41.3125 65.921875 37.59375 65.921875 \nQ 27.828125 65.921875 22.671875 59.328125 \nQ 17.53125 52.734375 16.796875 39.40625 \nQ 19.671875 43.65625 24.015625 45.921875 \nQ 28.375 48.1875 33.59375 48.1875 \nQ 44.578125 48.1875 50.953125 41.515625 \nQ 57.328125 34.859375 57.328125 23.390625 \nQ 57.328125 12.15625 50.6875 5.359375 \nQ 44.046875 -1.421875 33.015625 -1.421875 \nQ 20.359375 -1.421875 13.671875 8.265625 \nQ 6.984375 17.96875 6.984375 36.375 \nQ 6.984375 53.65625 15.1875 63.9375 \nQ 23.390625 74.21875 37.203125 74.21875 \nQ 40.921875 74.21875 44.703125 73.484375 \nQ 48.484375 72.75 52.59375 71.296875 \nz\n\" id=\"DejaVuSans-54\"/>\n      <path d=\"M 40.578125 39.3125 \nQ 47.65625 37.796875 51.625 33 \nQ 55.609375 28.21875 55.609375 21.1875 \nQ 55.609375 10.40625 48.1875 4.484375 \nQ 40.765625 -1.421875 27.09375 -1.421875 \nQ 22.515625 -1.421875 17.65625 -0.515625 \nQ 12.796875 0.390625 7.625 2.203125 \nL 7.625 11.71875 \nQ 11.71875 9.328125 16.59375 8.109375 \nQ 21.484375 6.890625 26.8125 6.890625 \nQ 36.078125 6.890625 40.9375 10.546875 \nQ 45.796875 14.203125 45.796875 21.1875 \nQ 45.796875 27.640625 41.28125 31.265625 \nQ 36.765625 34.90625 28.71875 34.90625 \nL 20.21875 34.90625 \nL 20.21875 43.015625 \nL 29.109375 43.015625 \nQ 36.375 43.015625 40.234375 45.921875 \nQ 44.09375 48.828125 44.09375 54.296875 \nQ 44.09375 59.90625 40.109375 62.90625 \nQ 36.140625 65.921875 28.71875 65.921875 \nQ 24.65625 65.921875 20.015625 65.03125 \nQ 15.375 64.15625 9.8125 62.3125 \nL 9.8125 71.09375 \nQ 15.4375 72.65625 20.34375 73.4375 \nQ 25.25 74.21875 29.59375 74.21875 \nQ 40.828125 74.21875 47.359375 69.109375 \nQ 53.90625 64.015625 53.90625 55.328125 \nQ 53.90625 49.265625 50.4375 45.09375 \nQ 46.96875 40.921875 40.578125 39.3125 \nz\n\" id=\"DejaVuSans-51\"/>\n     </defs>\n     <use xlink:href=\"#DejaVuSans-108\"/>\n     <use x=\"27.783203\" xlink:href=\"#DejaVuSans-97\"/>\n     <use x=\"89.0625\" xlink:href=\"#DejaVuSans-98\"/>\n     <use x=\"152.539062\" xlink:href=\"#DejaVuSans-101\"/>\n     <use x=\"214.0625\" xlink:href=\"#DejaVuSans-108\"/>\n     <use x=\"241.845703\" xlink:href=\"#DejaVuSans-58\"/>\n     <use x=\"275.537109\" xlink:href=\"#DejaVuSans-32\"/>\n     <use x=\"307.324219\" xlink:href=\"#DejaVuSans-116\"/>\n     <use x=\"346.533203\" xlink:href=\"#DejaVuSans-101\"/>\n     <use x=\"408.056641\" xlink:href=\"#DejaVuSans-110\"/>\n     <use x=\"471.435547\" xlink:href=\"#DejaVuSans-115\"/>\n     <use x=\"523.535156\" xlink:href=\"#DejaVuSans-111\"/>\n     <use x=\"584.716797\" xlink:href=\"#DejaVuSans-114\"/>\n     <use x=\"625.830078\" xlink:href=\"#DejaVuSans-40\"/>\n     <use x=\"664.84375\" xlink:href=\"#DejaVuSans-91\"/>\n     <use x=\"703.857422\" xlink:href=\"#DejaVuSans-49\"/>\n     <use x=\"767.480469\" xlink:href=\"#DejaVuSans-57\"/>\n     <use x=\"831.103516\" xlink:href=\"#DejaVuSans-48\"/>\n     <use x=\"894.726562\" xlink:href=\"#DejaVuSans-44\"/>\n     <use x=\"926.513672\" xlink:href=\"#DejaVuSans-32\"/>\n     <use x=\"958.300781\" xlink:href=\"#DejaVuSans-49\"/>\n     <use x=\"1021.923828\" xlink:href=\"#DejaVuSans-55\"/>\n     <use x=\"1085.546875\" xlink:href=\"#DejaVuSans-56\"/>\n     <use x=\"1149.169922\" xlink:href=\"#DejaVuSans-44\"/>\n     <use x=\"1180.957031\" xlink:href=\"#DejaVuSans-32\"/>\n     <use x=\"1212.744141\" xlink:href=\"#DejaVuSans-32\"/>\n     <use x=\"1244.53125\" xlink:href=\"#DejaVuSans-52\"/>\n     <use x=\"1308.154297\" xlink:href=\"#DejaVuSans-55\"/>\n     <use x=\"1371.777344\" xlink:href=\"#DejaVuSans-44\"/>\n     <use x=\"1403.564453\" xlink:href=\"#DejaVuSans-32\"/>\n     <use x=\"1435.351562\" xlink:href=\"#DejaVuSans-49\"/>\n     <use x=\"1498.974609\" xlink:href=\"#DejaVuSans-56\"/>\n     <use x=\"1562.597656\" xlink:href=\"#DejaVuSans-50\"/>\n     <use x=\"1626.220703\" xlink:href=\"#DejaVuSans-44\"/>\n     <use x=\"1658.007812\" xlink:href=\"#DejaVuSans-32\"/>\n     <use x=\"1689.794922\" xlink:href=\"#DejaVuSans-32\"/>\n     <use x=\"1721.582031\" xlink:href=\"#DejaVuSans-56\"/>\n     <use x=\"1785.205078\" xlink:href=\"#DejaVuSans-57\"/>\n     <use x=\"1848.828125\" xlink:href=\"#DejaVuSans-44\"/>\n     <use x=\"1880.615234\" xlink:href=\"#DejaVuSans-32\"/>\n     <use x=\"1912.402344\" xlink:href=\"#DejaVuSans-49\"/>\n     <use x=\"1976.025391\" xlink:href=\"#DejaVuSans-56\"/>\n     <use x=\"2039.648438\" xlink:href=\"#DejaVuSans-53\"/>\n     <use x=\"2103.271484\" xlink:href=\"#DejaVuSans-44\"/>\n     <use x=\"2135.058594\" xlink:href=\"#DejaVuSans-32\"/>\n     <use x=\"2166.845703\" xlink:href=\"#DejaVuSans-49\"/>\n     <use x=\"2230.46875\" xlink:href=\"#DejaVuSans-56\"/>\n     <use x=\"2294.091797\" xlink:href=\"#DejaVuSans-55\"/>\n     <use x=\"2357.714844\" xlink:href=\"#DejaVuSans-44\"/>\n     <use x=\"2389.501953\" xlink:href=\"#DejaVuSans-32\"/>\n     <use x=\"2421.289062\" xlink:href=\"#DejaVuSans-32\"/>\n     <use x=\"2453.076172\" xlink:href=\"#DejaVuSans-32\"/>\n     <use x=\"2484.863281\" xlink:href=\"#DejaVuSans-54\"/>\n     <use x=\"2548.486328\" xlink:href=\"#DejaVuSans-44\"/>\n     <use x=\"2580.273438\" xlink:href=\"#DejaVuSans-32\"/>\n     <use x=\"2612.060547\" xlink:href=\"#DejaVuSans-32\"/>\n     <use x=\"2643.847656\" xlink:href=\"#DejaVuSans-49\"/>\n     <use x=\"2707.470703\" xlink:href=\"#DejaVuSans-51\"/>\n     <use x=\"2771.09375\" xlink:href=\"#DejaVuSans-44\"/>\n     <use x=\"2802.880859\" xlink:href=\"#DejaVuSans-32\"/>\n     <use x=\"2834.667969\" xlink:href=\"#DejaVuSans-32\"/>\n     <use x=\"2866.455078\" xlink:href=\"#DejaVuSans-32\"/>\n     <use x=\"2898.242188\" xlink:href=\"#DejaVuSans-52\"/>\n     <use x=\"2961.865234\" xlink:href=\"#DejaVuSans-44\"/>\n     <use x=\"2993.652344\" xlink:href=\"#DejaVuSans-32\"/>\n     <use x=\"3025.439453\" xlink:href=\"#DejaVuSans-49\"/>\n     <use x=\"3089.0625\" xlink:href=\"#DejaVuSans-54\"/>\n     <use x=\"3152.685547\" xlink:href=\"#DejaVuSans-53\"/>\n     <use x=\"3216.308594\" xlink:href=\"#DejaVuSans-44\"/>\n     <use x=\"3248.095703\" xlink:href=\"#DejaVuSans-32\"/>\n     <use x=\"3279.882812\" xlink:href=\"#DejaVuSans-32\"/>\n     <use x=\"3311.669922\" xlink:href=\"#DejaVuSans-32\"/>\n     <use x=\"3343.457031\" xlink:href=\"#DejaVuSans-48\"/>\n     <use x=\"3407.080078\" xlink:href=\"#DejaVuSans-44\"/>\n     <use x=\"3438.867188\" xlink:href=\"#DejaVuSans-32\"/>\n     <use x=\"3470.654297\" xlink:href=\"#DejaVuSans-32\"/>\n     <use x=\"3502.441406\" xlink:href=\"#DejaVuSans-56\"/>\n     <use x=\"3566.064453\" xlink:href=\"#DejaVuSans-56\"/>\n     <use x=\"3629.6875\" xlink:href=\"#DejaVuSans-44\"/>\n     <use x=\"3661.474609\" xlink:href=\"#DejaVuSans-32\"/>\n     <use x=\"3693.261719\" xlink:href=\"#DejaVuSans-32\"/>\n     <use x=\"3725.048828\" xlink:href=\"#DejaVuSans-32\"/>\n     <use x=\"3756.835938\" xlink:href=\"#DejaVuSans-49\"/>\n     <use x=\"3820.458984\" xlink:href=\"#DejaVuSans-44\"/>\n    </g>\n    <!--         154,   4,  69,   4,  47,   4, 132,   4, 121,   4,  14,   0,  99,   1, -->\n    <g transform=\"translate(280.373437 29.7555)scale(0.12 -0.12)\">\n     <use xlink:href=\"#DejaVuSans-32\"/>\n     <use x=\"31.787109\" xlink:href=\"#DejaVuSans-32\"/>\n     <use x=\"63.574219\" xlink:href=\"#DejaVuSans-32\"/>\n     <use x=\"95.361328\" xlink:href=\"#DejaVuSans-32\"/>\n     <use x=\"127.148438\" xlink:href=\"#DejaVuSans-32\"/>\n     <use x=\"158.935547\" xlink:href=\"#DejaVuSans-32\"/>\n     <use x=\"190.722656\" xlink:href=\"#DejaVuSans-32\"/>\n     <use x=\"222.509766\" xlink:href=\"#DejaVuSans-32\"/>\n     <use x=\"254.296875\" xlink:href=\"#DejaVuSans-49\"/>\n     <use x=\"317.919922\" xlink:href=\"#DejaVuSans-53\"/>\n     <use x=\"381.542969\" xlink:href=\"#DejaVuSans-52\"/>\n     <use x=\"445.166016\" xlink:href=\"#DejaVuSans-44\"/>\n     <use x=\"476.953125\" xlink:href=\"#DejaVuSans-32\"/>\n     <use x=\"508.740234\" xlink:href=\"#DejaVuSans-32\"/>\n     <use x=\"540.527344\" xlink:href=\"#DejaVuSans-32\"/>\n     <use x=\"572.314453\" xlink:href=\"#DejaVuSans-52\"/>\n     <use x=\"635.9375\" xlink:href=\"#DejaVuSans-44\"/>\n     <use x=\"667.724609\" xlink:href=\"#DejaVuSans-32\"/>\n     <use x=\"699.511719\" xlink:href=\"#DejaVuSans-32\"/>\n     <use x=\"731.298828\" xlink:href=\"#DejaVuSans-54\"/>\n     <use x=\"794.921875\" xlink:href=\"#DejaVuSans-57\"/>\n     <use x=\"858.544922\" xlink:href=\"#DejaVuSans-44\"/>\n     <use x=\"890.332031\" xlink:href=\"#DejaVuSans-32\"/>\n     <use x=\"922.119141\" xlink:href=\"#DejaVuSans-32\"/>\n     <use x=\"953.90625\" xlink:href=\"#DejaVuSans-32\"/>\n     <use x=\"985.693359\" xlink:href=\"#DejaVuSans-52\"/>\n     <use x=\"1049.316406\" xlink:href=\"#DejaVuSans-44\"/>\n     <use x=\"1081.103516\" xlink:href=\"#DejaVuSans-32\"/>\n     <use x=\"1112.890625\" xlink:href=\"#DejaVuSans-32\"/>\n     <use x=\"1144.677734\" xlink:href=\"#DejaVuSans-52\"/>\n     <use x=\"1208.300781\" xlink:href=\"#DejaVuSans-55\"/>\n     <use x=\"1271.923828\" xlink:href=\"#DejaVuSans-44\"/>\n     <use x=\"1303.710938\" xlink:href=\"#DejaVuSans-32\"/>\n     <use x=\"1335.498047\" xlink:href=\"#DejaVuSans-32\"/>\n     <use x=\"1367.285156\" xlink:href=\"#DejaVuSans-32\"/>\n     <use x=\"1399.072266\" xlink:href=\"#DejaVuSans-52\"/>\n     <use x=\"1462.695312\" xlink:href=\"#DejaVuSans-44\"/>\n     <use x=\"1494.482422\" xlink:href=\"#DejaVuSans-32\"/>\n     <use x=\"1526.269531\" xlink:href=\"#DejaVuSans-49\"/>\n     <use x=\"1589.892578\" xlink:href=\"#DejaVuSans-51\"/>\n     <use x=\"1653.515625\" xlink:href=\"#DejaVuSans-50\"/>\n     <use x=\"1717.138672\" xlink:href=\"#DejaVuSans-44\"/>\n     <use x=\"1748.925781\" xlink:href=\"#DejaVuSans-32\"/>\n     <use x=\"1780.712891\" xlink:href=\"#DejaVuSans-32\"/>\n     <use x=\"1812.5\" xlink:href=\"#DejaVuSans-32\"/>\n     <use x=\"1844.287109\" xlink:href=\"#DejaVuSans-52\"/>\n     <use x=\"1907.910156\" xlink:href=\"#DejaVuSans-44\"/>\n     <use x=\"1939.697266\" xlink:href=\"#DejaVuSans-32\"/>\n     <use x=\"1971.484375\" xlink:href=\"#DejaVuSans-49\"/>\n     <use x=\"2035.107422\" xlink:href=\"#DejaVuSans-50\"/>\n     <use x=\"2098.730469\" xlink:href=\"#DejaVuSans-49\"/>\n     <use x=\"2162.353516\" xlink:href=\"#DejaVuSans-44\"/>\n     <use x=\"2194.140625\" xlink:href=\"#DejaVuSans-32\"/>\n     <use x=\"2225.927734\" xlink:href=\"#DejaVuSans-32\"/>\n     <use x=\"2257.714844\" xlink:href=\"#DejaVuSans-32\"/>\n     <use x=\"2289.501953\" xlink:href=\"#DejaVuSans-52\"/>\n     <use x=\"2353.125\" xlink:href=\"#DejaVuSans-44\"/>\n     <use x=\"2384.912109\" xlink:href=\"#DejaVuSans-32\"/>\n     <use x=\"2416.699219\" xlink:href=\"#DejaVuSans-32\"/>\n     <use x=\"2448.486328\" xlink:href=\"#DejaVuSans-49\"/>\n     <use x=\"2512.109375\" xlink:href=\"#DejaVuSans-52\"/>\n     <use x=\"2575.732422\" xlink:href=\"#DejaVuSans-44\"/>\n     <use x=\"2607.519531\" xlink:href=\"#DejaVuSans-32\"/>\n     <use x=\"2639.306641\" xlink:href=\"#DejaVuSans-32\"/>\n     <use x=\"2671.09375\" xlink:href=\"#DejaVuSans-32\"/>\n     <use x=\"2702.880859\" xlink:href=\"#DejaVuSans-48\"/>\n     <use x=\"2766.503906\" xlink:href=\"#DejaVuSans-44\"/>\n     <use x=\"2798.291016\" xlink:href=\"#DejaVuSans-32\"/>\n     <use x=\"2830.078125\" xlink:href=\"#DejaVuSans-32\"/>\n     <use x=\"2861.865234\" xlink:href=\"#DejaVuSans-57\"/>\n     <use x=\"2925.488281\" xlink:href=\"#DejaVuSans-57\"/>\n     <use x=\"2989.111328\" xlink:href=\"#DejaVuSans-44\"/>\n     <use x=\"3020.898438\" xlink:href=\"#DejaVuSans-32\"/>\n     <use x=\"3052.685547\" xlink:href=\"#DejaVuSans-32\"/>\n     <use x=\"3084.472656\" xlink:href=\"#DejaVuSans-32\"/>\n     <use x=\"3116.259766\" xlink:href=\"#DejaVuSans-49\"/>\n     <use x=\"3179.882812\" xlink:href=\"#DejaVuSans-44\"/>\n    </g>\n    <!--         143,   4,  36,   0,  47,   1,  25,   0, 110,   1,  58,   7, 121,   4, -->\n    <g transform=\"translate(280.373437 43.192875)scale(0.12 -0.12)\">\n     <use xlink:href=\"#DejaVuSans-32\"/>\n     <use x=\"31.787109\" xlink:href=\"#DejaVuSans-32\"/>\n     <use x=\"63.574219\" xlink:href=\"#DejaVuSans-32\"/>\n     <use x=\"95.361328\" xlink:href=\"#DejaVuSans-32\"/>\n     <use x=\"127.148438\" xlink:href=\"#DejaVuSans-32\"/>\n     <use x=\"158.935547\" xlink:href=\"#DejaVuSans-32\"/>\n     <use x=\"190.722656\" xlink:href=\"#DejaVuSans-32\"/>\n     <use x=\"222.509766\" xlink:href=\"#DejaVuSans-32\"/>\n     <use x=\"254.296875\" xlink:href=\"#DejaVuSans-49\"/>\n     <use x=\"317.919922\" xlink:href=\"#DejaVuSans-52\"/>\n     <use x=\"381.542969\" xlink:href=\"#DejaVuSans-51\"/>\n     <use x=\"445.166016\" xlink:href=\"#DejaVuSans-44\"/>\n     <use x=\"476.953125\" xlink:href=\"#DejaVuSans-32\"/>\n     <use x=\"508.740234\" xlink:href=\"#DejaVuSans-32\"/>\n     <use x=\"540.527344\" xlink:href=\"#DejaVuSans-32\"/>\n     <use x=\"572.314453\" xlink:href=\"#DejaVuSans-52\"/>\n     <use x=\"635.9375\" xlink:href=\"#DejaVuSans-44\"/>\n     <use x=\"667.724609\" xlink:href=\"#DejaVuSans-32\"/>\n     <use x=\"699.511719\" xlink:href=\"#DejaVuSans-32\"/>\n     <use x=\"731.298828\" xlink:href=\"#DejaVuSans-51\"/>\n     <use x=\"794.921875\" xlink:href=\"#DejaVuSans-54\"/>\n     <use x=\"858.544922\" xlink:href=\"#DejaVuSans-44\"/>\n     <use x=\"890.332031\" xlink:href=\"#DejaVuSans-32\"/>\n     <use x=\"922.119141\" xlink:href=\"#DejaVuSans-32\"/>\n     <use x=\"953.90625\" xlink:href=\"#DejaVuSans-32\"/>\n     <use x=\"985.693359\" xlink:href=\"#DejaVuSans-48\"/>\n     <use x=\"1049.316406\" xlink:href=\"#DejaVuSans-44\"/>\n     <use x=\"1081.103516\" xlink:href=\"#DejaVuSans-32\"/>\n     <use x=\"1112.890625\" xlink:href=\"#DejaVuSans-32\"/>\n     <use x=\"1144.677734\" xlink:href=\"#DejaVuSans-52\"/>\n     <use x=\"1208.300781\" xlink:href=\"#DejaVuSans-55\"/>\n     <use x=\"1271.923828\" xlink:href=\"#DejaVuSans-44\"/>\n     <use x=\"1303.710938\" xlink:href=\"#DejaVuSans-32\"/>\n     <use x=\"1335.498047\" xlink:href=\"#DejaVuSans-32\"/>\n     <use x=\"1367.285156\" xlink:href=\"#DejaVuSans-32\"/>\n     <use x=\"1399.072266\" xlink:href=\"#DejaVuSans-49\"/>\n     <use x=\"1462.695312\" xlink:href=\"#DejaVuSans-44\"/>\n     <use x=\"1494.482422\" xlink:href=\"#DejaVuSans-32\"/>\n     <use x=\"1526.269531\" xlink:href=\"#DejaVuSans-32\"/>\n     <use x=\"1558.056641\" xlink:href=\"#DejaVuSans-50\"/>\n     <use x=\"1621.679688\" xlink:href=\"#DejaVuSans-53\"/>\n     <use x=\"1685.302734\" xlink:href=\"#DejaVuSans-44\"/>\n     <use x=\"1717.089844\" xlink:href=\"#DejaVuSans-32\"/>\n     <use x=\"1748.876953\" xlink:href=\"#DejaVuSans-32\"/>\n     <use x=\"1780.664062\" xlink:href=\"#DejaVuSans-32\"/>\n     <use x=\"1812.451172\" xlink:href=\"#DejaVuSans-48\"/>\n     <use x=\"1876.074219\" xlink:href=\"#DejaVuSans-44\"/>\n     <use x=\"1907.861328\" xlink:href=\"#DejaVuSans-32\"/>\n     <use x=\"1939.648438\" xlink:href=\"#DejaVuSans-49\"/>\n     <use x=\"2003.271484\" xlink:href=\"#DejaVuSans-49\"/>\n     <use x=\"2066.894531\" xlink:href=\"#DejaVuSans-48\"/>\n     <use x=\"2130.517578\" xlink:href=\"#DejaVuSans-44\"/>\n     <use x=\"2162.304688\" xlink:href=\"#DejaVuSans-32\"/>\n     <use x=\"2194.091797\" xlink:href=\"#DejaVuSans-32\"/>\n     <use x=\"2225.878906\" xlink:href=\"#DejaVuSans-32\"/>\n     <use x=\"2257.666016\" xlink:href=\"#DejaVuSans-49\"/>\n     <use x=\"2321.289062\" xlink:href=\"#DejaVuSans-44\"/>\n     <use x=\"2353.076172\" xlink:href=\"#DejaVuSans-32\"/>\n     <use x=\"2384.863281\" xlink:href=\"#DejaVuSans-32\"/>\n     <use x=\"2416.650391\" xlink:href=\"#DejaVuSans-53\"/>\n     <use x=\"2480.273438\" xlink:href=\"#DejaVuSans-56\"/>\n     <use x=\"2543.896484\" xlink:href=\"#DejaVuSans-44\"/>\n     <use x=\"2575.683594\" xlink:href=\"#DejaVuSans-32\"/>\n     <use x=\"2607.470703\" xlink:href=\"#DejaVuSans-32\"/>\n     <use x=\"2639.257812\" xlink:href=\"#DejaVuSans-32\"/>\n     <use x=\"2671.044922\" xlink:href=\"#DejaVuSans-55\"/>\n     <use x=\"2734.667969\" xlink:href=\"#DejaVuSans-44\"/>\n     <use x=\"2766.455078\" xlink:href=\"#DejaVuSans-32\"/>\n     <use x=\"2798.242188\" xlink:href=\"#DejaVuSans-49\"/>\n     <use x=\"2861.865234\" xlink:href=\"#DejaVuSans-50\"/>\n     <use x=\"2925.488281\" xlink:href=\"#DejaVuSans-49\"/>\n     <use x=\"2989.111328\" xlink:href=\"#DejaVuSans-44\"/>\n     <use x=\"3020.898438\" xlink:href=\"#DejaVuSans-32\"/>\n     <use x=\"3052.685547\" xlink:href=\"#DejaVuSans-32\"/>\n     <use x=\"3084.472656\" xlink:href=\"#DejaVuSans-32\"/>\n     <use x=\"3116.259766\" xlink:href=\"#DejaVuSans-52\"/>\n     <use x=\"3179.882812\" xlink:href=\"#DejaVuSans-44\"/>\n    </g>\n    <!--         143,   3, 165,   3,  25,   3,  58, 182,   3, 154, 182,  88,   3,  13, -->\n    <g transform=\"translate(272.730937 56.63025)scale(0.12 -0.12)\">\n     <use xlink:href=\"#DejaVuSans-32\"/>\n     <use x=\"31.787109\" xlink:href=\"#DejaVuSans-32\"/>\n     <use x=\"63.574219\" xlink:href=\"#DejaVuSans-32\"/>\n     <use x=\"95.361328\" xlink:href=\"#DejaVuSans-32\"/>\n     <use x=\"127.148438\" xlink:href=\"#DejaVuSans-32\"/>\n     <use x=\"158.935547\" xlink:href=\"#DejaVuSans-32\"/>\n     <use x=\"190.722656\" xlink:href=\"#DejaVuSans-32\"/>\n     <use x=\"222.509766\" xlink:href=\"#DejaVuSans-32\"/>\n     <use x=\"254.296875\" xlink:href=\"#DejaVuSans-49\"/>\n     <use x=\"317.919922\" xlink:href=\"#DejaVuSans-52\"/>\n     <use x=\"381.542969\" xlink:href=\"#DejaVuSans-51\"/>\n     <use x=\"445.166016\" xlink:href=\"#DejaVuSans-44\"/>\n     <use x=\"476.953125\" xlink:href=\"#DejaVuSans-32\"/>\n     <use x=\"508.740234\" xlink:href=\"#DejaVuSans-32\"/>\n     <use x=\"540.527344\" xlink:href=\"#DejaVuSans-32\"/>\n     <use x=\"572.314453\" xlink:href=\"#DejaVuSans-51\"/>\n     <use x=\"635.9375\" xlink:href=\"#DejaVuSans-44\"/>\n     <use x=\"667.724609\" xlink:href=\"#DejaVuSans-32\"/>\n     <use x=\"699.511719\" xlink:href=\"#DejaVuSans-49\"/>\n     <use x=\"763.134766\" xlink:href=\"#DejaVuSans-54\"/>\n     <use x=\"826.757812\" xlink:href=\"#DejaVuSans-53\"/>\n     <use x=\"890.380859\" xlink:href=\"#DejaVuSans-44\"/>\n     <use x=\"922.167969\" xlink:href=\"#DejaVuSans-32\"/>\n     <use x=\"953.955078\" xlink:href=\"#DejaVuSans-32\"/>\n     <use x=\"985.742188\" xlink:href=\"#DejaVuSans-32\"/>\n     <use x=\"1017.529297\" xlink:href=\"#DejaVuSans-51\"/>\n     <use x=\"1081.152344\" xlink:href=\"#DejaVuSans-44\"/>\n     <use x=\"1112.939453\" xlink:href=\"#DejaVuSans-32\"/>\n     <use x=\"1144.726562\" xlink:href=\"#DejaVuSans-32\"/>\n     <use x=\"1176.513672\" xlink:href=\"#DejaVuSans-50\"/>\n     <use x=\"1240.136719\" xlink:href=\"#DejaVuSans-53\"/>\n     <use x=\"1303.759766\" xlink:href=\"#DejaVuSans-44\"/>\n     <use x=\"1335.546875\" xlink:href=\"#DejaVuSans-32\"/>\n     <use x=\"1367.333984\" xlink:href=\"#DejaVuSans-32\"/>\n     <use x=\"1399.121094\" xlink:href=\"#DejaVuSans-32\"/>\n     <use x=\"1430.908203\" xlink:href=\"#DejaVuSans-51\"/>\n     <use x=\"1494.53125\" xlink:href=\"#DejaVuSans-44\"/>\n     <use x=\"1526.318359\" xlink:href=\"#DejaVuSans-32\"/>\n     <use x=\"1558.105469\" xlink:href=\"#DejaVuSans-32\"/>\n     <use x=\"1589.892578\" xlink:href=\"#DejaVuSans-53\"/>\n     <use x=\"1653.515625\" xlink:href=\"#DejaVuSans-56\"/>\n     <use x=\"1717.138672\" xlink:href=\"#DejaVuSans-44\"/>\n     <use x=\"1748.925781\" xlink:href=\"#DejaVuSans-32\"/>\n     <use x=\"1780.712891\" xlink:href=\"#DejaVuSans-49\"/>\n     <use x=\"1844.335938\" xlink:href=\"#DejaVuSans-56\"/>\n     <use x=\"1907.958984\" xlink:href=\"#DejaVuSans-50\"/>\n     <use x=\"1971.582031\" xlink:href=\"#DejaVuSans-44\"/>\n     <use x=\"2003.369141\" xlink:href=\"#DejaVuSans-32\"/>\n     <use x=\"2035.15625\" xlink:href=\"#DejaVuSans-32\"/>\n     <use x=\"2066.943359\" xlink:href=\"#DejaVuSans-32\"/>\n     <use x=\"2098.730469\" xlink:href=\"#DejaVuSans-51\"/>\n     <use x=\"2162.353516\" xlink:href=\"#DejaVuSans-44\"/>\n     <use x=\"2194.140625\" xlink:href=\"#DejaVuSans-32\"/>\n     <use x=\"2225.927734\" xlink:href=\"#DejaVuSans-49\"/>\n     <use x=\"2289.550781\" xlink:href=\"#DejaVuSans-53\"/>\n     <use x=\"2353.173828\" xlink:href=\"#DejaVuSans-52\"/>\n     <use x=\"2416.796875\" xlink:href=\"#DejaVuSans-44\"/>\n     <use x=\"2448.583984\" xlink:href=\"#DejaVuSans-32\"/>\n     <use x=\"2480.371094\" xlink:href=\"#DejaVuSans-49\"/>\n     <use x=\"2543.994141\" xlink:href=\"#DejaVuSans-56\"/>\n     <use x=\"2607.617188\" xlink:href=\"#DejaVuSans-50\"/>\n     <use x=\"2671.240234\" xlink:href=\"#DejaVuSans-44\"/>\n     <use x=\"2703.027344\" xlink:href=\"#DejaVuSans-32\"/>\n     <use x=\"2734.814453\" xlink:href=\"#DejaVuSans-32\"/>\n     <use x=\"2766.601562\" xlink:href=\"#DejaVuSans-56\"/>\n     <use x=\"2830.224609\" xlink:href=\"#DejaVuSans-56\"/>\n     <use x=\"2893.847656\" xlink:href=\"#DejaVuSans-44\"/>\n     <use x=\"2925.634766\" xlink:href=\"#DejaVuSans-32\"/>\n     <use x=\"2957.421875\" xlink:href=\"#DejaVuSans-32\"/>\n     <use x=\"2989.208984\" xlink:href=\"#DejaVuSans-32\"/>\n     <use x=\"3020.996094\" xlink:href=\"#DejaVuSans-51\"/>\n     <use x=\"3084.619141\" xlink:href=\"#DejaVuSans-44\"/>\n     <use x=\"3116.40625\" xlink:href=\"#DejaVuSans-32\"/>\n     <use x=\"3148.193359\" xlink:href=\"#DejaVuSans-32\"/>\n     <use x=\"3179.980469\" xlink:href=\"#DejaVuSans-49\"/>\n     <use x=\"3243.603516\" xlink:href=\"#DejaVuSans-51\"/>\n     <use x=\"3307.226562\" xlink:href=\"#DejaVuSans-44\"/>\n    </g>\n    <!--           4, 110, 182,  99, 191])  text: &lt;sos&gt;C13H20OS/c1-9(2)8-15-13-6-5-10(3)7-12(13)11(4)14/h5-7,9,11,14H,8H2,1-4H3&lt;eos&gt;  label_length: tensor([61]) -->\n    <g transform=\"translate(7.2 70.067625)scale(0.12 -0.12)\">\n     <defs>\n      <path d=\"M 30.421875 75.984375 \nL 30.421875 -13.1875 \nL 9.71875 -13.1875 \nL 9.71875 -6.203125 \nL 21.390625 -6.203125 \nL 21.390625 69 \nL 9.71875 69 \nL 9.71875 75.984375 \nz\n\" id=\"DejaVuSans-93\"/>\n      <path d=\"M 8.015625 75.875 \nL 15.828125 75.875 \nQ 23.140625 64.359375 26.78125 53.3125 \nQ 30.421875 42.28125 30.421875 31.390625 \nQ 30.421875 20.453125 26.78125 9.375 \nQ 23.140625 -1.703125 15.828125 -13.1875 \nL 8.015625 -13.1875 \nQ 14.5 -2 17.703125 9.0625 \nQ 20.90625 20.125 20.90625 31.390625 \nQ 20.90625 42.671875 17.703125 53.65625 \nQ 14.5 64.65625 8.015625 75.875 \nz\n\" id=\"DejaVuSans-41\"/>\n      <path d=\"M 54.890625 54.6875 \nL 35.109375 28.078125 \nL 55.90625 0 \nL 45.3125 0 \nL 29.390625 21.484375 \nL 13.484375 0 \nL 2.875 0 \nL 24.125 28.609375 \nL 4.6875 54.6875 \nL 15.28125 54.6875 \nL 29.78125 35.203125 \nL 44.28125 54.6875 \nz\n\" id=\"DejaVuSans-120\"/>\n      <path d=\"M 73.1875 49.21875 \nL 22.796875 31.296875 \nL 73.1875 13.484375 \nL 73.1875 4.59375 \nL 10.59375 27.296875 \nL 10.59375 35.40625 \nL 73.1875 58.109375 \nz\n\" id=\"DejaVuSans-60\"/>\n      <path d=\"M 10.59375 49.21875 \nL 10.59375 58.109375 \nL 73.1875 35.40625 \nL 73.1875 27.296875 \nL 10.59375 4.59375 \nL 10.59375 13.484375 \nL 60.890625 31.296875 \nz\n\" id=\"DejaVuSans-62\"/>\n      <path d=\"M 64.40625 67.28125 \nL 64.40625 56.890625 \nQ 59.421875 61.53125 53.78125 63.8125 \nQ 48.140625 66.109375 41.796875 66.109375 \nQ 29.296875 66.109375 22.65625 58.46875 \nQ 16.015625 50.828125 16.015625 36.375 \nQ 16.015625 21.96875 22.65625 14.328125 \nQ 29.296875 6.6875 41.796875 6.6875 \nQ 48.140625 6.6875 53.78125 8.984375 \nQ 59.421875 11.28125 64.40625 15.921875 \nL 64.40625 5.609375 \nQ 59.234375 2.09375 53.4375 0.328125 \nQ 47.65625 -1.421875 41.21875 -1.421875 \nQ 24.65625 -1.421875 15.125 8.703125 \nQ 5.609375 18.84375 5.609375 36.375 \nQ 5.609375 53.953125 15.125 64.078125 \nQ 24.65625 74.21875 41.21875 74.21875 \nQ 47.75 74.21875 53.53125 72.484375 \nQ 59.328125 70.75 64.40625 67.28125 \nz\n\" id=\"DejaVuSans-67\"/>\n      <path d=\"M 9.8125 72.90625 \nL 19.671875 72.90625 \nL 19.671875 43.015625 \nL 55.515625 43.015625 \nL 55.515625 72.90625 \nL 65.375 72.90625 \nL 65.375 0 \nL 55.515625 0 \nL 55.515625 34.71875 \nL 19.671875 34.71875 \nL 19.671875 0 \nL 9.8125 0 \nz\n\" id=\"DejaVuSans-72\"/>\n      <path d=\"M 39.40625 66.21875 \nQ 28.65625 66.21875 22.328125 58.203125 \nQ 16.015625 50.203125 16.015625 36.375 \nQ 16.015625 22.609375 22.328125 14.59375 \nQ 28.65625 6.59375 39.40625 6.59375 \nQ 50.140625 6.59375 56.421875 14.59375 \nQ 62.703125 22.609375 62.703125 36.375 \nQ 62.703125 50.203125 56.421875 58.203125 \nQ 50.140625 66.21875 39.40625 66.21875 \nz\nM 39.40625 74.21875 \nQ 54.734375 74.21875 63.90625 63.9375 \nQ 73.09375 53.65625 73.09375 36.375 \nQ 73.09375 19.140625 63.90625 8.859375 \nQ 54.734375 -1.421875 39.40625 -1.421875 \nQ 24.03125 -1.421875 14.8125 8.828125 \nQ 5.609375 19.09375 5.609375 36.375 \nQ 5.609375 53.65625 14.8125 63.9375 \nQ 24.03125 74.21875 39.40625 74.21875 \nz\n\" id=\"DejaVuSans-79\"/>\n      <path d=\"M 53.515625 70.515625 \nL 53.515625 60.890625 \nQ 47.90625 63.578125 42.921875 64.890625 \nQ 37.9375 66.21875 33.296875 66.21875 \nQ 25.25 66.21875 20.875 63.09375 \nQ 16.5 59.96875 16.5 54.203125 \nQ 16.5 49.359375 19.40625 46.890625 \nQ 22.3125 44.4375 30.421875 42.921875 \nL 36.375 41.703125 \nQ 47.40625 39.59375 52.65625 34.296875 \nQ 57.90625 29 57.90625 20.125 \nQ 57.90625 9.515625 50.796875 4.046875 \nQ 43.703125 -1.421875 29.984375 -1.421875 \nQ 24.8125 -1.421875 18.96875 -0.25 \nQ 13.140625 0.921875 6.890625 3.21875 \nL 6.890625 13.375 \nQ 12.890625 10.015625 18.65625 8.296875 \nQ 24.421875 6.59375 29.984375 6.59375 \nQ 38.421875 6.59375 43.015625 9.90625 \nQ 47.609375 13.234375 47.609375 19.390625 \nQ 47.609375 24.75 44.3125 27.78125 \nQ 41.015625 30.8125 33.5 32.328125 \nL 27.484375 33.5 \nQ 16.453125 35.6875 11.515625 40.375 \nQ 6.59375 45.0625 6.59375 53.421875 \nQ 6.59375 63.09375 13.40625 68.65625 \nQ 20.21875 74.21875 32.171875 74.21875 \nQ 37.3125 74.21875 42.625 73.28125 \nQ 47.953125 72.359375 53.515625 70.515625 \nz\n\" id=\"DejaVuSans-83\"/>\n      <path d=\"M 25.390625 72.90625 \nL 33.6875 72.90625 \nL 8.296875 -9.28125 \nL 0 -9.28125 \nz\n\" id=\"DejaVuSans-47\"/>\n      <path d=\"M 48.78125 52.59375 \nL 48.78125 44.1875 \nQ 44.96875 46.296875 41.140625 47.34375 \nQ 37.3125 48.390625 33.40625 48.390625 \nQ 24.65625 48.390625 19.8125 42.84375 \nQ 14.984375 37.3125 14.984375 27.296875 \nQ 14.984375 17.28125 19.8125 11.734375 \nQ 24.65625 6.203125 33.40625 6.203125 \nQ 37.3125 6.203125 41.140625 7.25 \nQ 44.96875 8.296875 48.78125 10.40625 \nL 48.78125 2.09375 \nQ 45.015625 0.34375 40.984375 -0.53125 \nQ 36.96875 -1.421875 32.421875 -1.421875 \nQ 20.0625 -1.421875 12.78125 6.34375 \nQ 5.515625 14.109375 5.515625 27.296875 \nQ 5.515625 40.671875 12.859375 48.328125 \nQ 20.21875 56 33.015625 56 \nQ 37.15625 56 41.109375 55.140625 \nQ 45.0625 54.296875 48.78125 52.59375 \nz\n\" id=\"DejaVuSans-99\"/>\n      <path d=\"M 4.890625 31.390625 \nL 31.203125 31.390625 \nL 31.203125 23.390625 \nL 4.890625 23.390625 \nz\n\" id=\"DejaVuSans-45\"/>\n      <path d=\"M 54.890625 33.015625 \nL 54.890625 0 \nL 45.90625 0 \nL 45.90625 32.71875 \nQ 45.90625 40.484375 42.875 44.328125 \nQ 39.84375 48.1875 33.796875 48.1875 \nQ 26.515625 48.1875 22.3125 43.546875 \nQ 18.109375 38.921875 18.109375 30.90625 \nL 18.109375 0 \nL 9.078125 0 \nL 9.078125 75.984375 \nL 18.109375 75.984375 \nL 18.109375 46.1875 \nQ 21.34375 51.125 25.703125 53.5625 \nQ 30.078125 56 35.796875 56 \nQ 45.21875 56 50.046875 50.171875 \nQ 54.890625 44.34375 54.890625 33.015625 \nz\n\" id=\"DejaVuSans-104\"/>\n      <path d=\"M 50.984375 -16.609375 \nL 50.984375 -23.578125 \nL -0.984375 -23.578125 \nL -0.984375 -16.609375 \nz\n\" id=\"DejaVuSans-95\"/>\n      <path d=\"M 45.40625 27.984375 \nQ 45.40625 37.75 41.375 43.109375 \nQ 37.359375 48.484375 30.078125 48.484375 \nQ 22.859375 48.484375 18.828125 43.109375 \nQ 14.796875 37.75 14.796875 27.984375 \nQ 14.796875 18.265625 18.828125 12.890625 \nQ 22.859375 7.515625 30.078125 7.515625 \nQ 37.359375 7.515625 41.375 12.890625 \nQ 45.40625 18.265625 45.40625 27.984375 \nz\nM 54.390625 6.78125 \nQ 54.390625 -7.171875 48.1875 -13.984375 \nQ 42 -20.796875 29.203125 -20.796875 \nQ 24.46875 -20.796875 20.265625 -20.09375 \nQ 16.0625 -19.390625 12.109375 -17.921875 \nL 12.109375 -9.1875 \nQ 16.0625 -11.328125 19.921875 -12.34375 \nQ 23.78125 -13.375 27.78125 -13.375 \nQ 36.625 -13.375 41.015625 -8.765625 \nQ 45.40625 -4.15625 45.40625 5.171875 \nL 45.40625 9.625 \nQ 42.625 4.78125 38.28125 2.390625 \nQ 33.9375 0 27.875 0 \nQ 17.828125 0 11.671875 7.65625 \nQ 5.515625 15.328125 5.515625 27.984375 \nQ 5.515625 40.671875 11.671875 48.328125 \nQ 17.828125 56 27.875 56 \nQ 33.9375 56 38.28125 53.609375 \nQ 42.625 51.21875 45.40625 46.390625 \nL 45.40625 54.6875 \nL 54.390625 54.6875 \nz\n\" id=\"DejaVuSans-103\"/>\n     </defs>\n     <use xlink:href=\"#DejaVuSans-32\"/>\n     <use x=\"31.787109\" xlink:href=\"#DejaVuSans-32\"/>\n     <use x=\"63.574219\" xlink:href=\"#DejaVuSans-32\"/>\n     <use x=\"95.361328\" xlink:href=\"#DejaVuSans-32\"/>\n     <use x=\"127.148438\" xlink:href=\"#DejaVuSans-32\"/>\n     <use x=\"158.935547\" xlink:href=\"#DejaVuSans-32\"/>\n     <use x=\"190.722656\" xlink:href=\"#DejaVuSans-32\"/>\n     <use x=\"222.509766\" xlink:href=\"#DejaVuSans-32\"/>\n     <use x=\"254.296875\" xlink:href=\"#DejaVuSans-32\"/>\n     <use x=\"286.083984\" xlink:href=\"#DejaVuSans-32\"/>\n     <use x=\"317.871094\" xlink:href=\"#DejaVuSans-52\"/>\n     <use x=\"381.494141\" xlink:href=\"#DejaVuSans-44\"/>\n     <use x=\"413.28125\" xlink:href=\"#DejaVuSans-32\"/>\n     <use x=\"445.068359\" xlink:href=\"#DejaVuSans-49\"/>\n     <use x=\"508.691406\" xlink:href=\"#DejaVuSans-49\"/>\n     <use x=\"572.314453\" xlink:href=\"#DejaVuSans-48\"/>\n     <use x=\"635.9375\" xlink:href=\"#DejaVuSans-44\"/>\n     <use x=\"667.724609\" xlink:href=\"#DejaVuSans-32\"/>\n     <use x=\"699.511719\" xlink:href=\"#DejaVuSans-49\"/>\n     <use x=\"763.134766\" xlink:href=\"#DejaVuSans-56\"/>\n     <use x=\"826.757812\" xlink:href=\"#DejaVuSans-50\"/>\n     <use x=\"890.380859\" xlink:href=\"#DejaVuSans-44\"/>\n     <use x=\"922.167969\" xlink:href=\"#DejaVuSans-32\"/>\n     <use x=\"953.955078\" xlink:href=\"#DejaVuSans-32\"/>\n     <use x=\"985.742188\" xlink:href=\"#DejaVuSans-57\"/>\n     <use x=\"1049.365234\" xlink:href=\"#DejaVuSans-57\"/>\n     <use x=\"1112.988281\" xlink:href=\"#DejaVuSans-44\"/>\n     <use x=\"1144.775391\" xlink:href=\"#DejaVuSans-32\"/>\n     <use x=\"1176.5625\" xlink:href=\"#DejaVuSans-49\"/>\n     <use x=\"1240.185547\" xlink:href=\"#DejaVuSans-57\"/>\n     <use x=\"1303.808594\" xlink:href=\"#DejaVuSans-49\"/>\n     <use x=\"1367.431641\" xlink:href=\"#DejaVuSans-93\"/>\n     <use x=\"1406.445312\" xlink:href=\"#DejaVuSans-41\"/>\n     <use x=\"1445.458984\" xlink:href=\"#DejaVuSans-32\"/>\n     <use x=\"1477.246094\" xlink:href=\"#DejaVuSans-32\"/>\n     <use x=\"1509.033203\" xlink:href=\"#DejaVuSans-116\"/>\n     <use x=\"1548.242188\" xlink:href=\"#DejaVuSans-101\"/>\n     <use x=\"1608.015625\" xlink:href=\"#DejaVuSans-120\"/>\n     <use x=\"1667.195312\" xlink:href=\"#DejaVuSans-116\"/>\n     <use x=\"1706.404297\" xlink:href=\"#DejaVuSans-58\"/>\n     <use x=\"1740.095703\" xlink:href=\"#DejaVuSans-32\"/>\n     <use x=\"1771.882812\" xlink:href=\"#DejaVuSans-60\"/>\n     <use x=\"1855.671875\" xlink:href=\"#DejaVuSans-115\"/>\n     <use x=\"1907.771484\" xlink:href=\"#DejaVuSans-111\"/>\n     <use x=\"1968.953125\" xlink:href=\"#DejaVuSans-115\"/>\n     <use x=\"2021.052734\" xlink:href=\"#DejaVuSans-62\"/>\n     <use x=\"2104.841797\" xlink:href=\"#DejaVuSans-67\"/>\n     <use x=\"2174.666016\" xlink:href=\"#DejaVuSans-49\"/>\n     <use x=\"2238.289062\" xlink:href=\"#DejaVuSans-51\"/>\n     <use x=\"2301.912109\" xlink:href=\"#DejaVuSans-72\"/>\n     <use x=\"2377.107422\" xlink:href=\"#DejaVuSans-50\"/>\n     <use x=\"2440.730469\" xlink:href=\"#DejaVuSans-48\"/>\n     <use x=\"2504.353516\" xlink:href=\"#DejaVuSans-79\"/>\n     <use x=\"2583.064453\" xlink:href=\"#DejaVuSans-83\"/>\n     <use x=\"2646.541016\" xlink:href=\"#DejaVuSans-47\"/>\n     <use x=\"2680.232422\" xlink:href=\"#DejaVuSans-99\"/>\n     <use x=\"2735.212891\" xlink:href=\"#DejaVuSans-49\"/>\n     <use x=\"2798.835938\" xlink:href=\"#DejaVuSans-45\"/>\n     <use x=\"2834.919922\" xlink:href=\"#DejaVuSans-57\"/>\n     <use x=\"2898.542969\" xlink:href=\"#DejaVuSans-40\"/>\n     <use x=\"2937.556641\" xlink:href=\"#DejaVuSans-50\"/>\n     <use x=\"3001.179688\" xlink:href=\"#DejaVuSans-41\"/>\n     <use x=\"3040.193359\" xlink:href=\"#DejaVuSans-56\"/>\n     <use x=\"3103.816406\" xlink:href=\"#DejaVuSans-45\"/>\n     <use x=\"3139.900391\" xlink:href=\"#DejaVuSans-49\"/>\n     <use x=\"3203.523438\" xlink:href=\"#DejaVuSans-53\"/>\n     <use x=\"3267.146484\" xlink:href=\"#DejaVuSans-45\"/>\n     <use x=\"3303.230469\" xlink:href=\"#DejaVuSans-49\"/>\n     <use x=\"3366.853516\" xlink:href=\"#DejaVuSans-51\"/>\n     <use x=\"3430.476562\" xlink:href=\"#DejaVuSans-45\"/>\n     <use x=\"3466.560547\" xlink:href=\"#DejaVuSans-54\"/>\n     <use x=\"3530.183594\" xlink:href=\"#DejaVuSans-45\"/>\n     <use x=\"3566.267578\" xlink:href=\"#DejaVuSans-53\"/>\n     <use x=\"3629.890625\" xlink:href=\"#DejaVuSans-45\"/>\n     <use x=\"3665.974609\" xlink:href=\"#DejaVuSans-49\"/>\n     <use x=\"3729.597656\" xlink:href=\"#DejaVuSans-48\"/>\n     <use x=\"3793.220703\" xlink:href=\"#DejaVuSans-40\"/>\n     <use x=\"3832.234375\" xlink:href=\"#DejaVuSans-51\"/>\n     <use x=\"3895.857422\" xlink:href=\"#DejaVuSans-41\"/>\n     <use x=\"3934.871094\" xlink:href=\"#DejaVuSans-55\"/>\n     <use x=\"3998.494141\" xlink:href=\"#DejaVuSans-45\"/>\n     <use x=\"4034.578125\" xlink:href=\"#DejaVuSans-49\"/>\n     <use x=\"4098.201172\" xlink:href=\"#DejaVuSans-50\"/>\n     <use x=\"4161.824219\" xlink:href=\"#DejaVuSans-40\"/>\n     <use x=\"4200.837891\" xlink:href=\"#DejaVuSans-49\"/>\n     <use x=\"4264.460938\" xlink:href=\"#DejaVuSans-51\"/>\n     <use x=\"4328.083984\" xlink:href=\"#DejaVuSans-41\"/>\n     <use x=\"4367.097656\" xlink:href=\"#DejaVuSans-49\"/>\n     <use x=\"4430.720703\" xlink:href=\"#DejaVuSans-49\"/>\n     <use x=\"4494.34375\" xlink:href=\"#DejaVuSans-40\"/>\n     <use x=\"4533.357422\" xlink:href=\"#DejaVuSans-52\"/>\n     <use x=\"4596.980469\" xlink:href=\"#DejaVuSans-41\"/>\n     <use x=\"4635.994141\" xlink:href=\"#DejaVuSans-49\"/>\n     <use x=\"4699.617188\" xlink:href=\"#DejaVuSans-52\"/>\n     <use x=\"4763.240234\" xlink:href=\"#DejaVuSans-47\"/>\n     <use x=\"4796.931641\" xlink:href=\"#DejaVuSans-104\"/>\n     <use x=\"4860.310547\" xlink:href=\"#DejaVuSans-53\"/>\n     <use x=\"4923.933594\" xlink:href=\"#DejaVuSans-45\"/>\n     <use x=\"4960.017578\" xlink:href=\"#DejaVuSans-55\"/>\n     <use x=\"5023.640625\" xlink:href=\"#DejaVuSans-44\"/>\n     <use x=\"5055.427734\" xlink:href=\"#DejaVuSans-57\"/>\n     <use x=\"5119.050781\" xlink:href=\"#DejaVuSans-44\"/>\n     <use x=\"5150.837891\" xlink:href=\"#DejaVuSans-49\"/>\n     <use x=\"5214.460938\" xlink:href=\"#DejaVuSans-49\"/>\n     <use x=\"5278.083984\" xlink:href=\"#DejaVuSans-44\"/>\n     <use x=\"5309.871094\" xlink:href=\"#DejaVuSans-49\"/>\n     <use x=\"5373.494141\" xlink:href=\"#DejaVuSans-52\"/>\n     <use x=\"5437.117188\" xlink:href=\"#DejaVuSans-72\"/>\n     <use x=\"5512.3125\" xlink:href=\"#DejaVuSans-44\"/>\n     <use x=\"5544.099609\" xlink:href=\"#DejaVuSans-56\"/>\n     <use x=\"5607.722656\" xlink:href=\"#DejaVuSans-72\"/>\n     <use x=\"5682.917969\" xlink:href=\"#DejaVuSans-50\"/>\n     <use x=\"5746.541016\" xlink:href=\"#DejaVuSans-44\"/>\n     <use x=\"5778.328125\" xlink:href=\"#DejaVuSans-49\"/>\n     <use x=\"5841.951172\" xlink:href=\"#DejaVuSans-45\"/>\n     <use x=\"5878.035156\" xlink:href=\"#DejaVuSans-52\"/>\n     <use x=\"5941.658203\" xlink:href=\"#DejaVuSans-72\"/>\n     <use x=\"6016.853516\" xlink:href=\"#DejaVuSans-51\"/>\n     <use x=\"6080.476562\" xlink:href=\"#DejaVuSans-60\"/>\n     <use x=\"6164.265625\" xlink:href=\"#DejaVuSans-101\"/>\n     <use x=\"6225.789062\" xlink:href=\"#DejaVuSans-111\"/>\n     <use x=\"6286.970703\" xlink:href=\"#DejaVuSans-115\"/>\n     <use x=\"6339.070312\" xlink:href=\"#DejaVuSans-62\"/>\n     <use x=\"6422.859375\" xlink:href=\"#DejaVuSans-32\"/>\n     <use x=\"6454.646484\" xlink:href=\"#DejaVuSans-32\"/>\n     <use x=\"6486.433594\" xlink:href=\"#DejaVuSans-108\"/>\n     <use x=\"6514.216797\" xlink:href=\"#DejaVuSans-97\"/>\n     <use x=\"6575.496094\" xlink:href=\"#DejaVuSans-98\"/>\n     <use x=\"6638.972656\" xlink:href=\"#DejaVuSans-101\"/>\n     <use x=\"6700.496094\" xlink:href=\"#DejaVuSans-108\"/>\n     <use x=\"6728.279297\" xlink:href=\"#DejaVuSans-95\"/>\n     <use x=\"6778.279297\" xlink:href=\"#DejaVuSans-108\"/>\n     <use x=\"6806.0625\" xlink:href=\"#DejaVuSans-101\"/>\n     <use x=\"6867.585938\" xlink:href=\"#DejaVuSans-110\"/>\n     <use x=\"6930.964844\" xlink:href=\"#DejaVuSans-103\"/>\n     <use x=\"6994.441406\" xlink:href=\"#DejaVuSans-116\"/>\n     <use x=\"7033.650391\" xlink:href=\"#DejaVuSans-104\"/>\n     <use x=\"7097.029297\" xlink:href=\"#DejaVuSans-58\"/>\n     <use x=\"7130.720703\" xlink:href=\"#DejaVuSans-32\"/>\n     <use x=\"7162.507812\" xlink:href=\"#DejaVuSans-116\"/>\n     <use x=\"7201.716797\" xlink:href=\"#DejaVuSans-101\"/>\n     <use x=\"7263.240234\" xlink:href=\"#DejaVuSans-110\"/>\n     <use x=\"7326.619141\" xlink:href=\"#DejaVuSans-115\"/>\n     <use x=\"7378.71875\" xlink:href=\"#DejaVuSans-111\"/>\n     <use x=\"7439.900391\" xlink:href=\"#DejaVuSans-114\"/>\n     <use x=\"7481.013672\" xlink:href=\"#DejaVuSans-40\"/>\n     <use x=\"7520.027344\" xlink:href=\"#DejaVuSans-91\"/>\n     <use x=\"7559.041016\" xlink:href=\"#DejaVuSans-54\"/>\n     <use x=\"7622.664062\" xlink:href=\"#DejaVuSans-49\"/>\n     <use x=\"7686.287109\" xlink:href=\"#DejaVuSans-93\"/>\n     <use x=\"7725.300781\" xlink:href=\"#DejaVuSans-41\"/>\n    </g>\n   </g>\n  </g>\n </g>\n <defs>\n  <clipPath id=\"p5104f8d1c7\">\n   <rect height=\"217.44\" width=\"217.44\" x=\"364.337812\" y=\"76.067625\"/>\n  </clipPath>\n </defs>\n</svg>\n",
      "image/png": "[encoded data removed]"
     },
     "metadata": {
      "needs_background": "light"
     }
    }
   ],
   "source": [
    "from matplotlib import pyplot as plt\n",
    "\n",
    "train_dataset = TrainDataset(train, tokenizer, transform=get_transforms(data='train'))\n",
    "\n",
    "for i in range(1):\n",
    "    image, label, label_length = train_dataset[i]\n",
    "    text = tokenizer.sequence_to_text(label.numpy())\n",
    "    plt.imshow(image.transpose(0, 1).transpose(1, 2))\n",
    "    plt.title(f'label: {label}  text: {text}  label_length: {label_length}')\n",
    "    plt.show() "
   ]
  },
  {
   "cell_type": "markdown",
   "metadata": {
    "papermill": {
     "duration": 0.022092,
     "end_time": "2021-03-09T09:44:52.71725",
     "exception": false,
     "start_time": "2021-03-09T09:44:52.695158",
     "status": "completed"
    },
    "tags": []
   },
   "source": [
    "# MODEL"
   ]
  },
  {
   "cell_type": "code",
   "execution_count": 14,
   "metadata": {
    "execution": {
     "iopub.execute_input": "2021-03-09T09:44:52.768841Z",
     "iopub.status.busy": "2021-03-09T09:44:52.768043Z",
     "iopub.status.idle": "2021-03-09T09:44:52.77223Z",
     "shell.execute_reply": "2021-03-09T09:44:52.77174Z"
    },
    "papermill": {
     "duration": 0.033392,
     "end_time": "2021-03-09T09:44:52.772345",
     "exception": false,
     "start_time": "2021-03-09T09:44:52.738953",
     "status": "completed"
    },
    "tags": []
   },
   "outputs": [],
   "source": [
    "class Encoder(nn.Module):\n",
    "    def __init__(self, model_name='resnet18', pretrained=False):\n",
    "        super().__init__()\n",
    "        self.cnn = timm.create_model(model_name, pretrained=pretrained)\n",
    "        self.n_features = self.cnn.fc.in_features\n",
    "        self.cnn.global_pool = nn.Identity()\n",
    "        self.cnn.fc = nn.Identity()\n",
    "\n",
    "    def forward(self, x):\n",
    "        bs = x.size(0)\n",
    "        features = self.cnn(x)\n",
    "        features = features.permute(0, 2, 3, 1)\n",
    "        return features"
   ]
  },
  {
   "cell_type": "code",
   "execution_count": 15,
   "metadata": {
    "execution": {
     "iopub.execute_input": "2021-03-09T09:44:52.839867Z",
     "iopub.status.busy": "2021-03-09T09:44:52.837504Z",
     "iopub.status.idle": "2021-03-09T09:44:52.84368Z",
     "shell.execute_reply": "2021-03-09T09:44:52.842966Z"
    },
    "papermill": {
     "duration": 0.049082,
     "end_time": "2021-03-09T09:44:52.843864",
     "exception": false,
     "start_time": "2021-03-09T09:44:52.794782",
     "status": "completed"
    },
    "tags": []
   },
   "outputs": [],
   "source": [
    "class Attention(nn.Module):\n",
    "    \"\"\"\n",
    "    Attention network for calculate attention value\n",
    "    \"\"\"\n",
    "    def __init__(self, encoder_dim, decoder_dim, attention_dim):\n",
    "        \"\"\"\n",
    "        :param encoder_dim: input size of encoder network\n",
    "        :param decoder_dim: input size of decoder network\n",
    "        :param attention_dim: input size of attention network\n",
    "        \"\"\"\n",
    "        super(Attention, self).__init__()\n",
    "        self.encoder_att = nn.Linear(encoder_dim, attention_dim)  # linear layer to transform encoded image\n",
    "        self.decoder_att = nn.Linear(decoder_dim, attention_dim)  # linear layer to transform decoder's output\n",
    "        self.full_att = nn.Linear(attention_dim, 1)  # linear layer to calculate values to be softmax-ed\n",
    "        self.relu = nn.ReLU()\n",
    "        self.softmax = nn.Softmax(dim=1)  # softmax layer to calculate weights\n",
    "\n",
    "    def forward(self, encoder_out, decoder_hidden):\n",
    "        att1 = self.encoder_att(encoder_out)  # (batch_size, num_pixels, attention_dim)\n",
    "        att2 = self.decoder_att(decoder_hidden)  # (batch_size, attention_dim)\n",
    "        att = self.full_att(self.relu(att1 + att2.unsqueeze(1))).squeeze(2)  # (batch_size, num_pixels)\n",
    "        alpha = self.softmax(att)  # (batch_size, num_pixels)\n",
    "        attention_weighted_encoding = (encoder_out * alpha.unsqueeze(2)).sum(dim=1)  # (batch_size, encoder_dim)\n",
    "        return attention_weighted_encoding, alpha\n",
    "\n",
    "\n",
    "class DecoderWithAttention(nn.Module):\n",
    "    \"\"\"\n",
    "    Decoder network with attention network used for training\n",
    "    \"\"\"\n",
    "\n",
    "    def __init__(self, attention_dim, embed_dim, decoder_dim, vocab_size, device, encoder_dim=512, dropout=0.5):\n",
    "        \"\"\"\n",
    "        :param attention_dim: input size of attention network\n",
    "        :param embed_dim: input size of embedding network\n",
    "        :param decoder_dim: input size of decoder network\n",
    "        :param vocab_size: total number of characters used in training\n",
    "        :param encoder_dim: input size of encoder network\n",
    "        :param dropout: dropout rate\n",
    "        \"\"\"\n",
    "        super(DecoderWithAttention, self).__init__()\n",
    "        self.encoder_dim = encoder_dim\n",
    "        self.attention_dim = attention_dim\n",
    "        self.embed_dim = embed_dim\n",
    "        self.decoder_dim = decoder_dim\n",
    "        self.vocab_size = vocab_size\n",
    "        self.dropout = dropout\n",
    "        self.device = device\n",
    "        self.attention = Attention(encoder_dim, decoder_dim, attention_dim)  # attention network\n",
    "        self.embedding = nn.Embedding(vocab_size, embed_dim)  # embedding layer\n",
    "        self.dropout = nn.Dropout(p=self.dropout)\n",
    "        self.decode_step = nn.LSTMCell(embed_dim + encoder_dim, decoder_dim, bias=True)  # decoding LSTMCell\n",
    "        self.init_h = nn.Linear(encoder_dim, decoder_dim)  # linear layer to find initial hidden state of LSTMCell\n",
    "        self.init_c = nn.Linear(encoder_dim, decoder_dim)  # linear layer to find initial cell state of LSTMCell\n",
    "        self.f_beta = nn.Linear(decoder_dim, encoder_dim)  # linear layer to create a sigmoid-activated gate\n",
    "        self.sigmoid = nn.Sigmoid()\n",
    "        self.fc = nn.Linear(decoder_dim, vocab_size)  # linear layer to find scores over vocabulary\n",
    "        self.init_weights()  # initialize some layers with the uniform distribution\n",
    "\n",
    "    def init_weights(self):\n",
    "        self.embedding.weight.data.uniform_(-0.1, 0.1)\n",
    "        self.fc.bias.data.fill_(0)\n",
    "        self.fc.weight.data.uniform_(-0.1, 0.1)\n",
    "\n",
    "    def load_pretrained_embeddings(self, embeddings):\n",
    "        self.embedding.weight = nn.Parameter(embeddings)\n",
    "\n",
    "    def fine_tune_embeddings(self, fine_tune=True):\n",
    "        for p in self.embedding.parameters():\n",
    "            p.requires_grad = fine_tune\n",
    "\n",
    "    def init_hidden_state(self, encoder_out):\n",
    "        mean_encoder_out = encoder_out.mean(dim=1)\n",
    "        h = self.init_h(mean_encoder_out)  # (batch_size, decoder_dim)\n",
    "        c = self.init_c(mean_encoder_out)\n",
    "        return h, c\n",
    "\n",
    "    def forward(self, encoder_out, encoded_captions, caption_lengths):\n",
    "        \"\"\"\n",
    "        :param encoder_out: output of encoder network\n",
    "        :param encoded_captions: transformed sequence from character to integer\n",
    "        :param caption_lengths: length of transformed sequence\n",
    "        \"\"\"\n",
    "        batch_size = encoder_out.size(0)\n",
    "        encoder_dim = encoder_out.size(-1)\n",
    "        vocab_size = self.vocab_size\n",
    "        encoder_out = encoder_out.view(batch_size, -1, encoder_dim)  # (batch_size, num_pixels, encoder_dim)\n",
    "        num_pixels = encoder_out.size(1)\n",
    "        caption_lengths, sort_ind = caption_lengths.squeeze(1).sort(dim=0, descending=True)\n",
    "        encoder_out = encoder_out[sort_ind]\n",
    "        encoded_captions = encoded_captions[sort_ind]\n",
    "        # embedding transformed sequence for vector\n",
    "        embeddings = self.embedding(encoded_captions)  # (batch_size, max_caption_length, embed_dim)\n",
    "        # initialize hidden state and cell state of LSTM cell\n",
    "        h, c = self.init_hidden_state(encoder_out)  # (batch_size, decoder_dim)\n",
    "        # set decode length by caption length - 1 because of omitting start token\n",
    "        decode_lengths = (caption_lengths - 1).tolist()\n",
    "        predictions = torch.zeros(batch_size, max(decode_lengths), vocab_size).to(self.device)\n",
    "        alphas = torch.zeros(batch_size, max(decode_lengths), num_pixels).to(self.device)\n",
    "        # predict sequence\n",
    "        for t in range(max(decode_lengths)):\n",
    "            batch_size_t = sum([l > t for l in decode_lengths])\n",
    "            attention_weighted_encoding, alpha = self.attention(encoder_out[:batch_size_t], h[:batch_size_t])\n",
    "            gate = self.sigmoid(self.f_beta(h[:batch_size_t]))  # gating scalar, (batch_size_t, encoder_dim)\n",
    "            attention_weighted_encoding = gate * attention_weighted_encoding\n",
    "            h, c = self.decode_step(\n",
    "                torch.cat([embeddings[:batch_size_t, t, :], attention_weighted_encoding], dim=1),\n",
    "                (h[:batch_size_t], c[:batch_size_t]))  # (batch_size_t, decoder_dim)\n",
    "            preds = self.fc(self.dropout(h))  # (batch_size_t, vocab_size)\n",
    "            predictions[:batch_size_t, t, :] = preds\n",
    "            alphas[:batch_size_t, t, :] = alpha\n",
    "        return predictions, encoded_captions, decode_lengths, alphas, sort_ind\n",
    "    \n",
    "    def predict(self, encoder_out, decode_lengths, tokenizer):\n",
    "        batch_size = encoder_out.size(0)\n",
    "        encoder_dim = encoder_out.size(-1)\n",
    "        vocab_size = self.vocab_size\n",
    "        encoder_out = encoder_out.view(batch_size, -1, encoder_dim)  # (batch_size, num_pixels, encoder_dim)\n",
    "        num_pixels = encoder_out.size(1)\n",
    "        # embed start tocken for LSTM input\n",
    "        start_tockens = torch.ones(batch_size, dtype=torch.long).to(self.device) * tokenizer.stoi[\"<sos>\"]\n",
    "        embeddings = self.embedding(start_tockens)\n",
    "        # initialize hidden state and cell state of LSTM cell\n",
    "        h, c = self.init_hidden_state(encoder_out)  # (batch_size, decoder_dim)\n",
    "        predictions = torch.zeros(batch_size, decode_lengths, vocab_size).to(self.device)\n",
    "        # predict sequence\n",
    "        for t in range(decode_lengths):\n",
    "            attention_weighted_encoding, alpha = self.attention(encoder_out, h)\n",
    "            gate = self.sigmoid(self.f_beta(h))  # gating scalar, (batch_size_t, encoder_dim)\n",
    "            attention_weighted_encoding = gate * attention_weighted_encoding\n",
    "            h, c = self.decode_step(\n",
    "                torch.cat([embeddings, attention_weighted_encoding], dim=1),\n",
    "                (h, c))  # (batch_size_t, decoder_dim)\n",
    "            preds = self.fc(self.dropout(h))  # (batch_size_t, vocab_size)\n",
    "            predictions[:, t, :] = preds\n",
    "            if np.argmax(preds.detach().cpu().numpy()) == tokenizer.stoi[\"<eos>\"]:\n",
    "                break\n",
    "            embeddings = self.embedding(torch.argmax(preds, -1))\n",
    "        return predictions"
   ]
  },
  {
   "cell_type": "markdown",
   "metadata": {
    "papermill": {
     "duration": 0.020597,
     "end_time": "2021-03-09T09:44:58.570358",
     "exception": false,
     "start_time": "2021-03-09T09:44:58.549761",
     "status": "completed"
    },
    "tags": []
   },
   "source": [
    "# Helper functions"
   ]
  },
  {
   "cell_type": "code",
   "execution_count": 16,
   "metadata": {
    "execution": {
     "iopub.execute_input": "2021-03-09T09:44:58.633157Z",
     "iopub.status.busy": "2021-03-09T09:44:58.631992Z",
     "iopub.status.idle": "2021-03-09T09:44:58.634627Z",
     "shell.execute_reply": "2021-03-09T09:44:58.634997Z"
    },
    "papermill": {
     "duration": 0.044148,
     "end_time": "2021-03-09T09:44:58.635121",
     "exception": false,
     "start_time": "2021-03-09T09:44:58.590973",
     "status": "completed"
    },
    "tags": []
   },
   "outputs": [],
   "source": [
    "# ====================================================\n",
    "# Helper functions\n",
    "# ====================================================\n",
    "class AverageMeter(object):\n",
    "    \"\"\"Computes and stores the average and current value\"\"\"\n",
    "    def __init__(self):\n",
    "        self.reset()\n",
    "\n",
    "    def reset(self):\n",
    "        self.val = 0\n",
    "        self.avg = 0\n",
    "        self.sum = 0\n",
    "        self.count = 0\n",
    "\n",
    "    def update(self, val, n=1):\n",
    "        self.val = val\n",
    "        self.sum += val * n\n",
    "        self.count += n\n",
    "        self.avg = self.sum / self.count\n",
    "\n",
    "\n",
    "def asMinutes(s):\n",
    "    m = math.floor(s / 60)\n",
    "    s -= m * 60\n",
    "    return '%dm %ds' % (m, s)\n",
    "\n",
    "\n",
    "def timeSince(since, percent):\n",
    "    now = time.time()\n",
    "    s = now - since\n",
    "    es = s / (percent)\n",
    "    rs = es - s\n",
    "    return '%s (remain %s)' % (asMinutes(s), asMinutes(rs))\n",
    "\n",
    "\n",
    "def train_fn(train_loader, encoder, decoder, criterion, \n",
    "             encoder_optimizer, decoder_optimizer, epoch,\n",
    "             encoder_scheduler, decoder_scheduler, device):\n",
    "    batch_time = AverageMeter()\n",
    "    data_time = AverageMeter()\n",
    "    losses = AverageMeter()\n",
    "    # switch to train mode\n",
    "    encoder.train()\n",
    "    decoder.train()\n",
    "    start = end = time.time()\n",
    "    global_step = 0\n",
    "    for step, (images, labels, label_lengths) in enumerate(train_loader):\n",
    "        # measure data loading time\n",
    "        data_time.update(time.time() - end)\n",
    "        images = images.to(device)\n",
    "        labels = labels.to(device)\n",
    "        label_lengths = label_lengths.to(device)\n",
    "        batch_size = images.size(0)\n",
    "        features = encoder(images)\n",
    "        predictions, caps_sorted, decode_lengths, alphas, sort_ind = decoder(features, labels, label_lengths)\n",
    "        targets = caps_sorted[:, 1:]\n",
    "        predictions = pack_padded_sequence(predictions, decode_lengths, batch_first=True).data\n",
    "        targets = pack_padded_sequence(targets, decode_lengths, batch_first=True).data\n",
    "        loss = criterion(predictions, targets)\n",
    "        # record loss\n",
    "        losses.update(loss.item(), batch_size)\n",
    "        if CFG.gradient_accumulation_steps > 1:\n",
    "            loss = loss / CFG.gradient_accumulation_steps\n",
    "        loss.backward()\n",
    "        encoder_grad_norm = torch.nn.utils.clip_grad_norm_(encoder.parameters(), CFG.max_grad_norm)\n",
    "        decoder_grad_norm = torch.nn.utils.clip_grad_norm_(decoder.parameters(), CFG.max_grad_norm)\n",
    "        if (step + 1) % CFG.gradient_accumulation_steps == 0:\n",
    "            encoder_optimizer.step()\n",
    "            decoder_optimizer.step()\n",
    "            encoder_optimizer.zero_grad()\n",
    "            decoder_optimizer.zero_grad()\n",
    "            global_step += 1\n",
    "        # measure elapsed time\n",
    "        batch_time.update(time.time() - end)\n",
    "        end = time.time()\n",
    "        encoder_scheduler.step()\n",
    "        decoder_scheduler.step()\n",
    "        if step % CFG.print_freq == 0 or step == (len(train_loader)-1):\n",
    "            print('Epoch: [{0}][{1}/{2}] '\n",
    "                  'Data {data_time.val:.3f} ({data_time.avg:.3f}) '\n",
    "                  'Elapsed {remain:s} '\n",
    "                  'Loss: {loss.val:.4f}({loss.avg:.4f}) '\n",
    "                  'Encoder Grad: {encoder_grad_norm:.4f}  '\n",
    "                  'Decoder Grad: {decoder_grad_norm:.4f}  '\n",
    "                  'Encoder LR: {encoder_lr:.6f}  '\n",
    "                  'Decoder LR: {decoder_lr:.6f}  '\n",
    "                  .format(\n",
    "                   epoch+1, step, len(train_loader), batch_time=batch_time,\n",
    "                   data_time=data_time, loss=losses,\n",
    "                   remain=timeSince(start, float(step+1)/len(train_loader)),\n",
    "                   encoder_grad_norm=encoder_grad_norm,\n",
    "                   decoder_grad_norm=decoder_grad_norm,\n",
    "                   encoder_lr=encoder_scheduler.get_lr()[0],\n",
    "                   decoder_lr=decoder_scheduler.get_lr()[0],\n",
    "                   ))\n",
    "    return losses.avg\n",
    "\n",
    "\n",
    "def valid_fn(valid_loader, encoder, decoder, tokenizer, criterion, device):\n",
    "    batch_time = AverageMeter()\n",
    "    data_time = AverageMeter()\n",
    "    # switch to evaluation mode\n",
    "    encoder.eval()\n",
    "    decoder.eval()\n",
    "    text_preds = []\n",
    "    start = end = time.time()\n",
    "    for step, (images) in enumerate(valid_loader):\n",
    "        # measure data loading time\n",
    "        data_time.update(time.time() - end)\n",
    "        images = images.to(device)\n",
    "        batch_size = images.size(0)\n",
    "        with torch.no_grad():\n",
    "            features = encoder(images)\n",
    "            predictions = decoder.predict(features, CFG.max_len, tokenizer)\n",
    "        predicted_sequence = torch.argmax(predictions.detach().cpu(), -1).numpy()\n",
    "        _text_preds = tokenizer.predict_captions(predicted_sequence)\n",
    "        text_preds.append(_text_preds)\n",
    "        # measure elapsed time\n",
    "        batch_time.update(time.time() - end)\n",
    "        end = time.time()\n",
    "        if step % CFG.print_freq == 0 or step == (len(valid_loader)-1):\n",
    "            print('EVAL: [{0}/{1}] '\n",
    "                  'Data {data_time.val:.3f} ({data_time.avg:.3f}) '\n",
    "                  'Elapsed {remain:s} '\n",
    "                  .format(\n",
    "                   step, len(valid_loader), batch_time=batch_time,\n",
    "                   data_time=data_time,\n",
    "                   remain=timeSince(start, float(step+1)/len(valid_loader)),\n",
    "                   ))\n",
    "    text_preds = np.concatenate(text_preds)\n",
    "    return text_preds"
   ]
  },
  {
   "cell_type": "markdown",
   "metadata": {
    "papermill": {
     "duration": 0.021011,
     "end_time": "2021-03-09T09:44:58.676694",
     "exception": false,
     "start_time": "2021-03-09T09:44:58.655683",
     "status": "completed"
    },
    "tags": []
   },
   "source": [
    "# Train loop"
   ]
  },
  {
   "cell_type": "code",
   "execution_count": 17,
   "metadata": {
    "execution": {
     "iopub.execute_input": "2021-03-09T09:44:58.736334Z",
     "iopub.status.busy": "2021-03-09T09:44:58.735541Z",
     "iopub.status.idle": "2021-03-09T09:44:58.738849Z",
     "shell.execute_reply": "2021-03-09T09:44:58.738363Z"
    },
    "papermill": {
     "duration": 0.041299,
     "end_time": "2021-03-09T09:44:58.739015",
     "exception": false,
     "start_time": "2021-03-09T09:44:58.697716",
     "status": "completed"
    },
    "tags": []
   },
   "outputs": [],
   "source": [
    "# ====================================================\n",
    "# Train loop\n",
    "# ====================================================\n",
    "def train_loop(folds, fold):\n",
    "\n",
    "    LOGGER.info(f\"========== fold: {fold} training ==========\")\n",
    "\n",
    "    # ====================================================\n",
    "    # loader\n",
    "    # ====================================================\n",
    "    trn_idx = folds[folds['fold'] != fold].index\n",
    "    val_idx = folds[folds['fold'] == fold].index\n",
    "\n",
    "    train_folds = folds.loc[trn_idx].reset_index(drop=True)\n",
    "    valid_folds = folds.loc[val_idx].reset_index(drop=True)\n",
    "    valid_labels = valid_folds['InChI'].values\n",
    "\n",
    "    train_dataset = TrainDataset(train_folds, tokenizer, transform=get_transforms(data='train'))\n",
    "    valid_dataset = TestDataset(valid_folds, transform=get_transforms(data='valid'))\n",
    "\n",
    "    train_loader = DataLoader(train_dataset, \n",
    "                              batch_size=CFG.batch_size, \n",
    "                              shuffle=True, \n",
    "                              num_workers=CFG.num_workers, \n",
    "                              pin_memory=True,\n",
    "                              drop_last=True, \n",
    "                              collate_fn=bms_collate)\n",
    "    valid_loader = DataLoader(valid_dataset, \n",
    "                              batch_size=CFG.batch_size, \n",
    "                              shuffle=False, \n",
    "                              num_workers=CFG.num_workers,\n",
    "                              pin_memory=True, \n",
    "                              drop_last=False)\n",
    "    \n",
    "    # ====================================================\n",
    "    # scheduler \n",
    "    # ====================================================\n",
    "    def get_scheduler(optimizer):\n",
    "        if CFG.scheduler=='ReduceLROnPlateau':\n",
    "            scheduler = ReduceLROnPlateau(optimizer, mode='min', factor=CFG.factor, patience=CFG.patience, verbose=True, eps=CFG.eps)\n",
    "        elif CFG.scheduler=='CosineAnnealingLR':\n",
    "            scheduler = CosineAnnealingLR(optimizer, T_max=CFG.T_max, eta_min=CFG.min_lr, last_epoch=-1)\n",
    "        elif CFG.scheduler=='CosineAnnealingWarmRestarts':\n",
    "            scheduler = CosineAnnealingWarmRestarts(optimizer, T_0=CFG.T_0, T_mult=1, eta_min=CFG.min_lr, last_epoch=-1)\n",
    "        return scheduler\n",
    "\n",
    "    # ====================================================\n",
    "    # model & optimizer\n",
    "    # ====================================================\n",
    "    encoder = Encoder(CFG.model_name, pretrained=True)\n",
    "    encoder.to(device)\n",
    "    encoder_optimizer = Adam(encoder.parameters(), lr=CFG.encoder_lr, weight_decay=CFG.weight_decay, amsgrad=False)\n",
    "    encoder_scheduler = get_scheduler(encoder_optimizer)\n",
    "    \n",
    "    decoder = DecoderWithAttention(attention_dim=CFG.attention_dim,\n",
    "                                   embed_dim=CFG.embed_dim,\n",
    "                                   decoder_dim=CFG.decoder_dim,\n",
    "                                   vocab_size=len(tokenizer),\n",
    "                                   dropout=CFG.dropout,\n",
    "                                   device=device)\n",
    "    decoder.to(device)\n",
    "    decoder_optimizer = Adam(decoder.parameters(), lr=CFG.decoder_lr, weight_decay=CFG.weight_decay, amsgrad=False)\n",
    "    decoder_scheduler = get_scheduler(decoder_optimizer)\n",
    "    # ====================================================\n",
    "    # loop\n",
    "    # ====================================================\n",
    "    criterion = nn.CrossEntropyLoss(ignore_index=tokenizer.stoi[\"<pad>\"])\n",
    "\n",
    "    best_score = np.inf\n",
    "    best_loss = np.inf\n",
    "    \n",
    "    for epoch in range(CFG.epochs):\n",
    "        \n",
    "        start_time = time.time()\n",
    "        \n",
    "        # train\n",
    "        avg_loss = train_fn(train_loader, encoder, decoder, criterion, \n",
    "                            encoder_optimizer, decoder_optimizer, epoch, \n",
    "                            encoder_scheduler, decoder_scheduler, device)\n",
    "\n",
    "        # eval\n",
    "        text_preds = valid_fn(valid_loader, encoder, decoder, tokenizer, criterion, device)\n",
    "        text_preds = [f\"InChI=1S/{text}\" for text in text_preds]\n",
    "        LOGGER.info(f\"labels: {valid_labels[:5]}\")\n",
    "        LOGGER.info(f\"preds: {text_preds[:5]}\")\n",
    "        \n",
    "        # scoring\n",
    "        score = get_score(valid_labels, text_preds)\n",
    "        \n",
    "        # if isinstance(encoder_scheduler, ReduceLROnPlateau):\n",
    "        #     encoder_scheduler.step(score)\n",
    "        # elif isinstance(encoder_scheduler, CosineAnnealingLR):\n",
    "        #     encoder_scheduler.step()\n",
    "        # elif isinstance(encoder_scheduler, CosineAnnealingWarmRestarts):\n",
    "        #     encoder_scheduler.step()\n",
    "            \n",
    "        # if isinstance(decoder_scheduler, ReduceLROnPlateau):\n",
    "        #     decoder_scheduler.step(score)\n",
    "        # elif isinstance(decoder_scheduler, CosineAnnealingLR):\n",
    "        #     decoder_scheduler.step()\n",
    "        # elif isinstance(decoder_scheduler, CosineAnnealingWarmRestarts):\n",
    "        #     decoder_scheduler.step()\n",
    "\n",
    "        elapsed = time.time() - start_time\n",
    "\n",
    "        LOGGER.info(f'Epoch {epoch+1} - avg_train_loss: {avg_loss:.4f}  time: {elapsed:.0f}s')\n",
    "        LOGGER.info(f'Epoch {epoch+1} - Score: {score:.4f}')\n",
    "        \n",
    "        if score < best_score:\n",
    "            best_score = score\n",
    "            LOGGER.info(f'Epoch {epoch+1} - Save Best Score: {best_score:.4f} Model')\n",
    "            torch.save({'encoder': encoder.state_dict(), \n",
    "                        'encoder_optimizer': encoder_optimizer.state_dict(), \n",
    "                        'encoder_scheduler': encoder_scheduler.state_dict(), \n",
    "                        'decoder': decoder.state_dict(), \n",
    "                        'decoder_optimizer': decoder_optimizer.state_dict(), \n",
    "                        'decoder_scheduler': decoder_scheduler.state_dict(), \n",
    "                        'text_preds': text_preds,\n",
    "                       },\n",
    "                        OUTPUT_DIR+f'{CFG.model_name}_fold{fold}_best.pth')"
   ]
  },
  {
   "cell_type": "markdown",
   "metadata": {
    "papermill": {
     "duration": 0.021144,
     "end_time": "2021-03-09T09:44:58.78128",
     "exception": false,
     "start_time": "2021-03-09T09:44:58.760136",
     "status": "completed"
    },
    "tags": []
   },
   "source": [
    "# Main"
   ]
  },
  {
   "cell_type": "code",
   "execution_count": 18,
   "metadata": {
    "execution": {
     "iopub.execute_input": "2021-03-09T09:44:58.828344Z",
     "iopub.status.busy": "2021-03-09T09:44:58.827801Z",
     "iopub.status.idle": "2021-03-09T09:44:58.832258Z",
     "shell.execute_reply": "2021-03-09T09:44:58.831793Z"
    },
    "papermill": {
     "duration": 0.030114,
     "end_time": "2021-03-09T09:44:58.832368",
     "exception": false,
     "start_time": "2021-03-09T09:44:58.802254",
     "status": "completed"
    },
    "tags": []
   },
   "outputs": [],
   "source": [
    "# ====================================================\n",
    "# main\n",
    "# ====================================================\n",
    "def main():\n",
    "\n",
    "    \"\"\"\n",
    "    Prepare: 1.train  2.folds\n",
    "    \"\"\"\n",
    "\n",
    "    if CFG.train:\n",
    "        # train\n",
    "        oof_df = pd.DataFrame()\n",
    "        for fold in range(CFG.n_fold):\n",
    "            if fold in CFG.trn_fold:\n",
    "                train_loop(folds, fold)"
   ]
  },
  {
   "cell_type": "code",
   "execution_count": 19,
   "metadata": {
    "execution": {
     "iopub.execute_input": "2021-03-09T09:44:58.879748Z",
     "iopub.status.busy": "2021-03-09T09:44:58.879023Z",
     "iopub.status.idle": "2021-03-09T10:19:02.241749Z",
     "shell.execute_reply": "2021-03-09T10:19:02.241238Z"
    },
    "papermill": {
     "duration": 2043.388258,
     "end_time": "2021-03-09T10:19:02.241899",
     "exception": false,
     "start_time": "2021-03-09T09:44:58.853641",
     "status": "completed"
    },
    "tags": []
   },
   "outputs": [
    {
     "output_type": "stream",
     "name": "stderr",
     "text": [
      "========== fold: 0 training ==========\n",
      "Epoch: [1][0/7575] Data 4.383 (4.383) Elapsed 0m 7s (remain 994m 10s) Loss: 5.3043(5.3043) Encoder Grad: 0.6709  Decoder Grad: 1.1782  Encoder LR: 0.000500  Decoder LR: 0.002000  \n",
      "Epoch: [1][100/7575] Data 0.000 (0.044) Elapsed 2m 50s (remain 210m 52s) Loss: 1.6450(2.3813) Encoder Grad: 0.1926  Decoder Grad: 0.6991  Encoder LR: 0.000500  Decoder LR: 0.002000  \n",
      "Epoch: [1][200/7575] Data 0.000 (0.022) Elapsed 5m 36s (remain 205m 43s) Loss: 1.4562(1.9748) Encoder Grad: 0.1402  Decoder Grad: 1.0374  Encoder LR: 0.000500  Decoder LR: 0.002000  \n",
      "Epoch: [1][300/7575] Data 0.000 (0.015) Elapsed 8m 20s (remain 201m 36s) Loss: 1.3549(1.7880) Encoder Grad: 0.1211  Decoder Grad: 0.4798  Encoder LR: 0.000500  Decoder LR: 0.002000  \n",
      "Epoch: [1][400/7575] Data 0.000 (0.011) Elapsed 11m 4s (remain 198m 0s) Loss: 1.2594(1.6713) Encoder Grad: 0.1609  Decoder Grad: 0.3472  Encoder LR: 0.000500  Decoder LR: 0.001999  \n",
      "Epoch: [1][500/7575] Data 0.000 (0.009) Elapsed 13m 49s (remain 195m 6s) Loss: 1.1862(1.5847) Encoder Grad: 0.1601  Decoder Grad: 0.4173  Encoder LR: 0.000500  Decoder LR: 0.001999  \n",
      "Epoch: [1][600/7575] Data 0.000 (0.008) Elapsed 16m 37s (remain 192m 58s) Loss: 1.1629(1.5143) Encoder Grad: 0.1700  Decoder Grad: 0.4663  Encoder LR: 0.000500  Decoder LR: 0.001998  \n",
      "Epoch: [1][700/7575] Data 0.000 (0.007) Elapsed 19m 27s (remain 190m 49s) Loss: 1.0343(1.4521) Encoder Grad: 0.1411  Decoder Grad: 0.3790  Encoder LR: 0.000499  Decoder LR: 0.001997  \n",
      "Epoch: [1][800/7575] Data 0.000 (0.006) Elapsed 22m 12s (remain 187m 51s) Loss: 0.9912(1.3972) Encoder Grad: 0.1500  Decoder Grad: 0.4687  Encoder LR: 0.000499  Decoder LR: 0.001997  \n",
      "Epoch: [1][900/7575] Data 0.000 (0.005) Elapsed 24m 59s (remain 185m 6s) Loss: 0.9259(1.3475) Encoder Grad: 0.1603  Decoder Grad: 0.4141  Encoder LR: 0.000499  Decoder LR: 0.001996  \n",
      "Epoch: [1][1000/7575] Data 0.000 (0.005) Elapsed 27m 41s (remain 181m 54s) Loss: 0.8629(1.3029) Encoder Grad: 0.1460  Decoder Grad: 0.4144  Encoder LR: 0.000499  Decoder LR: 0.001995  \n",
      "Epoch: [1][1100/7575] Data 0.000 (0.004) Elapsed 30m 20s (remain 178m 25s) Loss: 0.8176(1.2623) Encoder Grad: 0.1834  Decoder Grad: 0.3251  Encoder LR: 0.000498  Decoder LR: 0.001993  \n",
      "Epoch: [1][1200/7575] Data 0.000 (0.004) Elapsed 32m 58s (remain 175m 0s) Loss: 0.7991(1.2244) Encoder Grad: 0.1734  Decoder Grad: 0.4581  Encoder LR: 0.000498  Decoder LR: 0.001992  \n",
      "Epoch: [1][1300/7575] Data 0.000 (0.004) Elapsed 35m 36s (remain 171m 45s) Loss: 0.7623(1.1893) Encoder Grad: 0.1575  Decoder Grad: 0.2854  Encoder LR: 0.000498  Decoder LR: 0.001991  \n",
      "Epoch: [1][1400/7575] Data 0.000 (0.003) Elapsed 38m 14s (remain 168m 33s) Loss: 0.7337(1.1570) Encoder Grad: 0.1606  Decoder Grad: 0.2981  Encoder LR: 0.000497  Decoder LR: 0.001989  \n",
      "Epoch: [1][1500/7575] Data 0.000 (0.003) Elapsed 40m 52s (remain 165m 22s) Loss: 0.6850(1.1270) Encoder Grad: 0.1702  Decoder Grad: 0.2477  Encoder LR: 0.000497  Decoder LR: 0.001988  \n",
      "Epoch: [1][1600/7575] Data 0.000 (0.003) Elapsed 43m 30s (remain 162m 21s) Loss: 0.6197(1.0989) Encoder Grad: 0.1554  Decoder Grad: 0.2673  Encoder LR: 0.000497  Decoder LR: 0.001986  \n",
      "Epoch: [1][1700/7575] Data 0.000 (0.003) Elapsed 46m 7s (remain 159m 15s) Loss: 0.6384(1.0727) Encoder Grad: 0.1605  Decoder Grad: 0.2901  Encoder LR: 0.000496  Decoder LR: 0.001984  \n",
      "Epoch: [1][1800/7575] Data 0.000 (0.003) Elapsed 48m 49s (remain 156m 31s) Loss: 0.6161(1.0481) Encoder Grad: 0.2185  Decoder Grad: 0.2959  Encoder LR: 0.000496  Decoder LR: 0.001983  \n",
      "Epoch: [1][1900/7575] Data 0.000 (0.003) Elapsed 51m 30s (remain 153m 45s) Loss: 0.6130(1.0250) Encoder Grad: 0.1939  Decoder Grad: 0.3630  Encoder LR: 0.000495  Decoder LR: 0.001981  \n",
      "Epoch: [1][2000/7575] Data 0.000 (0.002) Elapsed 54m 15s (remain 151m 7s) Loss: 0.5681(1.0030) Encoder Grad: 0.1517  Decoder Grad: 0.2058  Encoder LR: 0.000495  Decoder LR: 0.001979  \n",
      "Epoch: [1][2100/7575] Data 0.000 (0.002) Elapsed 56m 59s (remain 148m 30s) Loss: 0.5473(0.9827) Encoder Grad: 0.1835  Decoder Grad: 0.2198  Encoder LR: 0.000494  Decoder LR: 0.001976  \n",
      "Epoch: [1][2200/7575] Data 0.000 (0.002) Elapsed 59m 44s (remain 145m 51s) Loss: 0.5571(0.9635) Encoder Grad: 0.1605  Decoder Grad: 0.2780  Encoder LR: 0.000494  Decoder LR: 0.001974  \n",
      "Epoch: [1][2300/7575] Data 0.000 (0.002) Elapsed 62m 29s (remain 143m 14s) Loss: 0.5288(0.9452) Encoder Grad: 0.1709  Decoder Grad: 0.1983  Encoder LR: 0.000493  Decoder LR: 0.001972  \n",
      "Epoch: [1][2400/7575] Data 0.000 (0.002) Elapsed 65m 12s (remain 140m 30s) Loss: 0.5328(0.9280) Encoder Grad: 0.1705  Decoder Grad: 0.2764  Encoder LR: 0.000492  Decoder LR: 0.001969  \n",
      "Epoch: [1][2500/7575] Data 0.000 (0.002) Elapsed 67m 59s (remain 137m 56s) Loss: 0.5161(0.9116) Encoder Grad: 0.1527  Decoder Grad: 0.2321  Encoder LR: 0.000492  Decoder LR: 0.001967  \n",
      "Epoch: [1][2600/7575] Data 0.000 (0.002) Elapsed 70m 47s (remain 135m 22s) Loss: 0.4658(0.8961) Encoder Grad: 0.1527  Decoder Grad: 0.2120  Encoder LR: 0.000491  Decoder LR: 0.001964  \n",
      "Epoch: [1][2700/7575] Data 0.000 (0.002) Elapsed 73m 30s (remain 132m 39s) Loss: 0.5230(0.8812) Encoder Grad: 0.1755  Decoder Grad: 0.2662  Encoder LR: 0.000490  Decoder LR: 0.001961  \n",
      "Epoch: [1][2800/7575] Data 0.000 (0.002) Elapsed 76m 15s (remain 129m 57s) Loss: 0.4751(0.8671) Encoder Grad: 0.1991  Decoder Grad: 0.2484  Encoder LR: 0.000490  Decoder LR: 0.001958  \n",
      "Epoch: [1][2900/7575] Data 0.000 (0.002) Elapsed 79m 1s (remain 127m 18s) Loss: 0.4379(0.8536) Encoder Grad: 0.1626  Decoder Grad: 0.2060  Encoder LR: 0.000489  Decoder LR: 0.001955  \n",
      "Epoch: [1][3000/7575] Data 0.000 (0.002) Elapsed 81m 44s (remain 124m 35s) Loss: 0.4524(0.8406) Encoder Grad: 0.1892  Decoder Grad: 0.3395  Encoder LR: 0.000488  Decoder LR: 0.001952  \n",
      "Epoch: [1][3100/7575] Data 0.000 (0.002) Elapsed 84m 28s (remain 121m 51s) Loss: 0.4496(0.8282) Encoder Grad: 0.2000  Decoder Grad: 0.2600  Encoder LR: 0.000487  Decoder LR: 0.001949  \n",
      "Epoch: [1][3200/7575] Data 0.000 (0.002) Elapsed 87m 11s (remain 119m 8s) Loss: 0.4533(0.8164) Encoder Grad: 0.1785  Decoder Grad: 0.3647  Encoder LR: 0.000486  Decoder LR: 0.001945  \n",
      "Epoch: [1][3300/7575] Data 0.000 (0.002) Elapsed 89m 56s (remain 116m 27s) Loss: 0.4368(0.8048) Encoder Grad: 0.2030  Decoder Grad: 0.3062  Encoder LR: 0.000485  Decoder LR: 0.001942  \n",
      "Epoch: [1][3400/7575] Data 0.000 (0.002) Elapsed 92m 42s (remain 113m 47s) Loss: 0.4241(0.7939) Encoder Grad: 0.1593  Decoder Grad: 0.2217  Encoder LR: 0.000485  Decoder LR: 0.001938  \n",
      "Epoch: [1][3500/7575] Data 0.000 (0.002) Elapsed 95m 30s (remain 111m 8s) Loss: 0.4217(0.7834) Encoder Grad: 0.2362  Decoder Grad: 0.3263  Encoder LR: 0.000484  Decoder LR: 0.001935  \n",
      "Epoch: [1][3600/7575] Data 0.000 (0.001) Elapsed 98m 17s (remain 108m 27s) Loss: 0.4552(0.7732) Encoder Grad: 0.2018  Decoder Grad: 0.2639  Encoder LR: 0.000483  Decoder LR: 0.001931  \n",
      "Epoch: [1][3700/7575] Data 0.000 (0.001) Elapsed 101m 3s (remain 105m 46s) Loss: 0.4036(0.7633) Encoder Grad: 0.1677  Decoder Grad: 0.2282  Encoder LR: 0.000482  Decoder LR: 0.001927  \n",
      "Epoch: [1][3800/7575] Data 0.000 (0.001) Elapsed 103m 48s (remain 103m 4s) Loss: 0.4110(0.7540) Encoder Grad: 0.1772  Decoder Grad: 0.1980  Encoder LR: 0.000481  Decoder LR: 0.001923  \n",
      "Epoch: [1][3900/7575] Data 0.000 (0.001) Elapsed 106m 31s (remain 100m 19s) Loss: 0.3927(0.7450) Encoder Grad: 0.1907  Decoder Grad: 0.2233  Encoder LR: 0.000480  Decoder LR: 0.001919  \n",
      "Epoch: [1][4000/7575] Data 0.000 (0.001) Elapsed 109m 15s (remain 97m 36s) Loss: 0.4118(0.7362) Encoder Grad: 0.1624  Decoder Grad: 0.2488  Encoder LR: 0.000479  Decoder LR: 0.001915  \n",
      "Epoch: [1][4100/7575] Data 0.000 (0.001) Elapsed 111m 59s (remain 94m 51s) Loss: 0.3685(0.7276) Encoder Grad: 0.1590  Decoder Grad: 0.2426  Encoder LR: 0.000478  Decoder LR: 0.001911  \n",
      "Epoch: [1][4200/7575] Data 0.000 (0.001) Elapsed 114m 45s (remain 92m 9s) Loss: 0.3775(0.7193) Encoder Grad: 0.2040  Decoder Grad: 0.3576  Encoder LR: 0.000477  Decoder LR: 0.001907  \n",
      "Epoch: [1][4300/7575] Data 0.000 (0.001) Elapsed 117m 29s (remain 89m 25s) Loss: 0.3637(0.7114) Encoder Grad: 0.1543  Decoder Grad: 0.1779  Encoder LR: 0.000476  Decoder LR: 0.001902  \n",
      "Epoch: [1][4400/7575] Data 0.000 (0.001) Elapsed 120m 9s (remain 86m 39s) Loss: 0.3825(0.7036) Encoder Grad: 0.1946  Decoder Grad: 0.3355  Encoder LR: 0.000474  Decoder LR: 0.001898  \n",
      "Epoch: [1][4500/7575] Data 0.000 (0.001) Elapsed 122m 47s (remain 83m 51s) Loss: 0.3773(0.6963) Encoder Grad: 0.2065  Decoder Grad: 0.2150  Encoder LR: 0.000473  Decoder LR: 0.001893  \n",
      "Epoch: [1][4600/7575] Data 0.000 (0.001) Elapsed 125m 27s (remain 81m 5s) Loss: 0.3473(0.6889) Encoder Grad: 0.1810  Decoder Grad: 0.2977  Encoder LR: 0.000472  Decoder LR: 0.001888  \n",
      "Epoch: [1][4700/7575] Data 0.000 (0.001) Elapsed 128m 12s (remain 78m 22s) Loss: 0.3301(0.6818) Encoder Grad: 0.1649  Decoder Grad: 0.3696  Encoder LR: 0.000471  Decoder LR: 0.001884  \n",
      "Epoch: [1][4800/7575] Data 0.000 (0.001) Elapsed 130m 56s (remain 75m 39s) Loss: 0.3383(0.6750) Encoder Grad: 0.1711  Decoder Grad: 0.1609  Encoder LR: 0.000470  Decoder LR: 0.001879  \n",
      "Epoch: [1][4900/7575] Data 0.000 (0.001) Elapsed 133m 34s (remain 72m 52s) Loss: 0.3307(0.6682) Encoder Grad: 0.1386  Decoder Grad: 0.2345  Encoder LR: 0.000468  Decoder LR: 0.001874  \n",
      "Epoch: [1][5000/7575] Data 0.000 (0.001) Elapsed 136m 12s (remain 70m 6s) Loss: 0.3441(0.6618) Encoder Grad: 0.1807  Decoder Grad: 0.2137  Encoder LR: 0.000467  Decoder LR: 0.001869  \n",
      "Epoch: [1][5100/7575] Data 0.000 (0.001) Elapsed 138m 52s (remain 67m 21s) Loss: 0.3125(0.6556) Encoder Grad: 0.1650  Decoder Grad: 0.1745  Encoder LR: 0.000466  Decoder LR: 0.001863  \n",
      "Epoch: [1][5200/7575] Data 0.000 (0.001) Elapsed 141m 29s (remain 64m 35s) Loss: 0.3530(0.6495) Encoder Grad: 0.1778  Decoder Grad: 0.1771  Encoder LR: 0.000465  Decoder LR: 0.001858  \n",
      "Epoch: [1][5300/7575] Data 0.000 (0.001) Elapsed 144m 7s (remain 61m 49s) Loss: 0.3397(0.6436) Encoder Grad: 0.2258  Decoder Grad: 0.2452  Encoder LR: 0.000463  Decoder LR: 0.001853  \n",
      "Epoch: [1][5400/7575] Data 0.000 (0.001) Elapsed 146m 47s (remain 59m 5s) Loss: 0.3301(0.6379) Encoder Grad: 0.1860  Decoder Grad: 0.2268  Encoder LR: 0.000462  Decoder LR: 0.001847  \n",
      "Epoch: [1][5500/7575] Data 0.000 (0.001) Elapsed 149m 24s (remain 56m 19s) Loss: 0.3234(0.6323) Encoder Grad: 0.1602  Decoder Grad: 0.2310  Encoder LR: 0.000460  Decoder LR: 0.001842  \n",
      "Epoch: [1][5600/7575] Data 0.000 (0.001) Elapsed 152m 1s (remain 53m 34s) Loss: 0.3153(0.6268) Encoder Grad: 0.1881  Decoder Grad: 0.2188  Encoder LR: 0.000459  Decoder LR: 0.001836  \n",
      "Epoch: [1][5700/7575] Data 0.000 (0.001) Elapsed 154m 39s (remain 50m 50s) Loss: 0.3141(0.6215) Encoder Grad: 0.1518  Decoder Grad: 0.2130  Encoder LR: 0.000458  Decoder LR: 0.001830  \n",
      "Epoch: [1][5800/7575] Data 0.000 (0.001) Elapsed 157m 18s (remain 48m 6s) Loss: 0.3025(0.6163) Encoder Grad: 0.1601  Decoder Grad: 0.1650  Encoder LR: 0.000456  Decoder LR: 0.001824  \n",
      "Epoch: [1][5900/7575] Data 0.000 (0.001) Elapsed 159m 56s (remain 45m 22s) Loss: 0.3164(0.6113) Encoder Grad: 0.1563  Decoder Grad: 0.2015  Encoder LR: 0.000455  Decoder LR: 0.001819  \n",
      "Epoch: [1][6000/7575] Data 0.000 (0.001) Elapsed 162m 34s (remain 42m 38s) Loss: 0.3209(0.6064) Encoder Grad: 0.2036  Decoder Grad: 0.1918  Encoder LR: 0.000453  Decoder LR: 0.001813  \n",
      "Epoch: [1][6100/7575] Data 0.000 (0.001) Elapsed 165m 14s (remain 39m 55s) Loss: 0.2946(0.6016) Encoder Grad: 0.1545  Decoder Grad: 0.1785  Encoder LR: 0.000452  Decoder LR: 0.001806  \n",
      "Epoch: [1][6200/7575] Data 0.000 (0.001) Elapsed 167m 56s (remain 37m 12s) Loss: 0.3118(0.5969) Encoder Grad: 0.1843  Decoder Grad: 0.3235  Encoder LR: 0.000450  Decoder LR: 0.001800  \n",
      "Epoch: [1][6300/7575] Data 0.000 (0.001) Elapsed 170m 36s (remain 34m 29s) Loss: 0.3031(0.5923) Encoder Grad: 0.1603  Decoder Grad: 0.1785  Encoder LR: 0.000449  Decoder LR: 0.001794  \n",
      "Epoch: [1][6400/7575] Data 0.000 (0.001) Elapsed 173m 16s (remain 31m 46s) Loss: 0.2947(0.5878) Encoder Grad: 0.1576  Decoder Grad: 0.2204  Encoder LR: 0.000447  Decoder LR: 0.001788  \n",
      "Epoch: [1][6500/7575] Data 0.000 (0.001) Elapsed 175m 56s (remain 29m 4s) Loss: 0.2726(0.5834) Encoder Grad: 0.1497  Decoder Grad: 0.2141  Encoder LR: 0.000445  Decoder LR: 0.001781  \n",
      "Epoch: [1][6600/7575] Data 0.000 (0.001) Elapsed 178m 41s (remain 26m 22s) Loss: 0.2933(0.5791) Encoder Grad: 0.1921  Decoder Grad: 0.1948  Encoder LR: 0.000444  Decoder LR: 0.001775  \n",
      "Epoch: [1][6700/7575] Data 0.000 (0.001) Elapsed 181m 25s (remain 23m 39s) Loss: 0.2910(0.5749) Encoder Grad: 0.1903  Decoder Grad: 0.3500  Encoder LR: 0.000442  Decoder LR: 0.001768  \n",
      "Epoch: [1][6800/7575] Data 0.000 (0.001) Elapsed 184m 4s (remain 20m 56s) Loss: 0.3215(0.5709) Encoder Grad: 0.1747  Decoder Grad: 0.1672  Encoder LR: 0.000440  Decoder LR: 0.001761  \n",
      "Epoch: [1][6900/7575] Data 0.000 (0.001) Elapsed 186m 50s (remain 18m 14s) Loss: 0.3012(0.5669) Encoder Grad: 0.1627  Decoder Grad: 0.1478  Encoder LR: 0.000439  Decoder LR: 0.001755  \n",
      "Epoch: [1][7000/7575] Data 0.000 (0.001) Elapsed 189m 39s (remain 15m 33s) Loss: 0.3053(0.5629) Encoder Grad: 0.1997  Decoder Grad: 0.2745  Encoder LR: 0.000437  Decoder LR: 0.001748  \n",
      "Epoch: [1][7100/7575] Data 0.000 (0.001) Elapsed 192m 39s (remain 12m 51s) Loss: 0.2855(0.5591) Encoder Grad: 0.1847  Decoder Grad: 0.2034  Encoder LR: 0.000435  Decoder LR: 0.001741  \n",
      "Epoch: [1][7200/7575] Data 0.000 (0.001) Elapsed 195m 38s (remain 10m 9s) Loss: 0.2783(0.5554) Encoder Grad: 0.1606  Decoder Grad: 0.1683  Encoder LR: 0.000433  Decoder LR: 0.001734  \n",
      "Epoch: [1][7300/7575] Data 0.000 (0.001) Elapsed 198m 26s (remain 7m 26s) Loss: 0.2859(0.5517) Encoder Grad: 0.1638  Decoder Grad: 0.3414  Encoder LR: 0.000432  Decoder LR: 0.001727  \n",
      "Epoch: [1][7400/7575] Data 0.000 (0.001) Elapsed 201m 10s (remain 4m 43s) Loss: 0.2778(0.5481) Encoder Grad: 0.1501  Decoder Grad: 0.2541  Encoder LR: 0.000430  Decoder LR: 0.001720  \n",
      "Epoch: [1][7500/7575] Data 0.000 (0.001) Elapsed 202m 43s (remain 1m 59s) Loss: 0.2757(0.5445) Encoder Grad: 0.1717  Decoder Grad: 0.1764  Encoder LR: 0.000428  Decoder LR: 0.001712  \n",
      "Epoch: [1][7574/7575] Data 0.000 (0.001) Elapsed 203m 50s (remain 0m 0s) Loss: 0.2924(0.5419) Encoder Grad: 0.2011  Decoder Grad: 0.1971  Encoder LR: 0.000427  Decoder LR: 0.001707  \n",
      "EVAL: [0/1894] Data 3.458 (3.458) Elapsed 0m 4s (remain 142m 6s) \n",
      "EVAL: [100/1894] Data 0.000 (0.034) Elapsed 0m 59s (remain 17m 41s) \n",
      "EVAL: [200/1894] Data 0.000 (0.017) Elapsed 1m 54s (remain 16m 5s) \n",
      "EVAL: [300/1894] Data 0.000 (0.012) Elapsed 2m 51s (remain 15m 8s) \n",
      "EVAL: [400/1894] Data 0.000 (0.009) Elapsed 3m 54s (remain 14m 33s) \n",
      "EVAL: [500/1894] Data 0.000 (0.007) Elapsed 4m 52s (remain 13m 32s) \n",
      "EVAL: [600/1894] Data 0.000 (0.006) Elapsed 5m 44s (remain 12m 21s) \n",
      "EVAL: [700/1894] Data 0.000 (0.005) Elapsed 6m 36s (remain 11m 14s) \n",
      "EVAL: [800/1894] Data 0.000 (0.005) Elapsed 7m 28s (remain 10m 12s) \n",
      "EVAL: [900/1894] Data 0.000 (0.004) Elapsed 8m 29s (remain 9m 21s) \n",
      "EVAL: [1000/1894] Data 0.000 (0.004) Elapsed 9m 30s (remain 8m 29s) \n",
      "EVAL: [1100/1894] Data 0.000 (0.003) Elapsed 10m 26s (remain 7m 31s) \n",
      "EVAL: [1200/1894] Data 0.000 (0.003) Elapsed 11m 19s (remain 6m 32s) \n",
      "EVAL: [1300/1894] Data 0.000 (0.003) Elapsed 12m 11s (remain 5m 33s) \n",
      "EVAL: [1400/1894] Data 0.000 (0.003) Elapsed 13m 4s (remain 4m 36s) \n",
      "EVAL: [1500/1894] Data 0.000 (0.003) Elapsed 14m 3s (remain 3m 40s) \n",
      "EVAL: [1600/1894] Data 0.000 (0.002) Elapsed 15m 3s (remain 2m 45s) \n",
      "EVAL: [1700/1894] Data 0.000 (0.002) Elapsed 15m 57s (remain 1m 48s) \n",
      "EVAL: [1800/1894] Data 0.000 (0.002) Elapsed 16m 53s (remain 0m 52s) \n",
      "EVAL: [1893/1894] Data 0.000 (0.002) Elapsed 17m 51s (remain 0m 0s) \n",
      "labels: ['InChI=1S/C17H10BrN3O/c18-14-7-3-1-5-11(14)9-12(10-19)16-20-15-8-4-2-6-13(15)17(22)21-16/h1-9,13H/b12-9+'\n",
      " 'InChI=1S/C21H21N5O2S/c1-15-7-8-18(17-5-4-11-22-20(15)17)29(27,28)25-13-9-16(10-14-25)21-24-23-19-6-2-3-12-26(19)21/h2-8,11-12,16H,9-10,13-14H2,1H3'\n",
      " 'InChI=1S/C13H12BrF3N4OS/c14-8-4-9(23-6-8)12(22)18-5-11-20-19-10-3-7(13(15,16)17)1-2-21(10)11/h4,6-7H,1-3,5H2,(H,18,22)/t7-/m0/s1'\n",
      " 'InChI=1S/C21H29N5O/c27-21(20(19-8-4-5-9-19)18-6-2-1-3-7-18)25-13-10-24(11-14-25)12-15-26-17-22-16-23-26/h1-3,6-7,16-17,19-20H,4-5,8-15H2'\n",
      " 'InChI=1S/C38H42N4O9/c1-25(41-37(49)27-14-5-6-17-30(27)43)38(50)42(23-11-21-40-35(47)28-15-9-18-31(44)33(28)46)22-8-7-20-39-36(48)29-16-10-19-32(45)34(29)51-24-26-12-3-2-4-13-26/h2-6,9-10,12-19,25,43-46H,7-8,11,20-24H2,1H3,(H,39,48)(H,40,47)(H,41,49)/t25-/m0/s1']\n",
      "preds: ['InChI=1S/C18H10BrN3O/c19-15-7-3-1-5-12(15)10-13(11-20)17-21-16-9-6-4-8-14(16)18(23)22-17/h1-10H/b13-9+', 'InChI=1S/C22H23N5O2S/c1-16-7-8-19(20-9-5-11-23-20(18)20)30(28,29)26-14-10-15(12-15-26)21-24-23-19-6-2-3-13-26(19)21/h2-9,11,13,16H,10,12,14H2,1H3', 'InChI=1S/C13H13BrF3N5OS/c14-8-3-9(23-6-8)13(23)20-5-11-20-19-10-4-7(1-2-12(10)21)22-11(15)6-7/h3-4,7H,1-2,5-6H2,(H,18,23)/t7-/m1/s1', 'InChI=1S/C22H31N5O/c28-21(19-7-3-1-4-8-19)20-19-9-5-6-10-20(19)22(27)26-14-12-25(13-15-26)11-16-27-17-22-16-24-27/h2,5-6,9-10,17,19-20H,1,3-4,7-8,11-15H2', 'InChI=1S/C38H44N4O9/c1-25(39(43)42-33(23-39)33-22-26-14-8-9-18-30(26)43)35(44)40(23-10-11-20-43-33(43)28-15-6-7-16-31(28)44)33(26-40)36(45)41-21-12-22-44-33-23-26(2)13-17-32(31)46/h3-9,13-18,23,27,37,42,45H,10-12,19-22,26H2,1-2H3,(H,40,46)(H,41,45)/t29-/m0/s1']\n",
      "Epoch 1 - avg_train_loss: 0.5419  time: 13309s\n",
      "Epoch 1 - Score: 33.9139\n",
      "Epoch 1 - Save Best Score: 33.9139 Model\n",
      "Epoch: [2][0/7575] Data 4.496 (4.496) Elapsed 0m 5s (remain 755m 15s) Loss: 0.2830(0.2830) Encoder Grad: 0.1527  Decoder Grad: 0.1782  Encoder LR: 0.000427  Decoder LR: 0.001707  \n"
     ]
    },
    {
     "output_type": "error",
     "ename": "KeyboardInterrupt",
     "evalue": "",
     "traceback": [
      "\u001b[0;31m---------------------------------------------------------------------------\u001b[0m",
      "\u001b[0;31mKeyboardInterrupt\u001b[0m                         Traceback (most recent call last)",
      "\u001b[0;32m<ipython-input-19-c7bc734e5e35>\u001b[0m in \u001b[0;36m<module>\u001b[0;34m\u001b[0m\n\u001b[1;32m      1\u001b[0m \u001b[0;32mif\u001b[0m \u001b[0m__name__\u001b[0m \u001b[0;34m==\u001b[0m \u001b[0;34m'__main__'\u001b[0m\u001b[0;34m:\u001b[0m\u001b[0;34m\u001b[0m\u001b[0;34m\u001b[0m\u001b[0m\n\u001b[0;32m----> 2\u001b[0;31m     \u001b[0mmain\u001b[0m\u001b[0;34m(\u001b[0m\u001b[0;34m)\u001b[0m\u001b[0;34m\u001b[0m\u001b[0;34m\u001b[0m\u001b[0m\n\u001b[0m",
      "\u001b[0;32m<ipython-input-18-23983832dafd>\u001b[0m in \u001b[0;36mmain\u001b[0;34m()\u001b[0m\n\u001b[1;32m     13\u001b[0m         \u001b[0;32mfor\u001b[0m \u001b[0mfold\u001b[0m \u001b[0;32min\u001b[0m \u001b[0mrange\u001b[0m\u001b[0;34m(\u001b[0m\u001b[0mCFG\u001b[0m\u001b[0;34m.\u001b[0m\u001b[0mn_fold\u001b[0m\u001b[0;34m)\u001b[0m\u001b[0;34m:\u001b[0m\u001b[0;34m\u001b[0m\u001b[0;34m\u001b[0m\u001b[0m\n\u001b[1;32m     14\u001b[0m             \u001b[0;32mif\u001b[0m \u001b[0mfold\u001b[0m \u001b[0;32min\u001b[0m \u001b[0mCFG\u001b[0m\u001b[0;34m.\u001b[0m\u001b[0mtrn_fold\u001b[0m\u001b[0;34m:\u001b[0m\u001b[0;34m\u001b[0m\u001b[0;34m\u001b[0m\u001b[0m\n\u001b[0;32m---> 15\u001b[0;31m                 \u001b[0mtrain_loop\u001b[0m\u001b[0;34m(\u001b[0m\u001b[0mfolds\u001b[0m\u001b[0;34m,\u001b[0m \u001b[0mfold\u001b[0m\u001b[0;34m)\u001b[0m\u001b[0;34m\u001b[0m\u001b[0;34m\u001b[0m\u001b[0m\n\u001b[0m",
      "\u001b[0;32m<ipython-input-17-ba636627e6b3>\u001b[0m in \u001b[0;36mtrain_loop\u001b[0;34m(folds, fold)\u001b[0m\n\u001b[1;32m     75\u001b[0m \u001b[0;34m\u001b[0m\u001b[0m\n\u001b[1;32m     76\u001b[0m         \u001b[0;31m# train\u001b[0m\u001b[0;34m\u001b[0m\u001b[0;34m\u001b[0m\u001b[0;34m\u001b[0m\u001b[0m\n\u001b[0;32m---> 77\u001b[0;31m         avg_loss = train_fn(train_loader, encoder, decoder, criterion, \n\u001b[0m\u001b[1;32m     78\u001b[0m                             \u001b[0mencoder_optimizer\u001b[0m\u001b[0;34m,\u001b[0m \u001b[0mdecoder_optimizer\u001b[0m\u001b[0;34m,\u001b[0m \u001b[0mepoch\u001b[0m\u001b[0;34m,\u001b[0m\u001b[0;34m\u001b[0m\u001b[0;34m\u001b[0m\u001b[0m\n\u001b[1;32m     79\u001b[0m                             encoder_scheduler, decoder_scheduler, device)\n",
      "\u001b[0;32m<ipython-input-16-42f18d86176e>\u001b[0m in \u001b[0;36mtrain_fn\u001b[0;34m(train_loader, encoder, decoder, criterion, encoder_optimizer, decoder_optimizer, epoch, encoder_scheduler, decoder_scheduler, device)\u001b[0m\n\u001b[1;32m     63\u001b[0m             \u001b[0mloss\u001b[0m \u001b[0;34m=\u001b[0m \u001b[0mloss\u001b[0m \u001b[0;34m/\u001b[0m \u001b[0mCFG\u001b[0m\u001b[0;34m.\u001b[0m\u001b[0mgradient_accumulation_steps\u001b[0m\u001b[0;34m\u001b[0m\u001b[0;34m\u001b[0m\u001b[0m\n\u001b[1;32m     64\u001b[0m         \u001b[0mloss\u001b[0m\u001b[0;34m.\u001b[0m\u001b[0mbackward\u001b[0m\u001b[0;34m(\u001b[0m\u001b[0;34m)\u001b[0m\u001b[0;34m\u001b[0m\u001b[0;34m\u001b[0m\u001b[0m\n\u001b[0;32m---> 65\u001b[0;31m         \u001b[0mencoder_grad_norm\u001b[0m \u001b[0;34m=\u001b[0m \u001b[0mtorch\u001b[0m\u001b[0;34m.\u001b[0m\u001b[0mnn\u001b[0m\u001b[0;34m.\u001b[0m\u001b[0mutils\u001b[0m\u001b[0;34m.\u001b[0m\u001b[0mclip_grad_norm_\u001b[0m\u001b[0;34m(\u001b[0m\u001b[0mencoder\u001b[0m\u001b[0;34m.\u001b[0m\u001b[0mparameters\u001b[0m\u001b[0;34m(\u001b[0m\u001b[0;34m)\u001b[0m\u001b[0;34m,\u001b[0m \u001b[0mCFG\u001b[0m\u001b[0;34m.\u001b[0m\u001b[0mmax_grad_norm\u001b[0m\u001b[0;34m)\u001b[0m\u001b[0;34m\u001b[0m\u001b[0;34m\u001b[0m\u001b[0m\n\u001b[0m\u001b[1;32m     66\u001b[0m         \u001b[0mdecoder_grad_norm\u001b[0m \u001b[0;34m=\u001b[0m \u001b[0mtorch\u001b[0m\u001b[0;34m.\u001b[0m\u001b[0mnn\u001b[0m\u001b[0;34m.\u001b[0m\u001b[0mutils\u001b[0m\u001b[0;34m.\u001b[0m\u001b[0mclip_grad_norm_\u001b[0m\u001b[0;34m(\u001b[0m\u001b[0mdecoder\u001b[0m\u001b[0;34m.\u001b[0m\u001b[0mparameters\u001b[0m\u001b[0;34m(\u001b[0m\u001b[0;34m)\u001b[0m\u001b[0;34m,\u001b[0m \u001b[0mCFG\u001b[0m\u001b[0;34m.\u001b[0m\u001b[0mmax_grad_norm\u001b[0m\u001b[0;34m)\u001b[0m\u001b[0;34m\u001b[0m\u001b[0;34m\u001b[0m\u001b[0m\n\u001b[1;32m     67\u001b[0m         \u001b[0;32mif\u001b[0m \u001b[0;34m(\u001b[0m\u001b[0mstep\u001b[0m \u001b[0;34m+\u001b[0m \u001b[0;36m1\u001b[0m\u001b[0;34m)\u001b[0m \u001b[0;34m%\u001b[0m \u001b[0mCFG\u001b[0m\u001b[0;34m.\u001b[0m\u001b[0mgradient_accumulation_steps\u001b[0m \u001b[0;34m==\u001b[0m \u001b[0;36m0\u001b[0m\u001b[0;34m:\u001b[0m\u001b[0;34m\u001b[0m\u001b[0;34m\u001b[0m\u001b[0m\n",
      "\u001b[0;32m~/anaconda3/lib/python3.8/site-packages/torch/nn/utils/clip_grad.py\u001b[0m in \u001b[0;36mclip_grad_norm_\u001b[0;34m(parameters, max_norm, norm_type)\u001b[0m\n\u001b[1;32m     36\u001b[0m         \u001b[0mtotal_norm\u001b[0m \u001b[0;34m=\u001b[0m \u001b[0mtorch\u001b[0m\u001b[0;34m.\u001b[0m\u001b[0mnorm\u001b[0m\u001b[0;34m(\u001b[0m\u001b[0mtorch\u001b[0m\u001b[0;34m.\u001b[0m\u001b[0mstack\u001b[0m\u001b[0;34m(\u001b[0m\u001b[0;34m[\u001b[0m\u001b[0mtorch\u001b[0m\u001b[0;34m.\u001b[0m\u001b[0mnorm\u001b[0m\u001b[0;34m(\u001b[0m\u001b[0mp\u001b[0m\u001b[0;34m.\u001b[0m\u001b[0mgrad\u001b[0m\u001b[0;34m.\u001b[0m\u001b[0mdetach\u001b[0m\u001b[0;34m(\u001b[0m\u001b[0;34m)\u001b[0m\u001b[0;34m,\u001b[0m \u001b[0mnorm_type\u001b[0m\u001b[0;34m)\u001b[0m\u001b[0;34m.\u001b[0m\u001b[0mto\u001b[0m\u001b[0;34m(\u001b[0m\u001b[0mdevice\u001b[0m\u001b[0;34m)\u001b[0m \u001b[0;32mfor\u001b[0m \u001b[0mp\u001b[0m \u001b[0;32min\u001b[0m \u001b[0mparameters\u001b[0m\u001b[0;34m]\u001b[0m\u001b[0;34m)\u001b[0m\u001b[0;34m,\u001b[0m \u001b[0mnorm_type\u001b[0m\u001b[0;34m)\u001b[0m\u001b[0;34m\u001b[0m\u001b[0;34m\u001b[0m\u001b[0m\n\u001b[1;32m     37\u001b[0m     \u001b[0mclip_coef\u001b[0m \u001b[0;34m=\u001b[0m \u001b[0mmax_norm\u001b[0m \u001b[0;34m/\u001b[0m \u001b[0;34m(\u001b[0m\u001b[0mtotal_norm\u001b[0m \u001b[0;34m+\u001b[0m \u001b[0;36m1e-6\u001b[0m\u001b[0;34m)\u001b[0m\u001b[0;34m\u001b[0m\u001b[0;34m\u001b[0m\u001b[0m\n\u001b[0;32m---> 38\u001b[0;31m     \u001b[0;32mif\u001b[0m \u001b[0mclip_coef\u001b[0m \u001b[0;34m<\u001b[0m \u001b[0;36m1\u001b[0m\u001b[0;34m:\u001b[0m\u001b[0;34m\u001b[0m\u001b[0;34m\u001b[0m\u001b[0m\n\u001b[0m\u001b[1;32m     39\u001b[0m         \u001b[0;32mfor\u001b[0m \u001b[0mp\u001b[0m \u001b[0;32min\u001b[0m \u001b[0mparameters\u001b[0m\u001b[0;34m:\u001b[0m\u001b[0;34m\u001b[0m\u001b[0;34m\u001b[0m\u001b[0m\n\u001b[1;32m     40\u001b[0m             \u001b[0mp\u001b[0m\u001b[0;34m.\u001b[0m\u001b[0mgrad\u001b[0m\u001b[0;34m.\u001b[0m\u001b[0mdetach\u001b[0m\u001b[0;34m(\u001b[0m\u001b[0;34m)\u001b[0m\u001b[0;34m.\u001b[0m\u001b[0mmul_\u001b[0m\u001b[0;34m(\u001b[0m\u001b[0mclip_coef\u001b[0m\u001b[0;34m.\u001b[0m\u001b[0mto\u001b[0m\u001b[0;34m(\u001b[0m\u001b[0mp\u001b[0m\u001b[0;34m.\u001b[0m\u001b[0mgrad\u001b[0m\u001b[0;34m.\u001b[0m\u001b[0mdevice\u001b[0m\u001b[0;34m)\u001b[0m\u001b[0;34m)\u001b[0m\u001b[0;34m\u001b[0m\u001b[0;34m\u001b[0m\u001b[0m\n",
      "\u001b[0;31mKeyboardInterrupt\u001b[0m: "
     ]
    }
   ],
   "source": [
    "if __name__ == '__main__':\n",
    "    main()"
   ]
  },
  {
   "cell_type": "code",
   "execution_count": null,
   "metadata": {},
   "outputs": [],
   "source": []
  }
 ],
 "metadata": {
  "kernelspec": {
   "name": "python385jvsc74a57bd0ce8efb1f28dd4a0568a606b813efaa2aeaaae67617ecb5fd40574a9cea5029cb",
   "display_name": "Python 3.8.5 64-bit ('base': conda)"
  },
  "language_info": {
   "codemirror_mode": {
    "name": "ipython",
    "version": 3
   },
   "file_extension": ".py",
   "mimetype": "text/x-python",
   "name": "python",
   "nbconvert_exporter": "python",
   "pygments_lexer": "ipython3",
   "version": "3.8.5"
  },
  "metadata": {
   "interpreter": {
    "hash": "ce8efb1f28dd4a0568a606b813efaa2aeaaae67617ecb5fd40574a9cea5029cb"
   }
  }
 },
 "nbformat": 4,
 "nbformat_minor": 4
}